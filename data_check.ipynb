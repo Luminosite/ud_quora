{
 "cells": [
  {
   "cell_type": "code",
   "execution_count": 5,
   "metadata": {},
   "outputs": [
    {
     "name": "stderr",
     "output_type": "stream",
     "text": [
      "S:\\anaconda\\envs\\tf\\lib\\site-packages\\gensim\\utils.py:1197: UserWarning: detected Windows; aliasing chunkize to chunkize_serial\n",
      "  warnings.warn(\"detected Windows; aliasing chunkize to chunkize_serial\")\n",
      "S:\\anaconda\\envs\\tf\\lib\\site-packages\\fuzzywuzzy\\fuzz.py:11: UserWarning: Using slow pure-python SequenceMatcher. Install python-Levenshtein to remove this warning\n",
      "  warnings.warn('Using slow pure-python SequenceMatcher. Install python-Levenshtein to remove this warning')\n"
     ]
    },
    {
     "name": "stdout",
     "output_type": "stream",
     "text": [
      "read the data for transfered_dist_features_train\n",
      "data for transfered_dist_features_train read\n"
     ]
    }
   ],
   "source": [
    "import features as ft\n",
    "t_data = ft.gen_transfered_dist_feature()"
   ]
  },
  {
   "cell_type": "code",
   "execution_count": 6,
   "metadata": {},
   "outputs": [],
   "source": [
    "import pandas as pd\n",
    "import numpy as np\n",
    "from time import time\n",
    "\n",
    "from sklearn.ensemble import RandomForestClassifier, GradientBoostingClassifier\n",
    "from sklearn.linear_model import SGDClassifier, LogisticRegression\n",
    "from sklearn.model_selection import GridSearchCV\n",
    "from xgboost import XGBClassifier\n",
    "from lightgbm import LGBMClassifier\n",
    "\n",
    "from sklearn.preprocessing import OneHotEncoder\n",
    "from sklearn.metrics import log_loss\n",
    "\n",
    "from scipy.stats import skew, kurtosis\n",
    "from scipy.spatial.distance import cosine, cityblock, jaccard, canberra, euclidean, minkowski, braycurtis\n",
    "%matplotlib inline\n",
    "import matplotlib.pyplot as pl\n",
    "import matplotlib.patches as mpatches\n",
    "import numpy as np\n",
    "from IPython import get_ipython\n",
    "\n",
    "rand_number = 42"
   ]
  },
  {
   "cell_type": "code",
   "execution_count": 7,
   "metadata": {},
   "outputs": [],
   "source": [
    "def one_hot(y):\n",
    "    oc = OneHotEncoder(categories='auto')\n",
    "    y_r = y.reshape(-1,1)\n",
    "    oc.fit(y_r)\n",
    "    r = oc.transform(y_r).toarray()\n",
    "    return r\n",
    "\n",
    "\n",
    "def get_log_loss(y_true, y_pred):\n",
    "    y_p = one_hot(y_pred)\n",
    "    return log_loss(y_true, y_p)"
   ]
  },
  {
   "cell_type": "code",
   "execution_count": 8,
   "metadata": {},
   "outputs": [
    {
     "data": {
      "text/plain": [
       "164"
      ]
     },
     "execution_count": 8,
     "metadata": {},
     "output_type": "execute_result"
    }
   ],
   "source": [
    "out_features = ['question1', 'question2', 'is_duplicate']\n",
    "features = [x for x in t_data.columns if x not in out_features]\n",
    "len(features)"
   ]
  },
  {
   "cell_type": "code",
   "execution_count": 9,
   "metadata": {},
   "outputs": [],
   "source": [
    "t_data = t_data[t_data!=np.inf].dropna()\n",
    "feature_data = t_data.drop_duplicates(features, keep='last')\n",
    "input_data = feature_data[features]\n",
    "input_data = input_data.astype(np.float64)\n",
    "result = feature_data[['is_duplicate']]\n",
    "result = result.values.ravel()"
   ]
  },
  {
   "cell_type": "code",
   "execution_count": 10,
   "metadata": {},
   "outputs": [],
   "source": [
    "from sklearn.model_selection import train_test_split\n",
    "\n",
    "X_train, X_test, y_train, y_test = train_test_split(input_data, result, test_size = 0.2, random_state = 0,\n",
    "                                                    stratify = result)\n",
    "# X_train, X_val, y_train, y_val = train_test_split(X_train, y_train, test_size=0.2, random_state=0,\n",
    "#                                                     stratify = y_train)"
   ]
  },
  {
   "cell_type": "code",
   "execution_count": 11,
   "metadata": {},
   "outputs": [
    {
     "data": {
      "text/plain": [
       "((320910, 164), (80228, 164), (401138, 164))"
      ]
     },
     "execution_count": 11,
     "metadata": {},
     "output_type": "execute_result"
    }
   ],
   "source": [
    "X_train.shape, X_test.shape, input_data.shape"
   ]
  },
  {
   "cell_type": "code",
   "execution_count": 10,
   "metadata": {},
   "outputs": [
    {
     "name": "stderr",
     "output_type": "stream",
     "text": [
      "S:\\anaconda\\envs\\tf\\lib\\site-packages\\sklearn\\ensemble\\forest.py:246: FutureWarning: The default value of n_estimators will change from 10 in version 0.20 to 100 in 0.22.\n",
      "  \"10 in version 0.20 to 100 in 0.22.\", FutureWarning)\n"
     ]
    },
    {
     "name": "stdout",
     "output_type": "stream",
     "text": [
      "RandomForest training time cost: 61.46739077568054\n",
      "[0.3218065545504448, 7.736654915901431]\n",
      "GBDT training time cost: 643.6953117847443\n",
      "[8.178083962379752, 8.225281221034596]\n"
     ]
    },
    {
     "name": "stderr",
     "output_type": "stream",
     "text": [
      "S:\\anaconda\\envs\\tf\\lib\\site-packages\\sklearn\\linear_model\\logistic.py:433: FutureWarning: Default solver will be changed to 'lbfgs' in 0.22. Specify a solver to silence this warning.\n",
      "  FutureWarning)\n"
     ]
    },
    {
     "name": "stdout",
     "output_type": "stream",
     "text": [
      "LogsitcRegression training time cost: 306.7853162288666\n",
      "[8.930508585410578, 8.890415706876658]\n"
     ]
    },
    {
     "name": "stderr",
     "output_type": "stream",
     "text": [
      "S:\\anaconda\\envs\\tf\\lib\\site-packages\\sklearn\\linear_model\\stochastic_gradient.py:166: FutureWarning: max_iter and tol parameters have been added in SGDClassifier in 0.19. If both are left unset, they default to max_iter=5 and tol=None. If tol is not None, max_iter defaults to max_iter=1000. From 0.21, default max_iter will be 1000, and default tol will be 1e-3.\n",
      "  FutureWarning)\n"
     ]
    },
    {
     "name": "stdout",
     "output_type": "stream",
     "text": [
      "SGD training time cost: 1.9209864139556885\n",
      "[12.725242866460588, 12.724948305837987]\n",
      "XGBoost training time cost: 445.6298062801361\n",
      "[8.306698956589713, 8.35443354838257]\n",
      "lightGBM training time cost: 56.26741313934326\n",
      "[7.0712416189025795, 7.3164793442626905]\n"
     ]
    }
   ],
   "source": [
    "rf_clf = RandomForestClassifier(random_state=rand_number)\n",
    "gbdt_clf = GradientBoostingClassifier(random_state=rand_number)\n",
    "lr_clf = LogisticRegression(random_state=rand_number)\n",
    "sgd_clf = SGDClassifier(random_state=rand_number)\n",
    "xgb_clf = XGBClassifier(random_state=rand_number)\n",
    "lgb_clf = LGBMClassifier(random_state=rand_number)\n",
    "\n",
    "models=[(rf_clf, \"RandomForest\"), (gbdt_clf, \"GBDT\"), (lr_clf, \"LogsitcRegression\"), (sgd_clf, \"SGD\"), \n",
    "        (xgb_clf, \"XGBoost\"), \n",
    "        (lgb_clf, \"lightGBM\")\n",
    "       ]\n",
    "\n",
    "for t in models:\n",
    "    model, name = t\n",
    "    t_start = time()\n",
    "    model.fit(X_train, y_train)\n",
    "    t_end = time()\n",
    "    y_predprob = model.predict(X_train)\n",
    "    print(name, \"training time cost:\", (t_end-t_start))\n",
    "    y_t = model.predict(X_test)\n",
    "    res = [\n",
    "#         roc_auc_score(y_train, y_predprob), roc_auc_score(y_test, y_t), \n",
    "#            fbeta_score(y_train, y_predprob, beta=1), fbeta_score(y_test, y_t, beta=1),\n",
    "#            accuracy_score(y_train, y_predprob), accuracy_score(y_test, y_t),\n",
    "           get_log_loss(y_train, y_predprob), get_log_loss(y_test, y_t)\n",
    "          ]\n",
    "    print(res)"
   ]
  },
  {
   "cell_type": "code",
   "execution_count": null,
   "metadata": {
    "scrolled": true
   },
   "outputs": [],
   "source": [
    "param_test1 = {'n_estimators': range(50, 151, 10)}\n",
    "\n",
    "clf = RandomForestClassifier(min_samples_split=100, min_samples_leaf=20, max_depth=8, max_features='sqrt',\n",
    "                             random_state=rand_number)\n",
    "gs1 = GridSearchCV(estimator=clf, param_grid=param_test1, scoring=acc_score, cv=5)\n",
    "\n",
    "gs1.fit(X_train, y_train)\n",
    "print(gs1.best_params_, gs1.best_score_)"
   ]
  },
  {
   "cell_type": "code",
   "execution_count": 73,
   "metadata": {},
   "outputs": [
    {
     "name": "stdout",
     "output_type": "stream",
     "text": [
      "{'max_depth': 20, 'min_samples_split': 50} 0.8200496188909583\n"
     ]
    }
   ],
   "source": [
    "param_test2 = {'max_depth': range(5, 31, 5), 'min_samples_split': range(50, 201, 20)}\n",
    "\n",
    "clf = RandomForestClassifier(n_estimators=90, min_samples_leaf=20, max_features='sqrt',\n",
    "                             random_state=rand_number)\n",
    "gs2 = GridSearchCV(estimator=clf, param_grid=param_test2, scoring=acc_score, cv=5)\n",
    "gs2.fit(X_train, y_train)\n",
    "\n",
    "print(gs2.best_params_, gs2.best_score_)"
   ]
  },
  {
   "cell_type": "code",
   "execution_count": 75,
   "metadata": {},
   "outputs": [
    {
     "name": "stdout",
     "output_type": "stream",
     "text": [
      "{'min_samples_split': 10} 0.8206039677424468\n"
     ]
    }
   ],
   "source": [
    "param_test2 = {'min_samples_split': range(10, 91, 20)}\n",
    "\n",
    "clf = RandomForestClassifier(n_estimators=90, min_samples_leaf=20, max_depth=20, max_features='sqrt',\n",
    "                             random_state=rand_number)\n",
    "gs2 = GridSearchCV(estimator=clf, param_grid=param_test2, scoring=acc_score, cv=5)\n",
    "gs2.fit(X_train, y_train)\n",
    "\n",
    "print(gs2.best_params_, gs2.best_score_)"
   ]
  },
  {
   "cell_type": "code",
   "execution_count": 76,
   "metadata": {},
   "outputs": [
    {
     "name": "stdout",
     "output_type": "stream",
     "text": [
      "{'max_features': 'auto', 'min_samples_leaf': 10} 0.8226951317190692\n"
     ]
    }
   ],
   "source": [
    "param_test3={'min_samples_leaf': range(10,61,10), 'max_features': ['auto', 'sqrt', 'log2']}\n",
    "clf = RandomForestClassifier(n_estimators=90, max_depth=20, min_samples_split=30,\n",
    "                             random_state=rand_number)\n",
    "gs = GridSearchCV(estimator=clf, param_grid=param_test3, scoring=acc_score, cv=5)\n",
    "gs.fit(X_train, y_train)\n",
    "\n",
    "print(gs.best_params_, gs.best_score_)"
   ]
  },
  {
   "cell_type": "markdown",
   "metadata": {},
   "source": [
    "## Tuned RandomForestClassifier"
   ]
  },
  {
   "cell_type": "code",
   "execution_count": 81,
   "metadata": {},
   "outputs": [
    {
     "name": "stdout",
     "output_type": "stream",
     "text": [
      "fit\n",
      "train data: 0.843806\n",
      "test data: 0.734875\n"
     ]
    }
   ],
   "source": [
    "from sklearn.metrics import roc_auc_score\n",
    "\n",
    "rf_clf = RandomForestClassifier(n_estimators=90, max_depth=20, min_samples_split=30, max_features=\"auto\",\n",
    "                             min_samples_leaf=10, random_state=rand_number)\n",
    "rf_clf.fit(X_train, y_train)\n",
    "print(\"fit\")\n",
    "y_train_prob = rf_clf.predict(X_train)\n",
    "y_val_prob = rf_clf.predict(X_val)\n",
    "print(\"train data: %f\" % roc_auc_score(y_train, y_train_prob))\n",
    "print(\"test data: %f\" % roc_auc_score(y_val, y_val_prob))"
   ]
  },
  {
   "cell_type": "code",
   "execution_count": 27,
   "metadata": {},
   "outputs": [
    {
     "name": "stdout",
     "output_type": "stream",
     "text": [
      "acc: 0.7348\n",
      "auc: 0.819812\n"
     ]
    }
   ],
   "source": [
    "from sklearn.ensemble import GradientBoostingClassifier\n",
    "from sklearn.metrics import accuracy_score\n",
    "\n",
    "gb = GradientBoostingClassifier(random_state=rand_number)\n",
    "gb.fit(X_train, y_train)\n",
    "y_pred = gb.predict(X_train)\n",
    "y_predprob = gb.predict_proba(X_train)[:, 1]\n",
    "print(\"acc: %.4g\" % metrics.accuracy_score(y_train, y_pred))\n",
    "print(\"auc: %f\" % roc_auc_score(y_train, y_predprob))"
   ]
  },
  {
   "cell_type": "code",
   "execution_count": null,
   "metadata": {},
   "outputs": [],
   "source": [
    "param_test1 = {'n_estimators': range(50, 151, 10), 'learning_rate': [0.1, 0.3, 0.5, 0.7, 0.9]}\n",
    "gb_clf = GradientBoostingClassifier(min_samples_split=300, min_samples_leaf=20,\n",
    "                                    max_depth=8,max_features='sqrt', subsample=0.8,random_state=rand_number)\n",
    "gs = GridSearchCV(estimator=gb_clf, param_grid=param_test1, scoring=acc_score, cv=5)\n",
    "gs.fit(X_train, y_train)\n",
    "\n",
    "print(gs.best_params_, gs.best_score_)"
   ]
  },
  {
   "cell_type": "code",
   "execution_count": null,
   "metadata": {},
   "outputs": [],
   "source": [
    "gb_clf=GradientBoostingClassifier(n_estimators=140, learning_rate=0.1, min_samples_split=300, min_samples_leaf=20,\n",
    "                                    max_depth=8,max_features='sqrt', subsample=0.8,random_state=rand_number)\n",
    "gb_clf.fit(X_train, y_train)\n",
    "y_pred = gb_clf.predict(X_train)\n",
    "from sklearn.metrics import roc_auc_score\n",
    "print(roc_auc_score(y_train, y_pred))"
   ]
  },
  {
   "cell_type": "code",
   "execution_count": null,
   "metadata": {},
   "outputs": [],
   "source": [
    "gb_clf = GradientBoostingClassifier(n_estimators=150, learning_rate=0.1, min_samples_split=300, min_samples_leaf=20,\n",
    "                                    max_depth=8,max_features='sqrt', subsample=0.8,random_state=rand_number)\n",
    "gb_clf.fit(X_train, y_train)\n",
    "y_pred = gb_clf.predict(X_train)\n",
    "from sklearn.metrics import roc_auc_score\n",
    "print(roc_auc_score(y_train, y_pred))"
   ]
  },
  {
   "cell_type": "code",
   "execution_count": 89,
   "metadata": {},
   "outputs": [
    {
     "name": "stdout",
     "output_type": "stream",
     "text": [
      "{'n_estimators': 140} 0.8291098557564647\n"
     ]
    }
   ],
   "source": [
    "param_test1 = {'n_estimators': range(50, 151, 10)}\n",
    "gb_clf = GradientBoostingClassifier(learning_rate=0.1, min_samples_split=300, min_samples_leaf=20,\n",
    "                                    max_depth=8,max_features='sqrt', subsample=0.8,random_state=rand_number)\n",
    "gs = GridSearchCV(estimator=gb_clf, param_grid=param_test1, scoring=acc_score, cv=5)\n",
    "gs.fit(X_train, y_train)\n",
    "\n",
    "print(gs.best_params_, gs.best_score_)"
   ]
  },
  {
   "cell_type": "code",
   "execution_count": 93,
   "metadata": {},
   "outputs": [
    {
     "name": "stdout",
     "output_type": "stream",
     "text": [
      "{'max_depth': 14, 'min_samples_split': 550} 0.8294779041590764\n"
     ]
    }
   ],
   "source": [
    "param_test2 = {'max_depth':range(5,24,3), 'min_samples_split':range(50,801,100)}\n",
    "gb_clf = GradientBoostingClassifier(learning_rate=0.1, n_estimators=140, min_samples_leaf=20,\n",
    "                                    max_features='sqrt', subsample=0.8,random_state=rand_number)\n",
    "gs = GridSearchCV(estimator=gb_clf, param_grid=param_test2, scoring=acc_score, cv=5)\n",
    "gs.fit(X_train, y_train)\n",
    "\n",
    "print(gs.best_params_, gs.best_score_)"
   ]
  },
  {
   "cell_type": "code",
   "execution_count": 95,
   "metadata": {},
   "outputs": [
    {
     "name": "stdout",
     "output_type": "stream",
     "text": [
      "{'min_samples_leaf': 20} 0.8294779041590764\n"
     ]
    }
   ],
   "source": [
    "param_test3 = {'min_samples_leaf': range(10, 51, 10)}\n",
    "gb_clf = GradientBoostingClassifier(learning_rate=0.1, n_estimators=140, max_depth=14, min_samples_split=550,\n",
    "                                    max_features='sqrt', subsample=0.8,random_state=rand_number)\n",
    "gs = GridSearchCV(estimator=gb_clf, param_grid=param_test3, scoring=acc_score, cv=5)\n",
    "gs.fit(X_train, y_train)\n",
    "\n",
    "print(gs.best_params_, gs.best_score_)"
   ]
  },
  {
   "cell_type": "code",
   "execution_count": 96,
   "metadata": {},
   "outputs": [
    {
     "name": "stdout",
     "output_type": "stream",
     "text": [
      "{'subsample': 0.9} 0.8285314765894741\n"
     ]
    }
   ],
   "source": [
    "param_test4 = {'subsample':[0.6,0.7,0.75,0.8,0.85,0.9]}\n",
    "gb_clf = GradientBoostingClassifier(learning_rate=0.1, n_estimators=140, max_depth=14, min_samples_split=550,\n",
    "                                    max_features='sqrt', random_state=rand_number)\n",
    "gs = GridSearchCV(estimator=gb_clf, param_grid=param_test4, scoring=acc_score, cv=5)\n",
    "gs.fit(X_train, y_train)\n",
    "\n",
    "print(gs.best_params_, gs.best_score_)"
   ]
  },
  {
   "cell_type": "markdown",
   "metadata": {},
   "source": [
    "## Tuned GBDT"
   ]
  },
  {
   "cell_type": "code",
   "execution_count": 97,
   "metadata": {},
   "outputs": [
    {
     "name": "stdout",
     "output_type": "stream",
     "text": [
      "acc: 0.8838\n",
      "auc: 0.953512\n"
     ]
    }
   ],
   "source": [
    "gb_clf = GradientBoostingClassifier(learning_rate=0.1, n_estimators=140, max_depth=14, min_samples_split=550,\n",
    "                                    max_features='sqrt', subsample=0.85, random_state=rand_number)\n",
    "\n",
    "gb_clf.fit(X_train, y_train)\n",
    "y_pred = gb_clf.predict(X_train)\n",
    "y_predprob = gb_clf.predict_proba(X_train)[:, 1]\n",
    "print(\"acc: %.4g\" % metrics.accuracy_score(y_train, y_pred))\n",
    "print(\"auc: %f\" % roc_auc_score(y_train, y_predprob))"
   ]
  },
  {
   "cell_type": "code",
   "execution_count": 7,
   "metadata": {},
   "outputs": [
    {
     "ename": "NameError",
     "evalue": "name 'gs' is not defined",
     "output_type": "error",
     "traceback": [
      "\u001b[0;31m---------------------------------------------------------------------------\u001b[0m",
      "\u001b[0;31mNameError\u001b[0m                                 Traceback (most recent call last)",
      "\u001b[0;32m<ipython-input-7-0b0792c3b254>\u001b[0m in \u001b[0;36m<module>\u001b[0;34m\u001b[0m\n\u001b[1;32m      2\u001b[0m \u001b[0mgrid\u001b[0m \u001b[0;34m=\u001b[0m \u001b[0mGridSearchCV\u001b[0m\u001b[0;34m(\u001b[0m\u001b[0mSVC\u001b[0m\u001b[0;34m(\u001b[0m\u001b[0;34m)\u001b[0m\u001b[0;34m,\u001b[0m \u001b[0mparam_grid\u001b[0m\u001b[0;34m=\u001b[0m\u001b[0;34m{\u001b[0m\u001b[0;34m\"C\"\u001b[0m\u001b[0;34m:\u001b[0m\u001b[0;34m[\u001b[0m\u001b[0;36m0.1\u001b[0m\u001b[0;34m,\u001b[0m \u001b[0;36m1\u001b[0m\u001b[0;34m,\u001b[0m \u001b[0;36m10\u001b[0m\u001b[0;34m]\u001b[0m\u001b[0;34m,\u001b[0m \u001b[0;34m\"gamma\"\u001b[0m\u001b[0;34m:\u001b[0m \u001b[0;34m[\u001b[0m\u001b[0;36m1\u001b[0m\u001b[0;34m,\u001b[0m \u001b[0;36m0.1\u001b[0m\u001b[0;34m,\u001b[0m \u001b[0;36m0.01\u001b[0m\u001b[0;34m]\u001b[0m\u001b[0;34m}\u001b[0m\u001b[0;34m,\u001b[0m \u001b[0mscoring\u001b[0m\u001b[0;34m=\u001b[0m\u001b[0;34m'roc_auc'\u001b[0m\u001b[0;34m,\u001b[0m \u001b[0mcv\u001b[0m\u001b[0;34m=\u001b[0m\u001b[0;36m5\u001b[0m\u001b[0;34m)\u001b[0m\u001b[0;34m\u001b[0m\u001b[0m\n\u001b[1;32m      3\u001b[0m \u001b[0mgrid\u001b[0m\u001b[0;34m.\u001b[0m\u001b[0mfit\u001b[0m\u001b[0;34m(\u001b[0m\u001b[0mX_train\u001b[0m\u001b[0;34m,\u001b[0m \u001b[0my_train\u001b[0m\u001b[0;34m)\u001b[0m\u001b[0;34m\u001b[0m\u001b[0m\n\u001b[0;32m----> 4\u001b[0;31m \u001b[0mprint\u001b[0m\u001b[0;34m(\u001b[0m\u001b[0mgs\u001b[0m\u001b[0;34m.\u001b[0m\u001b[0mbest_params_\u001b[0m\u001b[0;34m,\u001b[0m \u001b[0mgs\u001b[0m\u001b[0;34m.\u001b[0m\u001b[0mbest_score_\u001b[0m\u001b[0;34m)\u001b[0m\u001b[0;34m\u001b[0m\u001b[0m\n\u001b[0m",
      "\u001b[0;31mNameError\u001b[0m: name 'gs' is not defined"
     ]
    }
   ],
   "source": [
    "from sklearn.svm import SVC\n",
    "t_start=time()\n",
    "grid = GridSearchCV(SVC(), param_grid={\"C\":[0.1, 1, 10], \"gamma\": [1, 0.1, 0.01]}, scoring=acc_score, cv=5)\n",
    "grid.fit(X_train, y_train)\n",
    "t_end = time()\n",
    "print(\"time cost for SVC: %f\" % (t_end-t_start))"
   ]
  },
  {
   "cell_type": "code",
   "execution_count": 8,
   "metadata": {},
   "outputs": [
    {
     "name": "stdout",
     "output_type": "stream",
     "text": [
      "{'gamma': 0.01, 'C': 0.1} 0.7557437907863541\n"
     ]
    }
   ],
   "source": [
    "print(grid.best_params_, grid.best_score_)"
   ]
  },
  {
   "cell_type": "code",
   "execution_count": 10,
   "metadata": {},
   "outputs": [],
   "source": [
    "import pickle\n",
    "weak_svm_file = open(\"data/weak_svm.pkl\", \"wb\")\n",
    "pickle.dump(grid.best_estimator_, weak_svm_file)"
   ]
  },
  {
   "cell_type": "code",
   "execution_count": 11,
   "metadata": {},
   "outputs": [],
   "source": [
    "from sklearn.linear_model import SGDClassifier\n",
    "from sklearn.linear_model import LogisticRegression"
   ]
  },
  {
   "cell_type": "code",
   "execution_count": 14,
   "metadata": {},
   "outputs": [
    {
     "name": "stdout",
     "output_type": "stream",
     "text": [
      "{'penalty': 'l1', 'solver': 'liblinear'} 0.7517425509949806\n"
     ]
    }
   ],
   "source": [
    "param_test_last1 = {\"penalty\": [\"l1\"], \"solver\": ['liblinear']}\n",
    "param_test_last2 = {\"penalty\": [\"l2\"], \"solver\": ['newton-cg', 'lbfgs', 'liblinear', 'sag']}\n",
    "rl_clf = LogisticRegression()\n",
    "gs = GridSearchCV(estimator=rl_clf, param_grid=param_test_last1, scoring='roc_auc', cv=5)\n",
    "gs.fit(X_train, y_train)\n",
    "\n",
    "print(gs.best_params_, gs.best_score_)"
   ]
  },
  {
   "cell_type": "code",
   "execution_count": 15,
   "metadata": {},
   "outputs": [
    {
     "name": "stderr",
     "output_type": "stream",
     "text": [
      "/Users/kunfu/miniconda2/envs/tf/lib/python3.5/site-packages/sklearn/utils/optimize.py:203: ConvergenceWarning: newton-cg failed to converge. Increase the number of iterations.\n",
      "  \"number of iterations.\", ConvergenceWarning)\n",
      "/Users/kunfu/miniconda2/envs/tf/lib/python3.5/site-packages/sklearn/utils/optimize.py:203: ConvergenceWarning: newton-cg failed to converge. Increase the number of iterations.\n",
      "  \"number of iterations.\", ConvergenceWarning)\n",
      "/Users/kunfu/miniconda2/envs/tf/lib/python3.5/site-packages/sklearn/utils/optimize.py:203: ConvergenceWarning: newton-cg failed to converge. Increase the number of iterations.\n",
      "  \"number of iterations.\", ConvergenceWarning)\n",
      "/Users/kunfu/miniconda2/envs/tf/lib/python3.5/site-packages/sklearn/utils/optimize.py:203: ConvergenceWarning: newton-cg failed to converge. Increase the number of iterations.\n",
      "  \"number of iterations.\", ConvergenceWarning)\n",
      "/Users/kunfu/miniconda2/envs/tf/lib/python3.5/site-packages/sklearn/utils/optimize.py:203: ConvergenceWarning: newton-cg failed to converge. Increase the number of iterations.\n",
      "  \"number of iterations.\", ConvergenceWarning)\n",
      "/Users/kunfu/miniconda2/envs/tf/lib/python3.5/site-packages/sklearn/linear_model/logistic.py:758: ConvergenceWarning: lbfgs failed to converge. Increase the number of iterations.\n",
      "  \"of iterations.\", ConvergenceWarning)\n",
      "/Users/kunfu/miniconda2/envs/tf/lib/python3.5/site-packages/sklearn/linear_model/logistic.py:758: ConvergenceWarning: lbfgs failed to converge. Increase the number of iterations.\n",
      "  \"of iterations.\", ConvergenceWarning)\n",
      "/Users/kunfu/miniconda2/envs/tf/lib/python3.5/site-packages/sklearn/linear_model/logistic.py:758: ConvergenceWarning: lbfgs failed to converge. Increase the number of iterations.\n",
      "  \"of iterations.\", ConvergenceWarning)\n",
      "/Users/kunfu/miniconda2/envs/tf/lib/python3.5/site-packages/sklearn/linear_model/logistic.py:758: ConvergenceWarning: lbfgs failed to converge. Increase the number of iterations.\n",
      "  \"of iterations.\", ConvergenceWarning)\n",
      "/Users/kunfu/miniconda2/envs/tf/lib/python3.5/site-packages/sklearn/linear_model/logistic.py:758: ConvergenceWarning: lbfgs failed to converge. Increase the number of iterations.\n",
      "  \"of iterations.\", ConvergenceWarning)\n",
      "/Users/kunfu/miniconda2/envs/tf/lib/python3.5/site-packages/sklearn/linear_model/sag.py:334: ConvergenceWarning: The max_iter was reached which means the coef_ did not converge\n",
      "  \"the coef_ did not converge\", ConvergenceWarning)\n",
      "/Users/kunfu/miniconda2/envs/tf/lib/python3.5/site-packages/sklearn/linear_model/sag.py:334: ConvergenceWarning: The max_iter was reached which means the coef_ did not converge\n",
      "  \"the coef_ did not converge\", ConvergenceWarning)\n",
      "/Users/kunfu/miniconda2/envs/tf/lib/python3.5/site-packages/sklearn/linear_model/sag.py:334: ConvergenceWarning: The max_iter was reached which means the coef_ did not converge\n",
      "  \"the coef_ did not converge\", ConvergenceWarning)\n",
      "/Users/kunfu/miniconda2/envs/tf/lib/python3.5/site-packages/sklearn/linear_model/sag.py:334: ConvergenceWarning: The max_iter was reached which means the coef_ did not converge\n",
      "  \"the coef_ did not converge\", ConvergenceWarning)\n",
      "/Users/kunfu/miniconda2/envs/tf/lib/python3.5/site-packages/sklearn/linear_model/sag.py:334: ConvergenceWarning: The max_iter was reached which means the coef_ did not converge\n",
      "  \"the coef_ did not converge\", ConvergenceWarning)\n"
     ]
    },
    {
     "name": "stdout",
     "output_type": "stream",
     "text": [
      "{'penalty': 'l2', 'solver': 'newton-cg'} 0.7520229551402433\n"
     ]
    },
    {
     "name": "stderr",
     "output_type": "stream",
     "text": [
      "/Users/kunfu/miniconda2/envs/tf/lib/python3.5/site-packages/sklearn/utils/optimize.py:203: ConvergenceWarning: newton-cg failed to converge. Increase the number of iterations.\n",
      "  \"number of iterations.\", ConvergenceWarning)\n"
     ]
    }
   ],
   "source": [
    "rl_clf = LogisticRegression()\n",
    "gs = GridSearchCV(estimator=rl_clf, param_grid=param_test_last2, scoring='roc_auc', cv=5)\n",
    "gs.fit(X_train, y_train)\n",
    "\n",
    "print(gs.best_params_, gs.best_score_)"
   ]
  },
  {
   "cell_type": "code",
   "execution_count": 22,
   "metadata": {},
   "outputs": [],
   "source": [
    "def grid_search(clf, param_dict):\n",
    "    grid_search_cv = GridSearchCV(estimator=clf, param_grid=param_dict, scoring='roc_auc', cv=5)\n",
    "    grid_search_cv.fit(X_train, y_train)\n",
    "    print(grid_search_cv.best_params_, grid_search_cv.best_score_)\n",
    "    return grid_search_cv"
   ]
  },
  {
   "cell_type": "code",
   "execution_count": 24,
   "metadata": {},
   "outputs": [
    {
     "name": "stdout",
     "output_type": "stream",
     "text": [
      "{'C': 1} 0.7520229551402433\n"
     ]
    }
   ],
   "source": [
    "rl_clf = LogisticRegression(penalty='l2', solver='newton-cg', n_jobs=5)\n",
    "gs = grid_search(rl_clf, {\"C\": [0.01,0.1,1,5,10,15]})"
   ]
  },
  {
   "cell_type": "markdown",
   "metadata": {},
   "source": [
    "## RL Tuned"
   ]
  },
  {
   "cell_type": "code",
   "execution_count": 27,
   "metadata": {},
   "outputs": [
    {
     "name": "stdout",
     "output_type": "stream",
     "text": [
      "acc: 0.6768\n",
      "auc: 0.753525\n"
     ]
    }
   ],
   "source": [
    "gb_clf = LogisticRegression(penalty='l2', solver='newton-cg', n_jobs=5, C=1)\n",
    "\n",
    "gb_clf.fit(X_train, y_train)\n",
    "y_pred = gb_clf.predict(X_train)\n",
    "y_predprob = gb_clf.predict_proba(X_train)[:, 1]\n",
    "print(\"acc: %.4g\" % metrics.accuracy_score(y_train, y_pred))\n",
    "print(\"auc: %f\" % roc_auc_score(y_train, y_predprob))"
   ]
  },
  {
   "cell_type": "code",
   "execution_count": 41,
   "metadata": {},
   "outputs": [
    {
     "name": "stderr",
     "output_type": "stream",
     "text": [
      "/Users/kunfu/miniconda2/envs/tf/lib/python3.5/site-packages/sklearn/linear_model/stochastic_gradient.py:603: ConvergenceWarning: Maximum number of iteration reached before convergence. Consider increasing max_iter to improve the fit.\n",
      "  ConvergenceWarning)\n",
      "/Users/kunfu/miniconda2/envs/tf/lib/python3.5/site-packages/sklearn/linear_model/stochastic_gradient.py:603: ConvergenceWarning: Maximum number of iteration reached before convergence. Consider increasing max_iter to improve the fit.\n",
      "  ConvergenceWarning)\n",
      "/Users/kunfu/miniconda2/envs/tf/lib/python3.5/site-packages/sklearn/linear_model/stochastic_gradient.py:603: ConvergenceWarning: Maximum number of iteration reached before convergence. Consider increasing max_iter to improve the fit.\n",
      "  ConvergenceWarning)\n",
      "/Users/kunfu/miniconda2/envs/tf/lib/python3.5/site-packages/sklearn/linear_model/stochastic_gradient.py:603: ConvergenceWarning: Maximum number of iteration reached before convergence. Consider increasing max_iter to improve the fit.\n",
      "  ConvergenceWarning)\n",
      "/Users/kunfu/miniconda2/envs/tf/lib/python3.5/site-packages/sklearn/linear_model/stochastic_gradient.py:603: ConvergenceWarning: Maximum number of iteration reached before convergence. Consider increasing max_iter to improve the fit.\n",
      "  ConvergenceWarning)\n",
      "/Users/kunfu/miniconda2/envs/tf/lib/python3.5/site-packages/sklearn/linear_model/stochastic_gradient.py:603: ConvergenceWarning: Maximum number of iteration reached before convergence. Consider increasing max_iter to improve the fit.\n",
      "  ConvergenceWarning)\n",
      "/Users/kunfu/miniconda2/envs/tf/lib/python3.5/site-packages/sklearn/linear_model/stochastic_gradient.py:603: ConvergenceWarning: Maximum number of iteration reached before convergence. Consider increasing max_iter to improve the fit.\n",
      "  ConvergenceWarning)\n",
      "/Users/kunfu/miniconda2/envs/tf/lib/python3.5/site-packages/sklearn/linear_model/stochastic_gradient.py:603: ConvergenceWarning: Maximum number of iteration reached before convergence. Consider increasing max_iter to improve the fit.\n",
      "  ConvergenceWarning)\n",
      "/Users/kunfu/miniconda2/envs/tf/lib/python3.5/site-packages/sklearn/linear_model/stochastic_gradient.py:603: ConvergenceWarning: Maximum number of iteration reached before convergence. Consider increasing max_iter to improve the fit.\n",
      "  ConvergenceWarning)\n",
      "/Users/kunfu/miniconda2/envs/tf/lib/python3.5/site-packages/sklearn/linear_model/stochastic_gradient.py:603: ConvergenceWarning: Maximum number of iteration reached before convergence. Consider increasing max_iter to improve the fit.\n",
      "  ConvergenceWarning)\n",
      "/Users/kunfu/miniconda2/envs/tf/lib/python3.5/site-packages/sklearn/linear_model/stochastic_gradient.py:603: ConvergenceWarning: Maximum number of iteration reached before convergence. Consider increasing max_iter to improve the fit.\n",
      "  ConvergenceWarning)\n",
      "/Users/kunfu/miniconda2/envs/tf/lib/python3.5/site-packages/sklearn/linear_model/stochastic_gradient.py:603: ConvergenceWarning: Maximum number of iteration reached before convergence. Consider increasing max_iter to improve the fit.\n",
      "  ConvergenceWarning)\n",
      "/Users/kunfu/miniconda2/envs/tf/lib/python3.5/site-packages/sklearn/linear_model/stochastic_gradient.py:603: ConvergenceWarning: Maximum number of iteration reached before convergence. Consider increasing max_iter to improve the fit.\n",
      "  ConvergenceWarning)\n",
      "/Users/kunfu/miniconda2/envs/tf/lib/python3.5/site-packages/sklearn/linear_model/stochastic_gradient.py:603: ConvergenceWarning: Maximum number of iteration reached before convergence. Consider increasing max_iter to improve the fit.\n",
      "  ConvergenceWarning)\n",
      "/Users/kunfu/miniconda2/envs/tf/lib/python3.5/site-packages/sklearn/linear_model/stochastic_gradient.py:603: ConvergenceWarning: Maximum number of iteration reached before convergence. Consider increasing max_iter to improve the fit.\n",
      "  ConvergenceWarning)\n",
      "/Users/kunfu/miniconda2/envs/tf/lib/python3.5/site-packages/sklearn/linear_model/stochastic_gradient.py:603: ConvergenceWarning: Maximum number of iteration reached before convergence. Consider increasing max_iter to improve the fit.\n",
      "  ConvergenceWarning)\n",
      "/Users/kunfu/miniconda2/envs/tf/lib/python3.5/site-packages/sklearn/linear_model/stochastic_gradient.py:603: ConvergenceWarning: Maximum number of iteration reached before convergence. Consider increasing max_iter to improve the fit.\n",
      "  ConvergenceWarning)\n",
      "/Users/kunfu/miniconda2/envs/tf/lib/python3.5/site-packages/sklearn/linear_model/stochastic_gradient.py:603: ConvergenceWarning: Maximum number of iteration reached before convergence. Consider increasing max_iter to improve the fit.\n",
      "  ConvergenceWarning)\n",
      "/Users/kunfu/miniconda2/envs/tf/lib/python3.5/site-packages/sklearn/linear_model/stochastic_gradient.py:603: ConvergenceWarning: Maximum number of iteration reached before convergence. Consider increasing max_iter to improve the fit.\n",
      "  ConvergenceWarning)\n",
      "/Users/kunfu/miniconda2/envs/tf/lib/python3.5/site-packages/sklearn/linear_model/stochastic_gradient.py:603: ConvergenceWarning: Maximum number of iteration reached before convergence. Consider increasing max_iter to improve the fit.\n",
      "  ConvergenceWarning)\n",
      "/Users/kunfu/miniconda2/envs/tf/lib/python3.5/site-packages/sklearn/linear_model/stochastic_gradient.py:603: ConvergenceWarning: Maximum number of iteration reached before convergence. Consider increasing max_iter to improve the fit.\n",
      "  ConvergenceWarning)\n",
      "/Users/kunfu/miniconda2/envs/tf/lib/python3.5/site-packages/sklearn/linear_model/stochastic_gradient.py:603: ConvergenceWarning: Maximum number of iteration reached before convergence. Consider increasing max_iter to improve the fit.\n",
      "  ConvergenceWarning)\n",
      "/Users/kunfu/miniconda2/envs/tf/lib/python3.5/site-packages/sklearn/linear_model/stochastic_gradient.py:603: ConvergenceWarning: Maximum number of iteration reached before convergence. Consider increasing max_iter to improve the fit.\n",
      "  ConvergenceWarning)\n",
      "/Users/kunfu/miniconda2/envs/tf/lib/python3.5/site-packages/sklearn/linear_model/stochastic_gradient.py:603: ConvergenceWarning: Maximum number of iteration reached before convergence. Consider increasing max_iter to improve the fit.\n",
      "  ConvergenceWarning)\n",
      "/Users/kunfu/miniconda2/envs/tf/lib/python3.5/site-packages/sklearn/linear_model/stochastic_gradient.py:603: ConvergenceWarning: Maximum number of iteration reached before convergence. Consider increasing max_iter to improve the fit.\n",
      "  ConvergenceWarning)\n",
      "/Users/kunfu/miniconda2/envs/tf/lib/python3.5/site-packages/sklearn/linear_model/stochastic_gradient.py:603: ConvergenceWarning: Maximum number of iteration reached before convergence. Consider increasing max_iter to improve the fit.\n",
      "  ConvergenceWarning)\n",
      "/Users/kunfu/miniconda2/envs/tf/lib/python3.5/site-packages/sklearn/linear_model/stochastic_gradient.py:603: ConvergenceWarning: Maximum number of iteration reached before convergence. Consider increasing max_iter to improve the fit.\n",
      "  ConvergenceWarning)\n",
      "/Users/kunfu/miniconda2/envs/tf/lib/python3.5/site-packages/sklearn/linear_model/stochastic_gradient.py:603: ConvergenceWarning: Maximum number of iteration reached before convergence. Consider increasing max_iter to improve the fit.\n",
      "  ConvergenceWarning)\n",
      "/Users/kunfu/miniconda2/envs/tf/lib/python3.5/site-packages/sklearn/linear_model/stochastic_gradient.py:603: ConvergenceWarning: Maximum number of iteration reached before convergence. Consider increasing max_iter to improve the fit.\n",
      "  ConvergenceWarning)\n",
      "/Users/kunfu/miniconda2/envs/tf/lib/python3.5/site-packages/sklearn/linear_model/stochastic_gradient.py:603: ConvergenceWarning: Maximum number of iteration reached before convergence. Consider increasing max_iter to improve the fit.\n",
      "  ConvergenceWarning)\n",
      "/Users/kunfu/miniconda2/envs/tf/lib/python3.5/site-packages/sklearn/linear_model/stochastic_gradient.py:603: ConvergenceWarning: Maximum number of iteration reached before convergence. Consider increasing max_iter to improve the fit.\n",
      "  ConvergenceWarning)\n",
      "/Users/kunfu/miniconda2/envs/tf/lib/python3.5/site-packages/sklearn/linear_model/stochastic_gradient.py:603: ConvergenceWarning: Maximum number of iteration reached before convergence. Consider increasing max_iter to improve the fit.\n",
      "  ConvergenceWarning)\n",
      "/Users/kunfu/miniconda2/envs/tf/lib/python3.5/site-packages/sklearn/linear_model/stochastic_gradient.py:603: ConvergenceWarning: Maximum number of iteration reached before convergence. Consider increasing max_iter to improve the fit.\n",
      "  ConvergenceWarning)\n"
     ]
    },
    {
     "name": "stderr",
     "output_type": "stream",
     "text": [
      "/Users/kunfu/miniconda2/envs/tf/lib/python3.5/site-packages/sklearn/linear_model/stochastic_gradient.py:603: ConvergenceWarning: Maximum number of iteration reached before convergence. Consider increasing max_iter to improve the fit.\n",
      "  ConvergenceWarning)\n",
      "/Users/kunfu/miniconda2/envs/tf/lib/python3.5/site-packages/sklearn/linear_model/stochastic_gradient.py:603: ConvergenceWarning: Maximum number of iteration reached before convergence. Consider increasing max_iter to improve the fit.\n",
      "  ConvergenceWarning)\n",
      "/Users/kunfu/miniconda2/envs/tf/lib/python3.5/site-packages/sklearn/linear_model/stochastic_gradient.py:603: ConvergenceWarning: Maximum number of iteration reached before convergence. Consider increasing max_iter to improve the fit.\n",
      "  ConvergenceWarning)\n",
      "/Users/kunfu/miniconda2/envs/tf/lib/python3.5/site-packages/sklearn/linear_model/stochastic_gradient.py:603: ConvergenceWarning: Maximum number of iteration reached before convergence. Consider increasing max_iter to improve the fit.\n",
      "  ConvergenceWarning)\n",
      "/Users/kunfu/miniconda2/envs/tf/lib/python3.5/site-packages/sklearn/linear_model/stochastic_gradient.py:603: ConvergenceWarning: Maximum number of iteration reached before convergence. Consider increasing max_iter to improve the fit.\n",
      "  ConvergenceWarning)\n",
      "/Users/kunfu/miniconda2/envs/tf/lib/python3.5/site-packages/sklearn/linear_model/stochastic_gradient.py:603: ConvergenceWarning: Maximum number of iteration reached before convergence. Consider increasing max_iter to improve the fit.\n",
      "  ConvergenceWarning)\n",
      "/Users/kunfu/miniconda2/envs/tf/lib/python3.5/site-packages/sklearn/linear_model/stochastic_gradient.py:603: ConvergenceWarning: Maximum number of iteration reached before convergence. Consider increasing max_iter to improve the fit.\n",
      "  ConvergenceWarning)\n",
      "/Users/kunfu/miniconda2/envs/tf/lib/python3.5/site-packages/sklearn/linear_model/stochastic_gradient.py:603: ConvergenceWarning: Maximum number of iteration reached before convergence. Consider increasing max_iter to improve the fit.\n",
      "  ConvergenceWarning)\n",
      "/Users/kunfu/miniconda2/envs/tf/lib/python3.5/site-packages/sklearn/linear_model/stochastic_gradient.py:603: ConvergenceWarning: Maximum number of iteration reached before convergence. Consider increasing max_iter to improve the fit.\n",
      "  ConvergenceWarning)\n",
      "/Users/kunfu/miniconda2/envs/tf/lib/python3.5/site-packages/sklearn/linear_model/stochastic_gradient.py:603: ConvergenceWarning: Maximum number of iteration reached before convergence. Consider increasing max_iter to improve the fit.\n",
      "  ConvergenceWarning)\n",
      "/Users/kunfu/miniconda2/envs/tf/lib/python3.5/site-packages/sklearn/linear_model/stochastic_gradient.py:603: ConvergenceWarning: Maximum number of iteration reached before convergence. Consider increasing max_iter to improve the fit.\n",
      "  ConvergenceWarning)\n",
      "/Users/kunfu/miniconda2/envs/tf/lib/python3.5/site-packages/sklearn/linear_model/stochastic_gradient.py:603: ConvergenceWarning: Maximum number of iteration reached before convergence. Consider increasing max_iter to improve the fit.\n",
      "  ConvergenceWarning)\n"
     ]
    },
    {
     "name": "stdout",
     "output_type": "stream",
     "text": [
      "{'loss': 'modified_huber'} 0.7234262421741824\n"
     ]
    },
    {
     "name": "stderr",
     "output_type": "stream",
     "text": [
      "/Users/kunfu/miniconda2/envs/tf/lib/python3.5/site-packages/sklearn/linear_model/stochastic_gradient.py:603: ConvergenceWarning: Maximum number of iteration reached before convergence. Consider increasing max_iter to improve the fit.\n",
      "  ConvergenceWarning)\n"
     ]
    }
   ],
   "source": [
    "from sklearn.linear_model import SGDClassifier\n",
    "sgd_clf = SGDClassifier(max_iter=100, tol=0.01, n_jobs=5, random_state=rand_number)\n",
    "gs = grid_search(sgd_clf, {\"loss\": [\"hinge\", \"log\", \"modified_huber\", \"squared_hinge\", \"perceptron\", 'squared_loss'\n",
    "                                    , 'huber', 'epsilon_insensitive', 'squared_epsilon_insensitive']})"
   ]
  },
  {
   "cell_type": "code",
   "execution_count": 42,
   "metadata": {},
   "outputs": [
    {
     "name": "stderr",
     "output_type": "stream",
     "text": [
      "/Users/kunfu/miniconda2/envs/tf/lib/python3.5/site-packages/sklearn/linear_model/stochastic_gradient.py:603: ConvergenceWarning: Maximum number of iteration reached before convergence. Consider increasing max_iter to improve the fit.\n",
      "  ConvergenceWarning)\n",
      "/Users/kunfu/miniconda2/envs/tf/lib/python3.5/site-packages/sklearn/linear_model/stochastic_gradient.py:603: ConvergenceWarning: Maximum number of iteration reached before convergence. Consider increasing max_iter to improve the fit.\n",
      "  ConvergenceWarning)\n",
      "/Users/kunfu/miniconda2/envs/tf/lib/python3.5/site-packages/sklearn/linear_model/stochastic_gradient.py:603: ConvergenceWarning: Maximum number of iteration reached before convergence. Consider increasing max_iter to improve the fit.\n",
      "  ConvergenceWarning)\n",
      "/Users/kunfu/miniconda2/envs/tf/lib/python3.5/site-packages/sklearn/linear_model/stochastic_gradient.py:603: ConvergenceWarning: Maximum number of iteration reached before convergence. Consider increasing max_iter to improve the fit.\n",
      "  ConvergenceWarning)\n",
      "/Users/kunfu/miniconda2/envs/tf/lib/python3.5/site-packages/sklearn/linear_model/stochastic_gradient.py:603: ConvergenceWarning: Maximum number of iteration reached before convergence. Consider increasing max_iter to improve the fit.\n",
      "  ConvergenceWarning)\n",
      "/Users/kunfu/miniconda2/envs/tf/lib/python3.5/site-packages/sklearn/linear_model/stochastic_gradient.py:603: ConvergenceWarning: Maximum number of iteration reached before convergence. Consider increasing max_iter to improve the fit.\n",
      "  ConvergenceWarning)\n",
      "/Users/kunfu/miniconda2/envs/tf/lib/python3.5/site-packages/sklearn/linear_model/stochastic_gradient.py:603: ConvergenceWarning: Maximum number of iteration reached before convergence. Consider increasing max_iter to improve the fit.\n",
      "  ConvergenceWarning)\n",
      "/Users/kunfu/miniconda2/envs/tf/lib/python3.5/site-packages/sklearn/linear_model/stochastic_gradient.py:603: ConvergenceWarning: Maximum number of iteration reached before convergence. Consider increasing max_iter to improve the fit.\n",
      "  ConvergenceWarning)\n",
      "/Users/kunfu/miniconda2/envs/tf/lib/python3.5/site-packages/sklearn/linear_model/stochastic_gradient.py:603: ConvergenceWarning: Maximum number of iteration reached before convergence. Consider increasing max_iter to improve the fit.\n",
      "  ConvergenceWarning)\n",
      "/Users/kunfu/miniconda2/envs/tf/lib/python3.5/site-packages/sklearn/linear_model/stochastic_gradient.py:603: ConvergenceWarning: Maximum number of iteration reached before convergence. Consider increasing max_iter to improve the fit.\n",
      "  ConvergenceWarning)\n"
     ]
    },
    {
     "name": "stdout",
     "output_type": "stream",
     "text": [
      "{'penalty': 'l1'} 0.7444832363524034\n"
     ]
    },
    {
     "name": "stderr",
     "output_type": "stream",
     "text": [
      "/Users/kunfu/miniconda2/envs/tf/lib/python3.5/site-packages/sklearn/linear_model/stochastic_gradient.py:603: ConvergenceWarning: Maximum number of iteration reached before convergence. Consider increasing max_iter to improve the fit.\n",
      "  ConvergenceWarning)\n"
     ]
    }
   ],
   "source": [
    "sgd_clf = SGDClassifier(loss=\"modified_huber\", max_iter=100, tol=0.01, n_jobs=5, random_state=rand_number)\n",
    "gs = grid_search(sgd_clf, {\"penalty\": ['l2', 'l1', 'elasticnet']})"
   ]
  },
  {
   "cell_type": "code",
   "execution_count": 45,
   "metadata": {},
   "outputs": [
    {
     "name": "stderr",
     "output_type": "stream",
     "text": [
      "/Users/kunfu/miniconda2/envs/tf/lib/python3.5/site-packages/sklearn/linear_model/stochastic_gradient.py:603: ConvergenceWarning: Maximum number of iteration reached before convergence. Consider increasing max_iter to improve the fit.\n",
      "  ConvergenceWarning)\n",
      "/Users/kunfu/miniconda2/envs/tf/lib/python3.5/site-packages/sklearn/linear_model/stochastic_gradient.py:603: ConvergenceWarning: Maximum number of iteration reached before convergence. Consider increasing max_iter to improve the fit.\n",
      "  ConvergenceWarning)\n",
      "/Users/kunfu/miniconda2/envs/tf/lib/python3.5/site-packages/sklearn/linear_model/stochastic_gradient.py:603: ConvergenceWarning: Maximum number of iteration reached before convergence. Consider increasing max_iter to improve the fit.\n",
      "  ConvergenceWarning)\n",
      "/Users/kunfu/miniconda2/envs/tf/lib/python3.5/site-packages/sklearn/linear_model/stochastic_gradient.py:603: ConvergenceWarning: Maximum number of iteration reached before convergence. Consider increasing max_iter to improve the fit.\n",
      "  ConvergenceWarning)\n",
      "/Users/kunfu/miniconda2/envs/tf/lib/python3.5/site-packages/sklearn/linear_model/stochastic_gradient.py:603: ConvergenceWarning: Maximum number of iteration reached before convergence. Consider increasing max_iter to improve the fit.\n",
      "  ConvergenceWarning)\n",
      "/Users/kunfu/miniconda2/envs/tf/lib/python3.5/site-packages/sklearn/linear_model/stochastic_gradient.py:603: ConvergenceWarning: Maximum number of iteration reached before convergence. Consider increasing max_iter to improve the fit.\n",
      "  ConvergenceWarning)\n",
      "/Users/kunfu/miniconda2/envs/tf/lib/python3.5/site-packages/sklearn/linear_model/stochastic_gradient.py:603: ConvergenceWarning: Maximum number of iteration reached before convergence. Consider increasing max_iter to improve the fit.\n",
      "  ConvergenceWarning)\n",
      "/Users/kunfu/miniconda2/envs/tf/lib/python3.5/site-packages/sklearn/linear_model/stochastic_gradient.py:603: ConvergenceWarning: Maximum number of iteration reached before convergence. Consider increasing max_iter to improve the fit.\n",
      "  ConvergenceWarning)\n",
      "/Users/kunfu/miniconda2/envs/tf/lib/python3.5/site-packages/sklearn/linear_model/stochastic_gradient.py:603: ConvergenceWarning: Maximum number of iteration reached before convergence. Consider increasing max_iter to improve the fit.\n",
      "  ConvergenceWarning)\n",
      "/Users/kunfu/miniconda2/envs/tf/lib/python3.5/site-packages/sklearn/linear_model/stochastic_gradient.py:603: ConvergenceWarning: Maximum number of iteration reached before convergence. Consider increasing max_iter to improve the fit.\n",
      "  ConvergenceWarning)\n",
      "/Users/kunfu/miniconda2/envs/tf/lib/python3.5/site-packages/sklearn/linear_model/stochastic_gradient.py:603: ConvergenceWarning: Maximum number of iteration reached before convergence. Consider increasing max_iter to improve the fit.\n",
      "  ConvergenceWarning)\n",
      "/Users/kunfu/miniconda2/envs/tf/lib/python3.5/site-packages/sklearn/linear_model/stochastic_gradient.py:603: ConvergenceWarning: Maximum number of iteration reached before convergence. Consider increasing max_iter to improve the fit.\n",
      "  ConvergenceWarning)\n",
      "/Users/kunfu/miniconda2/envs/tf/lib/python3.5/site-packages/sklearn/linear_model/stochastic_gradient.py:603: ConvergenceWarning: Maximum number of iteration reached before convergence. Consider increasing max_iter to improve the fit.\n",
      "  ConvergenceWarning)\n",
      "/Users/kunfu/miniconda2/envs/tf/lib/python3.5/site-packages/sklearn/linear_model/stochastic_gradient.py:603: ConvergenceWarning: Maximum number of iteration reached before convergence. Consider increasing max_iter to improve the fit.\n",
      "  ConvergenceWarning)\n",
      "/Users/kunfu/miniconda2/envs/tf/lib/python3.5/site-packages/sklearn/linear_model/stochastic_gradient.py:603: ConvergenceWarning: Maximum number of iteration reached before convergence. Consider increasing max_iter to improve the fit.\n",
      "  ConvergenceWarning)\n",
      "/Users/kunfu/miniconda2/envs/tf/lib/python3.5/site-packages/sklearn/linear_model/stochastic_gradient.py:603: ConvergenceWarning: Maximum number of iteration reached before convergence. Consider increasing max_iter to improve the fit.\n",
      "  ConvergenceWarning)\n",
      "/Users/kunfu/miniconda2/envs/tf/lib/python3.5/site-packages/sklearn/linear_model/stochastic_gradient.py:603: ConvergenceWarning: Maximum number of iteration reached before convergence. Consider increasing max_iter to improve the fit.\n",
      "  ConvergenceWarning)\n",
      "/Users/kunfu/miniconda2/envs/tf/lib/python3.5/site-packages/sklearn/linear_model/stochastic_gradient.py:603: ConvergenceWarning: Maximum number of iteration reached before convergence. Consider increasing max_iter to improve the fit.\n",
      "  ConvergenceWarning)\n",
      "/Users/kunfu/miniconda2/envs/tf/lib/python3.5/site-packages/sklearn/linear_model/stochastic_gradient.py:603: ConvergenceWarning: Maximum number of iteration reached before convergence. Consider increasing max_iter to improve the fit.\n",
      "  ConvergenceWarning)\n",
      "/Users/kunfu/miniconda2/envs/tf/lib/python3.5/site-packages/sklearn/linear_model/stochastic_gradient.py:603: ConvergenceWarning: Maximum number of iteration reached before convergence. Consider increasing max_iter to improve the fit.\n",
      "  ConvergenceWarning)\n",
      "/Users/kunfu/miniconda2/envs/tf/lib/python3.5/site-packages/sklearn/linear_model/stochastic_gradient.py:603: ConvergenceWarning: Maximum number of iteration reached before convergence. Consider increasing max_iter to improve the fit.\n",
      "  ConvergenceWarning)\n",
      "/Users/kunfu/miniconda2/envs/tf/lib/python3.5/site-packages/sklearn/linear_model/stochastic_gradient.py:603: ConvergenceWarning: Maximum number of iteration reached before convergence. Consider increasing max_iter to improve the fit.\n",
      "  ConvergenceWarning)\n",
      "/Users/kunfu/miniconda2/envs/tf/lib/python3.5/site-packages/sklearn/linear_model/stochastic_gradient.py:603: ConvergenceWarning: Maximum number of iteration reached before convergence. Consider increasing max_iter to improve the fit.\n",
      "  ConvergenceWarning)\n",
      "/Users/kunfu/miniconda2/envs/tf/lib/python3.5/site-packages/sklearn/linear_model/stochastic_gradient.py:603: ConvergenceWarning: Maximum number of iteration reached before convergence. Consider increasing max_iter to improve the fit.\n",
      "  ConvergenceWarning)\n",
      "/Users/kunfu/miniconda2/envs/tf/lib/python3.5/site-packages/sklearn/linear_model/stochastic_gradient.py:603: ConvergenceWarning: Maximum number of iteration reached before convergence. Consider increasing max_iter to improve the fit.\n",
      "  ConvergenceWarning)\n"
     ]
    },
    {
     "name": "stdout",
     "output_type": "stream",
     "text": [
      "{'tol': 0.0001, 'max_iter': 100} 0.7444832363524034\n"
     ]
    },
    {
     "name": "stderr",
     "output_type": "stream",
     "text": [
      "/Users/kunfu/miniconda2/envs/tf/lib/python3.5/site-packages/sklearn/linear_model/stochastic_gradient.py:603: ConvergenceWarning: Maximum number of iteration reached before convergence. Consider increasing max_iter to improve the fit.\n",
      "  ConvergenceWarning)\n"
     ]
    }
   ],
   "source": [
    "sgd_clf = SGDClassifier(penalty='l1', loss=\"modified_huber\", n_jobs=5, random_state=rand_number)\n",
    "gs = grid_search(sgd_clf, {\"max_iter\": [50, 100, 200, 300, 400, 500], \"tol\": [0.0001, 0.001, 0.01, 0.1, 0.00001]})"
   ]
  },
  {
   "cell_type": "markdown",
   "metadata": {},
   "source": [
    "## SGD Tuned"
   ]
  },
  {
   "cell_type": "code",
   "execution_count": 46,
   "metadata": {},
   "outputs": [
    {
     "name": "stdout",
     "output_type": "stream",
     "text": [
      "acc: 0.6433\n",
      "auc: 0.538745\n"
     ]
    },
    {
     "name": "stderr",
     "output_type": "stream",
     "text": [
      "/Users/kunfu/miniconda2/envs/tf/lib/python3.5/site-packages/sklearn/linear_model/stochastic_gradient.py:603: ConvergenceWarning: Maximum number of iteration reached before convergence. Consider increasing max_iter to improve the fit.\n",
      "  ConvergenceWarning)\n"
     ]
    }
   ],
   "source": [
    "gb_clf = SGDClassifier(max_iter=100, tol=0.0001, penalty='l1', loss=\"modified_huber\"\n",
    "                       , n_jobs=5, random_state=rand_number)\n",
    "\n",
    "gb_clf.fit(X_train, y_train)\n",
    "y_pred = gb_clf.predict(X_train)\n",
    "y_predprob = gb_clf.predict_proba(X_train)[:, 1]\n",
    "print(\"acc: %.4g\" % metrics.accuracy_score(y_train, y_pred))\n",
    "print(\"auc: %f\" % roc_auc_score(y_train, y_predprob))"
   ]
  },
  {
   "cell_type": "markdown",
   "metadata": {},
   "source": [
    "## Visualize and Select Model"
   ]
  },
  {
   "cell_type": "code",
   "execution_count": 110,
   "metadata": {},
   "outputs": [],
   "source": [
    "def show_tables(results):\n",
    "    m_num = len(results.keys())\n",
    "    data_set = [\"train\", \"test\"]\n",
    "    metric_set = ['accuracy', 'f1-score']\n",
    "    \n",
    "    # Create figure\n",
    "    fig, ax = pl.subplots(1, m_num, figsize=(15, 5))\n",
    "\n",
    "    # Constants\n",
    "    bar_width = 0.4\n",
    "    colors = ['#A00000', '#ff0000', '#00A0A0', '#00ffff']\n",
    "\n",
    "    # Super loop to plot four panels of data\n",
    "    for k, learner in enumerate(results.keys()):\n",
    "        for m_num, metric in enumerate(metric_set):\n",
    "            for i, set_name in enumerate(data_set):\n",
    "                # Creative plot code\n",
    "                ax[k].bar(m_num*1.4 + i*bar_width + 0.6,\n",
    "                          results[learner][set_name][metric],\n",
    "                          width=bar_width, color=colors[m_num*2 + i])\n",
    "        ax[k].set_xticks([0.8, 2.2])\n",
    "        ax[k].set_xticklabels(metric_set)\n",
    "        ax[k].set_xlabel(\"{l} on {t}\".format(l=learner, t=set_name))\n",
    "        ax[k].set_xlim((0, 3))\n",
    "        ax[k].set_ylim((0, 1))\n",
    "\n",
    "    # Create patches for the legend\n",
    "    patches = []\n",
    "    for m_num, metric_s in enumerate(metric_set):\n",
    "        for i, data_s in enumerate(data_set):\n",
    "            patches.append(mpatches.Patch(color=colors[m_num*2 + i], label=\"%s of %s\" % (metric_s, data_s)))\n",
    "    pl.legend(handles=patches, bbox_to_anchor=(0, 1.2),\n",
    "              loc='upper center', borderaxespad=0., ncol=2, fontsize='x-large')\n",
    "\n",
    "    # Aesthetics\n",
    "    pl.suptitle(\"Performance Metrics for Three Supervised Learning Models\", fontsize=16, y=1.10)\n",
    "    pl.subplots_adjust(top=0.85, bottom=0., left=0.10, right=0.95, hspace=0.3, wspace=0.35)\n",
    "    pl.show()"
   ]
  },
  {
   "cell_type": "code",
   "execution_count": 112,
   "metadata": {},
   "outputs": [],
   "source": [
    "# show_tables({ \"m_a\":{\"train\":{\"f1-score\": 0.2, \"accuracy\": 0.3}\n",
    "#                     ,\"test\": {\"f1-score\": 0.19, \"accuracy\": 0.29}}\n",
    "#              ,\"m_b\":{\"train\":{\"f1-score\": 0.2, \"accuracy\": 0.3}\n",
    "#                     ,\"test\": {\"f1-score\": 0.18, \"accuracy\": 0.27}}\n",
    "#              ,\"m_c\":{\"train\":{\"f1-score\": 0.2, \"accuracy\": 0.3}\n",
    "#                     ,\"test\": {\"f1-score\": 0.18, \"accuracy\": 0.27}}\n",
    "#             })"
   ]
  },
  {
   "cell_type": "code",
   "execution_count": 3,
   "metadata": {},
   "outputs": [],
   "source": [
    "import features as ft\n",
    "import numpy as np\n",
    "\n",
    "def prepare_train_data(n=0):\n",
    "    t_data = ft.gen_feature()\n",
    "    features = ['len_q1', 'len_q2', 'diff_len', 'len_char_q1', 'len_char_q2', 'len_word_q1', 'len_word_q2',\n",
    "           'common_words', 'fuzz_qratio', 'fuzz_WRatio', 'fuzz_partial_ratio',\n",
    "           'fuzz_partial_token_set_ratio', 'fuzz_partial_token_sort_ratio',\n",
    "           'fuzz_token_set_ratio', 'fuzz_token_sort_ratio', 'wmd', 'norm_wmd',\n",
    "           'cosine_distance', 'cityblock_distance', 'jaccard_distance',\n",
    "           'canberra_distance', 'euclidean_distance', 'minkowski_distance',\n",
    "           'braycurtis_distance', 'skew_q1vec', 'skew_q2vec', 'kur_q1vec',\n",
    "           'kur_q2vec']\n",
    "    feature_data = t_data\n",
    "    if(n>0):\n",
    "        feature_data = t_data[:n]\n",
    "    input_data = feature_data[features]\n",
    "    input_data = input_data.replace([np.inf, -np.inf], 100).fillna(0).astype(np.float64)\n",
    "    result = feature_data[['is_duplicate']]\n",
    "    result = result.values.ravel()\n",
    "    return input_data, result"
   ]
  },
  {
   "cell_type": "code",
   "execution_count": 4,
   "metadata": {},
   "outputs": [
    {
     "name": "stderr",
     "output_type": "stream",
     "text": [
      "2019-01-15 19:04:01,427 - DEBUG - read the data for dist_features_train\n",
      "2019-01-15 19:04:04,622 - DEBUG - data for dist_features_train read\n"
     ]
    }
   ],
   "source": [
    "from sklearn.model_selection import train_test_split\n",
    "input_data, result = prepare_train_data()\n",
    "X_train, X_test, y_train, y_test = train_test_split(input_data, result, test_size = 0.2, random_state = 0,\n",
    "                                                    stratify = result)\n",
    "X_train, X_val, y_train, y_val = train_test_split(X_train, y_train, test_size=0.2, random_state=0,\n",
    "                                                    stratify = y_train)"
   ]
  },
  {
   "cell_type": "code",
   "execution_count": 7,
   "metadata": {},
   "outputs": [],
   "source": [
    "rf_clf = RandomForestClassifier(n_estimators=90, max_depth=20, min_samples_split=30, max_features=\"auto\",\n",
    "                             min_samples_leaf=10, random_state=rand_number)\n",
    "gbdt_clf = GradientBoostingClassifier(learning_rate=0.1, n_estimators=140, max_depth=14, min_samples_split=550,\n",
    "                                    max_features='sqrt', subsample=0.85, random_state=rand_number)\n",
    "lr_clf = LogisticRegression(penalty='l2', solver='newton-cg', n_jobs=5, C=1)\n",
    "sgd_clf = SGDClassifier(max_iter=100, tol=0.0001, penalty='l1', loss=\"modified_huber\"\n",
    "                       , n_jobs=5, random_state=rand_number)\n",
    "lgb_clf = LGBMClassifier(n_jobs=8, max_depth=20, num_leaves=50, learning_rate=0.1, lambda_l1=0.3,lambda_l2=8)"
   ]
  },
  {
   "cell_type": "code",
   "execution_count": 8,
   "metadata": {},
   "outputs": [
    {
     "name": "stdout",
     "output_type": "stream",
     "text": [
      "start train RandomForest\n",
      "time cost for model RandomForest: 72.870410\n",
      "start test RandomForest\n",
      "start train GBDT\n",
      "time cost for model GBDT: 224.975881\n",
      "start test GBDT\n",
      "start train LogsitcRegression\n",
      "time cost for model LogsitcRegression: 96.735463\n",
      "start test LogsitcRegression\n",
      "start train SGD\n",
      "time cost for model SGD: 7.289494\n",
      "start test SGD\n",
      "train_test done\n"
     ]
    },
    {
     "name": "stderr",
     "output_type": "stream",
     "text": [
      "/Users/kunfu/miniconda2/envs/tf/lib/python3.5/site-packages/sklearn/linear_model/stochastic_gradient.py:603: ConvergenceWarning: Maximum number of iteration reached before convergence. Consider increasing max_iter to improve the fit.\n",
      "  ConvergenceWarning)\n"
     ]
    }
   ],
   "source": [
    "models=[(rf_clf, \"RandomForest\"), (gbdt_clf, \"GBDT\"), (lr_clf, \"LogsitcRegression\"), (sgd_clf, \"SGD\")]\n",
    "def train_test_models(l):\n",
    "    result = {}\n",
    "    for clf, name in l:\n",
    "        print(\"start train %s\" % name)\n",
    "        train_dict = {}\n",
    "        t_start = time()\n",
    "        clf.fit(X_train, y_train)\n",
    "        t_end = time()\n",
    "        print(\"time cost for model %s: %f\" % (name, (t_end - t_start)))\n",
    "        y_train_pred = clf.predict(X_train)\n",
    "        train_dict[\"accuracy\"] = accuracy_score(y_train, y_train_pred)\n",
    "        train_dict[\"f1-score\"] = fbeta_score(y_train, y_train_pred, beta=1)\n",
    "        print(\"start test %s\" % name)\n",
    "        test_dict = {}\n",
    "        y_test_pred = clf.predict(X_test)\n",
    "        test_dict[\"accuracy\"] = accuracy_score(y_test, y_test_pred)\n",
    "        test_dict[\"f1-score\"] = fbeta_score(y_test, y_test_pred, beta=1)\n",
    "        result[name] = {\"train\": train_dict, \"test\": test_dict}\n",
    "    print(\"train_test done\")\n",
    "    return result\n",
    "performance_result = train_test_models(models)"
   ]
  },
  {
   "cell_type": "code",
   "execution_count": 120,
   "metadata": {},
   "outputs": [
    {
     "name": "stderr",
     "output_type": "stream",
     "text": [
      "2019-01-15 14:56:38,420 - DEBUG - update_title_pos\n",
      "2019-01-15 14:56:38,445 - DEBUG - update_title_pos\n",
      "2019-01-15 14:56:38,465 - DEBUG - update_title_pos\n",
      "2019-01-15 14:56:38,486 - DEBUG - update_title_pos\n",
      "2019-01-15 14:56:38,601 - DEBUG - update_title_pos\n",
      "2019-01-15 14:56:38,623 - DEBUG - update_title_pos\n",
      "2019-01-15 14:56:38,647 - DEBUG - update_title_pos\n",
      "2019-01-15 14:56:38,672 - DEBUG - update_title_pos\n",
      "2019-01-15 14:56:38,735 - DEBUG - update_title_pos\n",
      "2019-01-15 14:56:38,753 - DEBUG - update_title_pos\n",
      "2019-01-15 14:56:38,773 - DEBUG - update_title_pos\n",
      "2019-01-15 14:56:38,795 - DEBUG - update_title_pos\n",
      "2019-01-15 14:56:38,828 - DEBUG - update_title_pos\n",
      "2019-01-15 14:56:38,853 - DEBUG - update_title_pos\n",
      "2019-01-15 14:56:38,878 - DEBUG - update_title_pos\n",
      "2019-01-15 14:56:38,899 - DEBUG - update_title_pos\n"
     ]
    },
    {
     "data": {
      "image/png": "[encoded data removed]",
      "text/plain": [
       "<Figure size 1080x360 with 4 Axes>"
      ]
     },
     "metadata": {
      "needs_background": "light"
     },
     "output_type": "display_data"
    }
   ],
   "source": [
    "show_tables(performance_result)"
   ]
  },
  {
   "cell_type": "code",
   "execution_count": 22,
   "metadata": {},
   "outputs": [
    {
     "name": "stdout",
     "output_type": "stream",
     "text": [
      "{'LogsitcRegression': {'train': {'f1-score': 0.5780675818373813, 'accuracy': 0.6821696177158402}, 'test': {'f1-score': 0.5784203174175742, 'accuracy': 0.6812090359529113}}, 'RandomForest': {'train': {'f1-score': 0.7920917987183946, 'accuracy': 0.8335401454047948}, 'test': {'f1-score': 0.6919929307242823, 'accuracy': 0.7538020999045498}}, 'SGD': {'train': {'f1-score': 0.6495222405271829, 'accuracy': 0.6615599993636552}, 'test': {'f1-score': 0.6481995188199255, 'accuracy': 0.6594463888005091}}, 'GBDT': {'train': {'f1-score': 0.7939010391800331, 'accuracy': 0.838614995466043}, 'test': {'f1-score': 0.7016492239898908, 'accuracy': 0.7656251988545976}}}\n"
     ]
    }
   ],
   "source": [
    "print(performance_result)"
   ]
  },
  {
   "cell_type": "code",
   "execution_count": 6,
   "metadata": {},
   "outputs": [
    {
     "data": {
      "text/plain": [
       "GradientBoostingClassifier(criterion='friedman_mse', init=None,\n",
       "              learning_rate=0.1, loss='deviance', max_depth=14,\n",
       "              max_features='sqrt', max_leaf_nodes=None,\n",
       "              min_impurity_decrease=0.0, min_impurity_split=None,\n",
       "              min_samples_leaf=1, min_samples_split=550,\n",
       "              min_weight_fraction_leaf=0.0, n_estimators=140,\n",
       "              n_iter_no_change=None, presort='auto', random_state=42,\n",
       "              subsample=0.85, tol=0.0001, validation_fraction=0.1,\n",
       "              verbose=0, warm_start=False)"
      ]
     },
     "execution_count": 6,
     "metadata": {},
     "output_type": "execute_result"
    }
   ],
   "source": [
    "import _pickle as pk\n",
    "\n",
    "gbdt_clf = GradientBoostingClassifier(learning_rate=0.1, n_estimators=140, max_depth=14, min_samples_split=550,\n",
    "                                    max_features='sqrt', subsample=0.85, random_state=rand_number)\n",
    "gbdt_clf.fit(input_data, result)"
   ]
  },
  {
   "cell_type": "code",
   "execution_count": 8,
   "metadata": {},
   "outputs": [],
   "source": [
    "pk.dump(gbdt_clf, open(\"gbdt.pickle\", \"wb\"))"
   ]
  },
  {
   "cell_type": "code",
   "execution_count": null,
   "metadata": {},
   "outputs": [],
   "source": [
    "start_time = time()\n",
    "gbdt_clf = GradientBoostingClassifier(learning_rate=0.1, n_estimators=150, max_depth=14, min_samples_split=550,\n",
    "                                    max_features='sqrt', subsample=0.85, random_state=rand_number)\n",
    "gbdt_clf.fit(X_train, y_train)\n",
    "importances = gbdt_clf.feature_importances_\n",
    "indices = np.argsort(importances)[::-1]\n",
    "end_time = time()\n",
    "\n",
    "cost = end_time - start_time\n",
    "print(\"time to train: %f\" % cost)"
   ]
  },
  {
   "cell_type": "code",
   "execution_count": 23,
   "metadata": {},
   "outputs": [
    {
     "name": "stdout",
     "output_type": "stream",
     "text": [
      " 1) norm_wmd                       0.228443\n",
      " 2) wmd                            0.091929\n",
      " 3) fuzz_partial_ratio             0.074963\n",
      " 4) fuzz_qratio                    0.066617\n",
      " 5) common_words                   0.043307\n",
      " 6) fuzz_token_set_ratio           0.042849\n",
      " 7) cosine_distance                0.037364\n",
      " 8) fuzz_token_sort_ratio          0.035086\n",
      " 9) len_q1                         0.025339\n",
      "10) len_q2                         0.024063\n",
      "11) minkowski_distance             0.023459\n",
      "12) skew_q1vec                     0.021674\n",
      "13) skew_q2vec                     0.021243\n",
      "14) cityblock_distance             0.020212\n",
      "15) kur_q2vec                      0.019815\n",
      "16) len_word_q2                    0.019534\n",
      "17) euclidean_distance             0.019007\n",
      "18) kur_q1vec                      0.017693\n",
      "19) len_q_ratio_ln                 0.017242\n",
      "20) canberra_distance              0.016789\n",
      "21) fuzz_partial_token_sort_ratio  0.016293\n",
      "22) len_word_q_ratio_ln            0.016172\n",
      "23) len_word_q1                    0.015039\n",
      "24) len_char_q1                    0.014728\n",
      "25) braycurtis_distance            0.014697\n",
      "26) len_char_q2                    0.014478\n",
      "27) fuzz_WRatio                    0.014161\n",
      "28) len_char_q_ratio_ln            0.013674\n",
      "29) diff_len                       0.012193\n",
      "30) jaccard_distance               0.001903\n",
      "31) fuzz_partial_token_set_ratio   0.000036\n"
     ]
    }
   ],
   "source": [
    "feat_labels = X_train.columns\n",
    "for f in range(X_train.shape[1]):\n",
    "    print(\"%2d) %-*s %f\" % (f + 1, 30, feat_labels[indices[f]], importances[indices[f]]))"
   ]
  },
  {
   "cell_type": "code",
   "execution_count": 26,
   "metadata": {},
   "outputs": [
    {
     "name": "stdout",
     "output_type": "stream",
     "text": [
      "[0.8374969818670776, 0.7601650316255187, 0.7939010391800331, 0.7016492239898908, 0.838614995466043, 0.7656251988545976]\n"
     ]
    }
   ],
   "source": [
    "model = gbdt_clf\n",
    "y_predprob = model.predict(X_train)\n",
    "\n",
    "y_t = model.predict(X_test)\n",
    "res = [roc_auc_score(y_train, y_predprob), roc_auc_score(y_test, y_t), \n",
    "       fbeta_score(y_train, y_predprob, beta=1), fbeta_score(y_test, y_t, beta=1),\n",
    "       accuracy_score(y_train, y_predprob), accuracy_score(y_test, y_t)\n",
    "      ]\n",
    "print(res)"
   ]
  },
  {
   "cell_type": "code",
   "execution_count": 14,
   "metadata": {},
   "outputs": [],
   "source": [
    "def show_bars(results, bar_width=0.4):\n",
    "    m_num = len(results.keys())\n",
    "    data_set = [\"train\", \"test\"]\n",
    "    metric_set = ['logloss']\n",
    "    \n",
    "    # Create figure\n",
    "    fig, ax = pl.subplots(1, m_num, figsize=(15, 5))\n",
    "\n",
    "    # Constants\n",
    "    colors = ['#00A0A0', '#00ffff', '#A00000', '#ff0000']\n",
    "\n",
    "    # Super loop to plot four panels of data\n",
    "    for k, learner in enumerate(results.keys()):\n",
    "        for m_num, metric in enumerate(metric_set):\n",
    "            for i, set_name in enumerate(data_set):\n",
    "                # Creative plot code\n",
    "                ax[k].bar(m_num*1 + i*bar_width - bar_width,\n",
    "                          results[learner][set_name][metric],\n",
    "                          width=bar_width, color=colors[m_num*2 + i])\n",
    "        ax[k].set_xticks(list(range(len(metric_set))))\n",
    "        ax[k].set_xticklabels(metric_set)\n",
    "        ax[k].set_xlabel(\"{l} on {t}\".format(l=learner, t=set_name))\n",
    "        ax[k].set_xlim(0, len(metric_set)+1)\n",
    "        ax[k].set_ylim(0,12)\n",
    "\n",
    "    # Create patches for the legend\n",
    "    patches = []\n",
    "    for m_num, metric_s in enumerate(metric_set):\n",
    "        for i, data_s in enumerate(data_set):\n",
    "            patches.append(mpatches.Patch(color=colors[m_num*2 + i], label=\"%s of %s\" % (metric_s, data_s)))\n",
    "    pl.legend(handles=patches, bbox_to_anchor=(0, 1.2),\n",
    "              loc='upper center', borderaxespad=0., ncol=2, fontsize='x-large')\n",
    "\n",
    "    # Aesthetics\n",
    "    pl.suptitle(\"Performance Metrics for Three Supervised Learning Models\", fontsize=16, y=1.10)\n",
    "    pl.subplots_adjust(top=0.85, bottom=0., left=0.10, right=0.95, hspace=0.3, wspace=0.35)\n",
    "    pl.show()\n",
    "\n",
    "    \n",
    "from multi_process import process_data\n",
    "\n",
    "def train_test_models_logloss(l):\n",
    "    result = {}\n",
    "    for clf, name in l:\n",
    "        print(\"start train %s\" % name)\n",
    "        train_dict = {}\n",
    "        t_start = time()\n",
    "        clf.fit(X_train, y_train)\n",
    "        t_end = time()\n",
    "        print(\"time cost for model %s: %f\" % (name, (t_end - t_start)))\n",
    "#         y_train_pred = process_data(clf.predict, X_train, n=8, tag=\"train prediction of %s\" % name)\n",
    "        y_train_pred = clf.predict(X_train)\n",
    "        train_dict[\"logloss\"] = get_log_loss(y_train, y_train_pred)\n",
    "        print(\"start test %s\" % name)\n",
    "        test_dict = {}\n",
    "#         y_test_pred = process_data(clf.predict, X_test, n=8, tag=\"test prediction of %s\" % name)\n",
    "        y_test_pred = clf.predict(X_test)\n",
    "        test_dict[\"logloss\"] = get_log_loss(y_test, y_test_pred)\n",
    "        result[name] = {\"train\": train_dict, \"test\": test_dict}\n",
    "    print(\"train_test done\")\n",
    "    return result"
   ]
  },
  {
   "cell_type": "code",
   "execution_count": null,
   "metadata": {},
   "outputs": [
    {
     "name": "stdout",
     "output_type": "stream",
     "text": [
      "start train RandomForest\n",
      "time cost for model RandomForest: 383.288692\n",
      "start test RandomForest\n",
      "start train GBDT\n",
      "time cost for model GBDT: 997.634159\n",
      "start test GBDT\n",
      "start train LogsitcRegression\n"
     ]
    }
   ],
   "source": [
    "rf_clf = RandomForestClassifier(n_estimators=90, max_depth=20, min_samples_split=30, max_features=\"auto\",\n",
    "                             min_samples_leaf=10, random_state=rand_number)\n",
    "gbdt_clf = GradientBoostingClassifier(learning_rate=0.1, n_estimators=140, max_depth=14, min_samples_split=550,\n",
    "                                    max_features='sqrt', subsample=0.85, random_state=rand_number)\n",
    "lr_clf = LogisticRegression(penalty='l2', solver='newton-cg', n_jobs=5, C=1)\n",
    "sgd_clf = SGDClassifier(max_iter=100, tol=0.0001, penalty='l1', loss=\"modified_huber\"\n",
    "                       , n_jobs=5, random_state=rand_number)\n",
    "lgb_clf = LGBMClassifier(n_jobs=8, max_depth=20, num_leaves=50, learning_rate=0.1, lambda_l1=0.3,lambda_l2=8)\n",
    "models=[(rf_clf, \"RandomForest\"), (gbdt_clf, \"GBDT\"), (lr_clf, \"LogsitcRegression\"), (sgd_clf, \"SGD\"), (lgb_clf, \"lightGBM\")]\n",
    "\n",
    "rs = train_test_models_logloss(models)\n",
    "show_bars(rs)\n",
    "print(rs)"
   ]
  },
  {
   "cell_type": "code",
   "execution_count": 13,
   "metadata": {},
   "outputs": [
    {
     "data": {
      "image/png": "[encoded data removed]",
      "text/plain": [
       "<Figure size 1080x360 with 5 Axes>"
      ]
     },
     "metadata": {
      "needs_background": "light"
     },
     "output_type": "display_data"
    }
   ],
   "source": [
    "show_bars(rs)"
   ]
  },
  {
   "cell_type": "code",
   "execution_count": 14,
   "metadata": {},
   "outputs": [],
   "source": [
    "\n",
    "lgb_clf = LGBMClassifier(n_jobs=8)\n",
    "\n",
    "models=[(lgb_clf, \"lightGBM\")]"
   ]
  },
  {
   "cell_type": "code",
   "execution_count": null,
   "metadata": {},
   "outputs": [
    {
     "name": "stdout",
     "output_type": "stream",
     "text": [
      "start train RandomForest\n"
     ]
    }
   ],
   "source": [
    "rs = train_test_models(models)\n",
    "show_bars(rs)\n",
    "print(rs)"
   ]
  },
  {
   "cell_type": "code",
   "execution_count": null,
   "metadata": {},
   "outputs": [],
   "source": []
  }
 ],
 "metadata": {
  "kernelspec": {
   "display_name": "Python 3",
   "language": "python",
   "name": "python3"
  },
  "language_info": {
   "codemirror_mode": {
    "name": "ipython",
    "version": 3
   },
   "file_extension": ".py",
   "mimetype": "text/x-python",
   "name": "python",
   "nbconvert_exporter": "python",
   "pygments_lexer": "ipython3",
   "version": "3.7.2"
  }
 },
 "nbformat": 4,
 "nbformat_minor": 2
}
