{
 "cells": [
  {
   "cell_type": "code",
   "execution_count": 24,
   "metadata": {},
   "outputs": [
    {
     "name": "stdout",
     "output_type": "stream",
     "text": [
      "generate the data for transfered_dist_features_train_0_50000\n",
      "generate the data for common_ratio_features_train_0_50000\n",
      "generate the data for dist_features_train_0_50000\n",
      "generate the data for norm_wmd_feature_train_0_50000\n",
      "generate the data for wmd_feature_train_0_50000\n",
      "generate the data for basic_feature_train_0_50000\n",
      "basic data is ready\n",
      "function 'clean question string' starts\n",
      "function 'clean question string' use: 214.387426 s\n",
      "data for basic_feature_train_0_50000 generated\n",
      "data for wmd_feature_train_0_50000 generated\n",
      "data for norm_wmd_feature_train_0_50000 generated\n"
     ]
    },
    {
     "name": "stderr",
     "output_type": "stream",
     "text": [
      "273it [00:00, 2729.85it/s]E:\\quora\\ud_quora\\features.py:180: RuntimeWarning: invalid value encountered in double_scalars\n",
      "  return v / np.sqrt((v ** 2).sum())\n",
      "50000it [00:13, 3704.50it/s]\n",
      "50000it [00:14, 3398.56it/s]\n",
      "S:\\anaconda\\envs\\tf\\lib\\site-packages\\scipy\\spatial\\distance.py:702: RuntimeWarning: invalid value encountered in double_scalars\n",
      "  dist = 1.0 - uv / np.sqrt(uu * vv)\n",
      "S:\\anaconda\\envs\\tf\\lib\\site-packages\\scipy\\spatial\\distance.py:1160: RuntimeWarning: invalid value encountered in double_scalars\n",
      "  return l1_diff.sum() / l1_sum.sum()\n"
     ]
    },
    {
     "name": "stdout",
     "output_type": "stream",
     "text": [
      "data for dist_features_train_0_50000 generated\n",
      "data for common_ratio_features_train_0_50000 generated\n",
      "Generate tfidf\n",
      "transfer sparse vec for TruncatedSVD_300\n",
      "prepare features for TruncatedSVD_300\n",
      "transfer sparse vec for TruncatedSVD_25\n",
      "prepare features for TruncatedSVD_25\n",
      "to attach cols: [['q1_TruncatedSVD_25_0', 'q1_TruncatedSVD_25_1', 'q1_TruncatedSVD_25_2', 'q1_TruncatedSVD_25_3', 'q1_TruncatedSVD_25_4', 'q1_TruncatedSVD_25_5', 'q1_TruncatedSVD_25_6', 'q1_TruncatedSVD_25_7', 'q1_TruncatedSVD_25_8', 'q1_TruncatedSVD_25_9', 'q1_TruncatedSVD_25_10', 'q1_TruncatedSVD_25_11', 'q1_TruncatedSVD_25_12', 'q1_TruncatedSVD_25_13', 'q1_TruncatedSVD_25_14', 'q1_TruncatedSVD_25_15', 'q1_TruncatedSVD_25_16', 'q1_TruncatedSVD_25_17', 'q1_TruncatedSVD_25_18', 'q1_TruncatedSVD_25_19', 'q1_TruncatedSVD_25_20', 'q1_TruncatedSVD_25_21', 'q1_TruncatedSVD_25_22', 'q1_TruncatedSVD_25_23', 'q1_TruncatedSVD_25_24'], ['q2_TruncatedSVD_25_0', 'q2_TruncatedSVD_25_1', 'q2_TruncatedSVD_25_2', 'q2_TruncatedSVD_25_3', 'q2_TruncatedSVD_25_4', 'q2_TruncatedSVD_25_5', 'q2_TruncatedSVD_25_6', 'q2_TruncatedSVD_25_7', 'q2_TruncatedSVD_25_8', 'q2_TruncatedSVD_25_9', 'q2_TruncatedSVD_25_10', 'q2_TruncatedSVD_25_11', 'q2_TruncatedSVD_25_12', 'q2_TruncatedSVD_25_13', 'q2_TruncatedSVD_25_14', 'q2_TruncatedSVD_25_15', 'q2_TruncatedSVD_25_16', 'q2_TruncatedSVD_25_17', 'q2_TruncatedSVD_25_18', 'q2_TruncatedSVD_25_19', 'q2_TruncatedSVD_25_20', 'q2_TruncatedSVD_25_21', 'q2_TruncatedSVD_25_22', 'q2_TruncatedSVD_25_23', 'q2_TruncatedSVD_25_24']]\n",
      "transfer sparse vec for NMF_30\n",
      "prepare features for NMF_30\n"
     ]
    },
    {
     "name": "stderr",
     "output_type": "stream",
     "text": [
      "S:\\anaconda\\envs\\tf\\lib\\site-packages\\scipy\\spatial\\distance.py:702: RuntimeWarning: invalid value encountered in double_scalars\n",
      "  dist = 1.0 - uv / np.sqrt(uu * vv)\n"
     ]
    },
    {
     "name": "stdout",
     "output_type": "stream",
     "text": [
      "to attach cols: [['q1_NMF_30_0', 'q1_NMF_30_1', 'q1_NMF_30_2', 'q1_NMF_30_3', 'q1_NMF_30_4', 'q1_NMF_30_5', 'q1_NMF_30_6', 'q1_NMF_30_7', 'q1_NMF_30_8', 'q1_NMF_30_9', 'q1_NMF_30_10', 'q1_NMF_30_11', 'q1_NMF_30_12', 'q1_NMF_30_13', 'q1_NMF_30_14', 'q1_NMF_30_15', 'q1_NMF_30_16', 'q1_NMF_30_17', 'q1_NMF_30_18', 'q1_NMF_30_19', 'q1_NMF_30_20', 'q1_NMF_30_21', 'q1_NMF_30_22', 'q1_NMF_30_23', 'q1_NMF_30_24', 'q1_NMF_30_25', 'q1_NMF_30_26', 'q1_NMF_30_27', 'q1_NMF_30_28', 'q1_NMF_30_29'], ['q2_NMF_30_0', 'q2_NMF_30_1', 'q2_NMF_30_2', 'q2_NMF_30_3', 'q2_NMF_30_4', 'q2_NMF_30_5', 'q2_NMF_30_6', 'q2_NMF_30_7', 'q2_NMF_30_8', 'q2_NMF_30_9', 'q2_NMF_30_10', 'q2_NMF_30_11', 'q2_NMF_30_12', 'q2_NMF_30_13', 'q2_NMF_30_14', 'q2_NMF_30_15', 'q2_NMF_30_16', 'q2_NMF_30_17', 'q2_NMF_30_18', 'q2_NMF_30_19', 'q2_NMF_30_20', 'q2_NMF_30_21', 'q2_NMF_30_22', 'q2_NMF_30_23', 'q2_NMF_30_24', 'q2_NMF_30_25', 'q2_NMF_30_26', 'q2_NMF_30_27', 'q2_NMF_30_28', 'q2_NMF_30_29']]\n",
      "data for transfered_dist_features_train_0_50000 generated\n"
     ]
    }
   ],
   "source": [
    "import features as ft\n",
    "t_data = ft.gen_transfered_dist_feature(50000)"
   ]
  },
  {
   "cell_type": "code",
   "execution_count": 20,
   "metadata": {},
   "outputs": [
    {
     "data": {
      "text/plain": [
       "164"
      ]
     },
     "execution_count": 20,
     "metadata": {},
     "output_type": "execute_result"
    }
   ],
   "source": [
    "import pandas as pd\n",
    "import numpy as np\n",
    "import sklearn\n",
    "from sklearn.metrics import roc_auc_score\n",
    "\n",
    "from time import time\n",
    "\n",
    "from sklearn.metrics import accuracy_score, fbeta_score, make_scorer, roc_auc_score\n",
    "from sklearn.ensemble import RandomForestClassifier, GradientBoostingClassifier\n",
    "from sklearn.linear_model import SGDClassifier, LogisticRegression\n",
    "from sklearn.model_selection import GridSearchCV\n",
    "from xgboost import XGBClassifier\n",
    "from lightgbm import LGBMClassifier\n",
    "\n",
    "from scipy.stats import skew, kurtosis\n",
    "from scipy.spatial.distance import cosine, cityblock, jaccard, canberra, euclidean, minkowski, braycurtis\n",
    "from sklearn.feature_extraction import text\n",
    "from sklearn.feature_extraction.text import TfidfVectorizer\n",
    "seed = 42\n",
    "rand_number = seed\n",
    "np.random.seed(seed)\n",
    "\n",
    "from sklearn.decomposition import LatentDirichletAllocation\n",
    "from sklearn.decomposition import TruncatedSVD\n",
    "from sklearn.decomposition import NMF\n",
    "from sklearn.decomposition import PCA\n",
    "\n",
    "from sklearn.preprocessing import OneHotEncoder\n",
    "from sklearn.metrics import log_loss\n",
    "\n",
    "from xgboost import XGBClassifier\n",
    "# import lightgbm as lgb\n",
    "from lightgbm import LGBMClassifier\n",
    "from sklearn.preprocessing import OneHotEncoder\n",
    "from sklearn.metrics import log_loss\n",
    "\n",
    "\n",
    "def one_hot(y):\n",
    "    oc = OneHotEncoder(categories='auto')\n",
    "    y_r = y.reshape(-1,1)\n",
    "    oc.fit(y_r)\n",
    "    r = oc.transform(y_r).toarray()\n",
    "    return r\n",
    "\n",
    "\n",
    "def get_log_loss(y_true, y_pred):\n",
    "    y_p = one_hot(y_pred)\n",
    "    return log_loss(y_true, y_p)\n",
    "\n",
    "out_features = ['question1', 'question2', 'is_duplicate']\n",
    "features = [x for x in t_data.columns if x not in out_features]\n",
    "len(features)"
   ]
  },
  {
   "cell_type": "code",
   "execution_count": 21,
   "metadata": {},
   "outputs": [],
   "source": [
    "import pandas as pd\n",
    "import numpy as np\n",
    "import sklearn\n",
    "from sklearn.metrics import roc_auc_score\n",
    "\n",
    "from time import time\n",
    "\n",
    "def time_cnt(f, tag=\"func\"):\n",
    "    t_start = time()\n",
    "    ret = f()\n",
    "    t_end = time()\n",
    "    t_used = t_end - t_start\n",
    "    print(\"function '%s' use: %f s\" % (tag, t_used))\n",
    "    \n",
    "from sklearn.model_selection import train_test_split\n",
    "\n",
    "X_train, X_test, y_train, y_test = train_test_split(input_data, result, test_size = 0.2, random_state = 0,\n",
    "                                                    stratify = result)\n",
    "X_train, X_val, y_train, y_val = train_test_split(X_train, y_train, test_size=0.2, random_state=0,\n",
    "                                                    stratify = y_train)"
   ]
  },
  {
   "cell_type": "code",
   "execution_count": 23,
   "metadata": {},
   "outputs": [
    {
     "name": "stderr",
     "output_type": "stream",
     "text": [
      "S:\\anaconda\\envs\\tf\\lib\\site-packages\\sklearn\\ensemble\\forest.py:246: FutureWarning: The default value of n_estimators will change from 10 in version 0.20 to 100 in 0.22.\n",
      "  \"10 in version 0.20 to 100 in 0.22.\", FutureWarning)\n"
     ]
    },
    {
     "name": "stdout",
     "output_type": "stream",
     "text": [
      "RandomForest training time cost: 0.22997689247131348\n",
      "[0.4665935862334786, 10.396345256558543]\n",
      "GBDT training time cost: 1.240030288696289\n",
      "[7.611986063785689, 9.736810832937133]\n"
     ]
    },
    {
     "name": "stderr",
     "output_type": "stream",
     "text": [
      "S:\\anaconda\\envs\\tf\\lib\\site-packages\\sklearn\\linear_model\\logistic.py:433: FutureWarning: Default solver will be changed to 'lbfgs' in 0.22. Specify a solver to silence this warning.\n",
      "  FutureWarning)\n"
     ]
    },
    {
     "name": "stdout",
     "output_type": "stream",
     "text": [
      "LogsitcRegression training time cost: 0.32204318046569824\n",
      "[10.628567853853287, 11.298866046777315]\n"
     ]
    },
    {
     "name": "stderr",
     "output_type": "stream",
     "text": [
      "S:\\anaconda\\envs\\tf\\lib\\site-packages\\sklearn\\linear_model\\stochastic_gradient.py:166: FutureWarning: max_iter and tol parameters have been added in SGDClassifier in 0.19. If both are left unset, they default to max_iter=5 and tol=None. If tol is not None, max_iter defaults to max_iter=1000. From 0.21, default max_iter will be 1000, and default tol will be 1e-3.\n",
      "  FutureWarning)\n"
     ]
    },
    {
     "name": "stdout",
     "output_type": "stream",
     "text": [
      "SGD training time cost: 0.01799154281616211\n",
      "[12.598026828303897, 12.635291063062802]\n",
      "XGBoost training time cost: 1.4820184707641602\n",
      "[8.25762137496922, 9.788879340065138]\n",
      "lightGBM training time cost: 0.6100387573242188\n",
      "[2.669349353800827, 9.875660185278484]\n"
     ]
    }
   ],
   "source": [
    "rf_clf = RandomForestClassifier(random_state=rand_number)\n",
    "gbdt_clf = GradientBoostingClassifier(random_state=rand_number)\n",
    "lr_clf = LogisticRegression(random_state=rand_number)\n",
    "sgd_clf = SGDClassifier(random_state=rand_number)\n",
    "xgb_clf = XGBClassifier(random_state=rand_number)\n",
    "lgb_clf = LGBMClassifier(random_state=rand_number)\n",
    "\n",
    "models=[(rf_clf, \"RandomForest\"), (gbdt_clf, \"GBDT\"), (lr_clf, \"LogsitcRegression\"), (sgd_clf, \"SGD\"), \n",
    "        (xgb_clf, \"XGBoost\"), \n",
    "        (lgb_clf, \"lightGBM\")\n",
    "       ]\n",
    "\n",
    "for t in models:\n",
    "    model, name = t\n",
    "    t_start = time()\n",
    "    model.fit(X_train, y_train)\n",
    "    t_end = time()\n",
    "    y_predprob = model.predict(X_train)\n",
    "    print(name, \"training time cost:\", (t_end-t_start))\n",
    "    y_t = model.predict(X_test)\n",
    "    res = [\n",
    "#         roc_auc_score(y_train, y_predprob), roc_auc_score(y_test, y_t), \n",
    "#            fbeta_score(y_train, y_predprob, beta=1), fbeta_score(y_test, y_t, beta=1),\n",
    "#            accuracy_score(y_train, y_predprob), accuracy_score(y_test, y_t),\n",
    "           get_log_loss(y_train, y_predprob), get_log_loss(y_test, y_t)\n",
    "          ]\n",
    "    print(res)"
   ]
  },
  {
   "cell_type": "code",
   "execution_count": 4,
   "metadata": {},
   "outputs": [
    {
     "name": "stderr",
     "output_type": "stream",
     "text": [
      "S:\\anaconda\\envs\\tf\\lib\\site-packages\\IPython\\core\\interactiveshell.py:3020: DtypeWarning: Columns (0) have mixed types. Specify dtype option on import or set low_memory=False.\n",
      "  interactivity=interactivity, compiler=compiler, result=result)\n"
     ]
    },
    {
     "name": "stdout",
     "output_type": "stream",
     "text": [
      "Generate tfidf\n",
      "prepare corpus\n"
     ]
    },
    {
     "name": "stderr",
     "output_type": "stream",
     "text": [
      "S:\\anaconda\\envs\\tf\\lib\\site-packages\\ipykernel_launcher.py:24: SettingWithCopyWarning: \n",
      "A value is trying to be set on a copy of a slice from a DataFrame.\n",
      "Try using .loc[row_indexer,col_indexer] = value instead\n",
      "\n",
      "See the caveats in the documentation: http://pandas.pydata.org/pandas-docs/stable/indexing.html#indexing-view-versus-copy\n"
     ]
    },
    {
     "name": "stdout",
     "output_type": "stream",
     "text": [
      "fit vectorizer\n",
      "trans data\n"
     ]
    }
   ],
   "source": [
    "import pandas as pd\n",
    "import numpy as np\n",
    "from sklearn.feature_extraction import text\n",
    "from sklearn.feature_extraction.text import TfidfVectorizer\n",
    "seed = 42\n",
    "np.random.seed(seed)\n",
    "\n",
    "ft = ['question1', \"question2\"]\n",
    "train = t_data[ft]\n",
    "test = pd.read_csv(\"data/test.csv\", sep=',')[ft]\n",
    "\n",
    "len_train = train.shape[0]\n",
    "\n",
    "max_features = None\n",
    "ngram_range = (1,1)\n",
    "min_df = 3\n",
    "print('Generate tfidf')\n",
    "feats= ft\n",
    "vect_orig = TfidfVectorizer(max_features=max_features,ngram_range=ngram_range, min_df=min_df)\n",
    "\n",
    "print('prepare corpus')\n",
    "corpus = []\n",
    "for f in feats:\n",
    "    train[f] = train[f].astype(str)\n",
    "    test[f] = test[f].astype(str)\n",
    "    corpus+=train[f].values.tolist()\n",
    "\n",
    "print('fit vectorizer')\n",
    "vect_orig.fit(\n",
    "    corpus\n",
    "    )\n",
    "\n",
    "print('trans data')\n",
    "# for f in feats:\n",
    "#     train_tfidf = vect_orig.transform(train[f].values.tolist())\n",
    "#     test_tfidf = vect_orig.transform(test[f].values.tolist())\n",
    "\n",
    "#     pd.to_pickle(train_tfidf,'train_%s_tfidf.pkl'%f)\n",
    "#     pd.to_pickle(test_tfidf,'test_%s_tfidf.pkl'%f)\n",
    "# print('done')"
   ]
  },
  {
   "cell_type": "code",
   "execution_count": 8,
   "metadata": {},
   "outputs": [
    {
     "name": "stdout",
     "output_type": "stream",
     "text": [
      "done\n"
     ]
    }
   ],
   "source": [
    "train_corpus = []\n",
    "test_corpus = []\n",
    "for f in feats:\n",
    "    train_corpus+=train[f].values.tolist()\n",
    "    test_corpus += test[f].values.tolist()\n",
    "\n",
    "train_tfidf = vect_orig.transform(train_corpus)\n",
    "test_tfidf = vect_orig.transform(test_corpus)\n",
    "\n",
    "pd.to_pickle(train_tfidf,'train_tfidf.pkl')\n",
    "pd.to_pickle(test_tfidf,'test_tfidf.pkl')\n",
    "print('done')"
   ]
  },
  {
   "cell_type": "code",
   "execution_count": 5,
   "metadata": {},
   "outputs": [
    {
     "data": {
      "text/plain": [
       "(808580, 39919)"
      ]
     },
     "execution_count": 5,
     "metadata": {},
     "output_type": "execute_result"
    }
   ],
   "source": [
    "obj = pd.read_pickle('train_tfidf.pkl')\n",
    "obj.shape"
   ]
  },
  {
   "cell_type": "code",
   "execution_count": null,
   "metadata": {},
   "outputs": [
    {
     "name": "stdout",
     "output_type": "stream",
     "text": [
      "nmf300 start to train\n"
     ]
    }
   ],
   "source": [
    "from sklearn.decomposition import NMF\n",
    "nmf = NMF(n_components=300, init='random', random_state=42)\n",
    "print(\"nmf300 start to train\")\n",
    "t_start = time()\n",
    "nmf300 = nmf.fit_transform(obj)\n",
    "t_end = time()\n",
    "print(\"nmf300 done in %f\" % (t_end - t_start))"
   ]
  },
  {
   "cell_type": "code",
   "execution_count": null,
   "metadata": {},
   "outputs": [],
   "source": [
    "nmf300.shape"
   ]
  },
  {
   "cell_type": "code",
   "execution_count": 13,
   "metadata": {},
   "outputs": [],
   "source": [
    "from sklearn.decomposition import TruncatedSVD \n",
    "pca = TruncatedSVD (n_components =300)\n",
    "pca300 = pca.fit_transform(obj)"
   ]
  },
  {
   "cell_type": "code",
   "execution_count": 17,
   "metadata": {},
   "outputs": [
    {
     "data": {
      "text/plain": [
       "(404290, 2)"
      ]
     },
     "execution_count": 17,
     "metadata": {},
     "output_type": "execute_result"
    }
   ],
   "source": [
    "train.shape"
   ]
  },
  {
   "cell_type": "code",
   "execution_count": 19,
   "metadata": {
    "scrolled": true
   },
   "outputs": [
    {
     "data": {
      "text/plain": [
       "(404290, 300)"
      ]
     },
     "execution_count": 19,
     "metadata": {},
     "output_type": "execute_result"
    }
   ],
   "source": [
    "pca_q1 = pca300[:404290, :]\n",
    "pca_q1.shape\n",
    "pca_q2 = pca300[404290:, :]\n",
    "pca_q2.shape"
   ]
  },
  {
   "cell_type": "code",
   "execution_count": 15,
   "metadata": {},
   "outputs": [],
   "source": [
    "features = ['len_q1', 'len_q2', 'diff_len', 'len_char_q1', 'len_char_q2', 'len_word_q1', 'len_word_q2',\n",
    "       'common_words', 'fuzz_qratio', 'fuzz_WRatio', 'fuzz_partial_ratio',\n",
    "       'fuzz_partial_token_set_ratio', 'fuzz_partial_token_sort_ratio',\n",
    "       'fuzz_token_set_ratio', 'fuzz_token_sort_ratio', 'wmd', 'norm_wmd',\n",
    "       'cosine_distance', 'cityblock_distance', 'jaccard_distance',\n",
    "       'canberra_distance', 'euclidean_distance', 'minkowski_distance',\n",
    "       'braycurtis_distance', 'skew_q1vec', 'skew_q2vec', 'kur_q1vec',\n",
    "       'kur_q2vec', 'len_q_ratio_ln', 'len_char_q_ratio_ln',\n",
    "       'len_word_q_ratio_ln']\n",
    "t_data = t_data.dropna()\n",
    "feature_data = t_data\n",
    "input_data = feature_data[features]\n",
    "input_data = input_data.replace([np.inf, -np.inf], 100).fillna(0).astype(np.float64)\n",
    "result = feature_data[['is_duplicate']]\n",
    "result = result.values.ravel()"
   ]
  },
  {
   "cell_type": "code",
   "execution_count": 16,
   "metadata": {},
   "outputs": [],
   "source": [
    "from sklearn.model_selection import train_test_split\n",
    "\n",
    "X_train, X_test, y_train, y_test = train_test_split(input_data, result, test_size = 0.2, random_state = 0,\n",
    "                                                    stratify = result)\n",
    "X_train, X_val, y_train, y_val = train_test_split(X_train, y_train, test_size=0.2, random_state=0,\n",
    "                                                    stratify = y_train)"
   ]
  },
  {
   "cell_type": "code",
   "execution_count": 17,
   "metadata": {},
   "outputs": [],
   "source": [
    "from sklearn import metrics\n",
    "from sklearn.model_selection import GridSearchCV\n",
    "from sklearn.metrics import fbeta_score, make_scorer\n",
    "from sklearn.ensemble import RandomForestClassifier\n",
    "rand_number = 42"
   ]
  },
  {
   "cell_type": "code",
   "execution_count": 68,
   "metadata": {},
   "outputs": [
    {
     "name": "stderr",
     "output_type": "stream",
     "text": [
      "/Users/kunfu/miniconda2/envs/tf/lib/python3.5/site-packages/sklearn/ensemble/forest.py:246: FutureWarning: The default value of n_estimators will change from 10 in version 0.20 to 100 in 0.22.\n",
      "  \"10 in version 0.20 to 100 in 0.22.\", FutureWarning)\n"
     ]
    },
    {
     "name": "stdout",
     "output_type": "stream",
     "text": [
      "AUC Score (Train): 0.999451\n"
     ]
    },
    {
     "name": "stderr",
     "output_type": "stream",
     "text": [
      "/Users/kunfu/miniconda2/envs/tf/lib/python3.5/site-packages/sklearn/ensemble/forest.py:458: UserWarning: Some inputs do not have OOB scores. This probably means too few trees were used to compute any reliable oob estimates.\n",
      "  warn(\"Some inputs do not have OOB scores. \"\n",
      "/Users/kunfu/miniconda2/envs/tf/lib/python3.5/site-packages/sklearn/ensemble/forest.py:463: RuntimeWarning: invalid value encountered in true_divide\n",
      "  predictions[k].sum(axis=1)[:, np.newaxis])\n"
     ]
    }
   ],
   "source": [
    "clf = RandomForestClassifier(oob_score=True, random_state=42)\n",
    "clf.fit(X_train, y_train)\n",
    "y_predprob = clf.predict_proba(X_train)[:,1]\n",
    "print(\"AUC Score (Train): %f\" % metrics.roc_auc_score(y_train, y_predprob))"
   ]
  },
  {
   "cell_type": "code",
   "execution_count": 70,
   "metadata": {
    "scrolled": true
   },
   "outputs": [
    {
     "data": {
      "text/plain": [
       "GridSearchCV(cv=5, error_score='raise-deprecating',\n",
       "       estimator=RandomForestClassifier(bootstrap=True, class_weight=None, criterion='gini',\n",
       "            max_depth=8, max_features='sqrt', max_leaf_nodes=None,\n",
       "            min_impurity_decrease=0.0, min_impurity_split=None,\n",
       "            min_samples_leaf=20, min_samples_split=100,\n",
       "            min_weight_fraction_leaf=0.0, n_estimators='warn', n_jobs=None,\n",
       "            oob_score=False, random_state=42, verbose=0, warm_start=False),\n",
       "       fit_params=None, iid='warn', n_jobs=None,\n",
       "       param_grid={'n_estimators': range(50, 151, 10)},\n",
       "       pre_dispatch='2*n_jobs', refit=True, return_train_score='warn',\n",
       "       scoring='roc_auc', verbose=0)"
      ]
     },
     "execution_count": 70,
     "metadata": {},
     "output_type": "execute_result"
    }
   ],
   "source": [
    "param_test1 = {'n_estimators': range(50, 151, 10)}\n",
    "\n",
    "clf = RandomForestClassifier(min_samples_split=100, min_samples_leaf=20, max_depth=8, max_features='sqrt',\n",
    "                             random_state=rand_number)\n",
    "gs1 = GridSearchCV(estimator=clf, param_grid=param_test1, scoring='roc_auc', cv=5)\n",
    "\n",
    "gs1.fit(X_train, y_train)"
   ]
  },
  {
   "cell_type": "code",
   "execution_count": 72,
   "metadata": {},
   "outputs": [
    {
     "name": "stdout",
     "output_type": "stream",
     "text": [
      "{'n_estimators': 90} 0.8106984984417835\n"
     ]
    }
   ],
   "source": [
    "print(gs1.best_params_, gs1.best_score_)"
   ]
  },
  {
   "cell_type": "code",
   "execution_count": 73,
   "metadata": {},
   "outputs": [
    {
     "name": "stdout",
     "output_type": "stream",
     "text": [
      "{'max_depth': 20, 'min_samples_split': 50} 0.8200496188909583\n"
     ]
    }
   ],
   "source": [
    "param_test2 = {'max_depth': range(5, 31, 5), 'min_samples_split': range(50, 201, 20)}\n",
    "\n",
    "clf = RandomForestClassifier(n_estimators=90, min_samples_leaf=20, max_features='sqrt',\n",
    "                             random_state=rand_number)\n",
    "gs2 = GridSearchCV(estimator=clf, param_grid=param_test2, scoring='roc_auc', cv=5)\n",
    "gs2.fit(X_train, y_train)\n",
    "\n",
    "print(gs2.best_params_, gs2.best_score_)"
   ]
  },
  {
   "cell_type": "code",
   "execution_count": 75,
   "metadata": {},
   "outputs": [
    {
     "name": "stdout",
     "output_type": "stream",
     "text": [
      "{'min_samples_split': 10} 0.8206039677424468\n"
     ]
    }
   ],
   "source": [
    "param_test2 = {'min_samples_split': range(10, 91, 20)}\n",
    "\n",
    "clf = RandomForestClassifier(n_estimators=90, min_samples_leaf=20, max_depth=20, max_features='sqrt',\n",
    "                             random_state=rand_number)\n",
    "gs2 = GridSearchCV(estimator=clf, param_grid=param_test2, scoring='roc_auc', cv=5)\n",
    "gs2.fit(X_train, y_train)\n",
    "\n",
    "print(gs2.best_params_, gs2.best_score_)"
   ]
  },
  {
   "cell_type": "code",
   "execution_count": 76,
   "metadata": {},
   "outputs": [
    {
     "name": "stdout",
     "output_type": "stream",
     "text": [
      "{'max_features': 'auto', 'min_samples_leaf': 10} 0.8226951317190692\n"
     ]
    }
   ],
   "source": [
    "param_test3={'min_samples_leaf': range(10,61,10), 'max_features': ['auto', 'sqrt', 'log2']}\n",
    "clf = RandomForestClassifier(n_estimators=90, max_depth=20, min_samples_split=30,\n",
    "                             random_state=rand_number)\n",
    "gs = GridSearchCV(estimator=clf, param_grid=param_test3, scoring='roc_auc', cv=5)\n",
    "gs.fit(X_train, y_train)\n",
    "\n",
    "print(gs.best_params_, gs.best_score_)"
   ]
  },
  {
   "cell_type": "markdown",
   "metadata": {},
   "source": [
    "## Tuned RandomForestClassifier"
   ]
  },
  {
   "cell_type": "code",
   "execution_count": 81,
   "metadata": {},
   "outputs": [
    {
     "name": "stdout",
     "output_type": "stream",
     "text": [
      "fit\n",
      "train data: 0.843806\n",
      "test data: 0.734875\n"
     ]
    }
   ],
   "source": [
    "from sklearn.metrics import roc_auc_score\n",
    "\n",
    "rf_clf = RandomForestClassifier(n_estimators=90, max_depth=20, min_samples_split=30, max_features=\"auto\",\n",
    "                             min_samples_leaf=10, random_state=rand_number)\n",
    "rf_clf.fit(X_train, y_train)\n",
    "print(\"fit\")\n",
    "y_train_prob = rf_clf.predict(X_train)\n",
    "y_val_prob = rf_clf.predict(X_val)\n",
    "print(\"train data: %f\" % roc_auc_score(y_train, y_train_prob))\n",
    "print(\"test data: %f\" % roc_auc_score(y_val, y_val_prob))"
   ]
  },
  {
   "cell_type": "code",
   "execution_count": 87,
   "metadata": {},
   "outputs": [
    {
     "name": "stdout",
     "output_type": "stream",
     "text": [
      "acc: 0.7432\n",
      "auc: 0.828681\n"
     ]
    }
   ],
   "source": [
    "from sklearn.ensemble import GradientBoostingClassifier\n",
    "from sklearn.metrics import accuracy_score\n",
    "\n",
    "gb = GradientBoostingClassifier(random_state=rand_number)\n",
    "gb.fit(X_train, y_train)\n",
    "y_pred = gb.predict(X_train)\n",
    "y_predprob = gb.predict_proba(X_train)[:, 1]\n",
    "print(\"acc: %.4g\" % metrics.accuracy_score(y_train, y_pred))\n",
    "print(\"auc: %f\" % roc_auc_score(y_train, y_predprob))"
   ]
  },
  {
   "cell_type": "code",
   "execution_count": 89,
   "metadata": {},
   "outputs": [
    {
     "name": "stdout",
     "output_type": "stream",
     "text": [
      "{'n_estimators': 140} 0.8291098557564647\n"
     ]
    }
   ],
   "source": [
    "param_test1 = {'n_estimators': range(50, 151, 10)}\n",
    "gb_clf = GradientBoostingClassifier(learning_rate=0.1, min_samples_split=300, min_samples_leaf=20,\n",
    "                                    max_depth=8,max_features='sqrt', subsample=0.8,random_state=rand_number)\n",
    "gs = GridSearchCV(estimator=gb_clf, param_grid=param_test1, scoring='roc_auc', cv=5)\n",
    "gs.fit(X_train, y_train)\n",
    "\n",
    "print(gs.best_params_, gs.best_score_)"
   ]
  },
  {
   "cell_type": "code",
   "execution_count": 93,
   "metadata": {},
   "outputs": [
    {
     "name": "stdout",
     "output_type": "stream",
     "text": [
      "{'max_depth': 14, 'min_samples_split': 550} 0.8294779041590764\n"
     ]
    }
   ],
   "source": [
    "param_test2 = {'max_depth':range(5,24,3), 'min_samples_split':range(50,801,100)}\n",
    "gb_clf = GradientBoostingClassifier(learning_rate=0.1, n_estimators=140, min_samples_leaf=20,\n",
    "                                    max_features='sqrt', subsample=0.8,random_state=rand_number)\n",
    "gs = GridSearchCV(estimator=gb_clf, param_grid=param_test2, scoring='roc_auc', cv=5)\n",
    "gs.fit(X_train, y_train)\n",
    "\n",
    "print(gs.best_params_, gs.best_score_)"
   ]
  },
  {
   "cell_type": "code",
   "execution_count": 95,
   "metadata": {},
   "outputs": [
    {
     "name": "stdout",
     "output_type": "stream",
     "text": [
      "{'min_samples_leaf': 20} 0.8294779041590764\n"
     ]
    }
   ],
   "source": [
    "param_test3 = {'min_samples_leaf': range(10, 51, 10)}\n",
    "gb_clf = GradientBoostingClassifier(learning_rate=0.1, n_estimators=140, max_depth=14, min_samples_split=550,\n",
    "                                    max_features='sqrt', subsample=0.8,random_state=rand_number)\n",
    "gs = GridSearchCV(estimator=gb_clf, param_grid=param_test3, scoring='roc_auc', cv=5)\n",
    "gs.fit(X_train, y_train)\n",
    "\n",
    "print(gs.best_params_, gs.best_score_)"
   ]
  },
  {
   "cell_type": "code",
   "execution_count": 96,
   "metadata": {},
   "outputs": [
    {
     "name": "stdout",
     "output_type": "stream",
     "text": [
      "{'subsample': 0.9} 0.8285314765894741\n"
     ]
    }
   ],
   "source": [
    "param_test4 = {'subsample':[0.6,0.7,0.75,0.8,0.85,0.9]}\n",
    "gb_clf = GradientBoostingClassifier(learning_rate=0.1, n_estimators=140, max_depth=14, min_samples_split=550,\n",
    "                                    max_features='sqrt', random_state=rand_number)\n",
    "gs = GridSearchCV(estimator=gb_clf, param_grid=param_test4, scoring='roc_auc', cv=5)\n",
    "gs.fit(X_train, y_train)\n",
    "\n",
    "print(gs.best_params_, gs.best_score_)"
   ]
  },
  {
   "cell_type": "markdown",
   "metadata": {},
   "source": [
    "## Tuned GBDT"
   ]
  },
  {
   "cell_type": "code",
   "execution_count": 97,
   "metadata": {},
   "outputs": [
    {
     "name": "stdout",
     "output_type": "stream",
     "text": [
      "acc: 0.8838\n",
      "auc: 0.953512\n"
     ]
    }
   ],
   "source": [
    "gb_clf = GradientBoostingClassifier(learning_rate=0.1, n_estimators=140, max_depth=14, min_samples_split=550,\n",
    "                                    max_features='sqrt', subsample=0.85, random_state=rand_number)\n",
    "\n",
    "gb_clf.fit(X_train, y_train)\n",
    "y_pred = gb_clf.predict(X_train)\n",
    "y_predprob = gb_clf.predict_proba(X_train)[:, 1]\n",
    "print(\"acc: %.4g\" % metrics.accuracy_score(y_train, y_pred))\n",
    "print(\"auc: %f\" % roc_auc_score(y_train, y_predprob))"
   ]
  },
  {
   "cell_type": "code",
   "execution_count": 7,
   "metadata": {},
   "outputs": [
    {
     "ename": "NameError",
     "evalue": "name 'gs' is not defined",
     "output_type": "error",
     "traceback": [
      "\u001b[0;31m---------------------------------------------------------------------------\u001b[0m",
      "\u001b[0;31mNameError\u001b[0m                                 Traceback (most recent call last)",
      "\u001b[0;32m<ipython-input-7-0b0792c3b254>\u001b[0m in \u001b[0;36m<module>\u001b[0;34m\u001b[0m\n\u001b[1;32m      2\u001b[0m \u001b[0mgrid\u001b[0m \u001b[0;34m=\u001b[0m \u001b[0mGridSearchCV\u001b[0m\u001b[0;34m(\u001b[0m\u001b[0mSVC\u001b[0m\u001b[0;34m(\u001b[0m\u001b[0;34m)\u001b[0m\u001b[0;34m,\u001b[0m \u001b[0mparam_grid\u001b[0m\u001b[0;34m=\u001b[0m\u001b[0;34m{\u001b[0m\u001b[0;34m\"C\"\u001b[0m\u001b[0;34m:\u001b[0m\u001b[0;34m[\u001b[0m\u001b[0;36m0.1\u001b[0m\u001b[0;34m,\u001b[0m \u001b[0;36m1\u001b[0m\u001b[0;34m,\u001b[0m \u001b[0;36m10\u001b[0m\u001b[0;34m]\u001b[0m\u001b[0;34m,\u001b[0m \u001b[0;34m\"gamma\"\u001b[0m\u001b[0;34m:\u001b[0m \u001b[0;34m[\u001b[0m\u001b[0;36m1\u001b[0m\u001b[0;34m,\u001b[0m \u001b[0;36m0.1\u001b[0m\u001b[0;34m,\u001b[0m \u001b[0;36m0.01\u001b[0m\u001b[0;34m]\u001b[0m\u001b[0;34m}\u001b[0m\u001b[0;34m,\u001b[0m \u001b[0mscoring\u001b[0m\u001b[0;34m=\u001b[0m\u001b[0;34m'roc_auc'\u001b[0m\u001b[0;34m,\u001b[0m \u001b[0mcv\u001b[0m\u001b[0;34m=\u001b[0m\u001b[0;36m5\u001b[0m\u001b[0;34m)\u001b[0m\u001b[0;34m\u001b[0m\u001b[0m\n\u001b[1;32m      3\u001b[0m \u001b[0mgrid\u001b[0m\u001b[0;34m.\u001b[0m\u001b[0mfit\u001b[0m\u001b[0;34m(\u001b[0m\u001b[0mX_train\u001b[0m\u001b[0;34m,\u001b[0m \u001b[0my_train\u001b[0m\u001b[0;34m)\u001b[0m\u001b[0;34m\u001b[0m\u001b[0m\n\u001b[0;32m----> 4\u001b[0;31m \u001b[0mprint\u001b[0m\u001b[0;34m(\u001b[0m\u001b[0mgs\u001b[0m\u001b[0;34m.\u001b[0m\u001b[0mbest_params_\u001b[0m\u001b[0;34m,\u001b[0m \u001b[0mgs\u001b[0m\u001b[0;34m.\u001b[0m\u001b[0mbest_score_\u001b[0m\u001b[0;34m)\u001b[0m\u001b[0;34m\u001b[0m\u001b[0m\n\u001b[0m",
      "\u001b[0;31mNameError\u001b[0m: name 'gs' is not defined"
     ]
    }
   ],
   "source": [
    "from sklearn.svm import SVC\n",
    "grid = GridSearchCV(SVC(), param_grid={\"C\":[0.1, 1, 10], \"gamma\": [1, 0.1, 0.01]}, scoring='roc_auc', cv=5)\n",
    "grid.fit(X_train, y_train)"
   ]
  },
  {
   "cell_type": "code",
   "execution_count": 8,
   "metadata": {},
   "outputs": [
    {
     "name": "stdout",
     "output_type": "stream",
     "text": [
      "{'gamma': 0.01, 'C': 0.1} 0.7557437907863541\n"
     ]
    }
   ],
   "source": [
    "print(grid.best_params_, grid.best_score_)"
   ]
  },
  {
   "cell_type": "code",
   "execution_count": 10,
   "metadata": {},
   "outputs": [],
   "source": [
    "import pickle\n",
    "weak_svm_file = open(\"data/weak_svm.pkl\", \"wb\")\n",
    "pickle.dump(grid.best_estimator_, weak_svm_file)"
   ]
  },
  {
   "cell_type": "code",
   "execution_count": 11,
   "metadata": {},
   "outputs": [],
   "source": [
    "from sklearn.linear_model import SGDClassifier\n",
    "from sklearn.linear_model import LogisticRegression"
   ]
  },
  {
   "cell_type": "code",
   "execution_count": 14,
   "metadata": {},
   "outputs": [
    {
     "name": "stdout",
     "output_type": "stream",
     "text": [
      "{'penalty': 'l1', 'solver': 'liblinear'} 0.7517425509949806\n"
     ]
    }
   ],
   "source": [
    "param_test_last1 = {\"penalty\": [\"l1\"], \"solver\": ['liblinear']}\n",
    "param_test_last2 = {\"penalty\": [\"l2\"], \"solver\": ['newton-cg', 'lbfgs', 'liblinear', 'sag']}\n",
    "rl_clf = LogisticRegression()\n",
    "gs = GridSearchCV(estimator=rl_clf, param_grid=param_test_last1, scoring='roc_auc', cv=5)\n",
    "gs.fit(X_train, y_train)\n",
    "\n",
    "print(gs.best_params_, gs.best_score_)"
   ]
  },
  {
   "cell_type": "code",
   "execution_count": 15,
   "metadata": {},
   "outputs": [
    {
     "name": "stderr",
     "output_type": "stream",
     "text": [
      "/Users/kunfu/miniconda2/envs/tf/lib/python3.5/site-packages/sklearn/utils/optimize.py:203: ConvergenceWarning: newton-cg failed to converge. Increase the number of iterations.\n",
      "  \"number of iterations.\", ConvergenceWarning)\n",
      "/Users/kunfu/miniconda2/envs/tf/lib/python3.5/site-packages/sklearn/utils/optimize.py:203: ConvergenceWarning: newton-cg failed to converge. Increase the number of iterations.\n",
      "  \"number of iterations.\", ConvergenceWarning)\n",
      "/Users/kunfu/miniconda2/envs/tf/lib/python3.5/site-packages/sklearn/utils/optimize.py:203: ConvergenceWarning: newton-cg failed to converge. Increase the number of iterations.\n",
      "  \"number of iterations.\", ConvergenceWarning)\n",
      "/Users/kunfu/miniconda2/envs/tf/lib/python3.5/site-packages/sklearn/utils/optimize.py:203: ConvergenceWarning: newton-cg failed to converge. Increase the number of iterations.\n",
      "  \"number of iterations.\", ConvergenceWarning)\n",
      "/Users/kunfu/miniconda2/envs/tf/lib/python3.5/site-packages/sklearn/utils/optimize.py:203: ConvergenceWarning: newton-cg failed to converge. Increase the number of iterations.\n",
      "  \"number of iterations.\", ConvergenceWarning)\n",
      "/Users/kunfu/miniconda2/envs/tf/lib/python3.5/site-packages/sklearn/linear_model/logistic.py:758: ConvergenceWarning: lbfgs failed to converge. Increase the number of iterations.\n",
      "  \"of iterations.\", ConvergenceWarning)\n",
      "/Users/kunfu/miniconda2/envs/tf/lib/python3.5/site-packages/sklearn/linear_model/logistic.py:758: ConvergenceWarning: lbfgs failed to converge. Increase the number of iterations.\n",
      "  \"of iterations.\", ConvergenceWarning)\n",
      "/Users/kunfu/miniconda2/envs/tf/lib/python3.5/site-packages/sklearn/linear_model/logistic.py:758: ConvergenceWarning: lbfgs failed to converge. Increase the number of iterations.\n",
      "  \"of iterations.\", ConvergenceWarning)\n",
      "/Users/kunfu/miniconda2/envs/tf/lib/python3.5/site-packages/sklearn/linear_model/logistic.py:758: ConvergenceWarning: lbfgs failed to converge. Increase the number of iterations.\n",
      "  \"of iterations.\", ConvergenceWarning)\n",
      "/Users/kunfu/miniconda2/envs/tf/lib/python3.5/site-packages/sklearn/linear_model/logistic.py:758: ConvergenceWarning: lbfgs failed to converge. Increase the number of iterations.\n",
      "  \"of iterations.\", ConvergenceWarning)\n",
      "/Users/kunfu/miniconda2/envs/tf/lib/python3.5/site-packages/sklearn/linear_model/sag.py:334: ConvergenceWarning: The max_iter was reached which means the coef_ did not converge\n",
      "  \"the coef_ did not converge\", ConvergenceWarning)\n",
      "/Users/kunfu/miniconda2/envs/tf/lib/python3.5/site-packages/sklearn/linear_model/sag.py:334: ConvergenceWarning: The max_iter was reached which means the coef_ did not converge\n",
      "  \"the coef_ did not converge\", ConvergenceWarning)\n",
      "/Users/kunfu/miniconda2/envs/tf/lib/python3.5/site-packages/sklearn/linear_model/sag.py:334: ConvergenceWarning: The max_iter was reached which means the coef_ did not converge\n",
      "  \"the coef_ did not converge\", ConvergenceWarning)\n",
      "/Users/kunfu/miniconda2/envs/tf/lib/python3.5/site-packages/sklearn/linear_model/sag.py:334: ConvergenceWarning: The max_iter was reached which means the coef_ did not converge\n",
      "  \"the coef_ did not converge\", ConvergenceWarning)\n",
      "/Users/kunfu/miniconda2/envs/tf/lib/python3.5/site-packages/sklearn/linear_model/sag.py:334: ConvergenceWarning: The max_iter was reached which means the coef_ did not converge\n",
      "  \"the coef_ did not converge\", ConvergenceWarning)\n"
     ]
    },
    {
     "name": "stdout",
     "output_type": "stream",
     "text": [
      "{'penalty': 'l2', 'solver': 'newton-cg'} 0.7520229551402433\n"
     ]
    },
    {
     "name": "stderr",
     "output_type": "stream",
     "text": [
      "/Users/kunfu/miniconda2/envs/tf/lib/python3.5/site-packages/sklearn/utils/optimize.py:203: ConvergenceWarning: newton-cg failed to converge. Increase the number of iterations.\n",
      "  \"number of iterations.\", ConvergenceWarning)\n"
     ]
    }
   ],
   "source": [
    "rl_clf = LogisticRegression()\n",
    "gs = GridSearchCV(estimator=rl_clf, param_grid=param_test_last2, scoring='roc_auc', cv=5)\n",
    "gs.fit(X_train, y_train)\n",
    "\n",
    "print(gs.best_params_, gs.best_score_)"
   ]
  },
  {
   "cell_type": "code",
   "execution_count": 22,
   "metadata": {},
   "outputs": [],
   "source": [
    "def grid_search(clf, param_dict):\n",
    "    grid_search_cv = GridSearchCV(estimator=clf, param_grid=param_dict, scoring='roc_auc', cv=5)\n",
    "    grid_search_cv.fit(X_train, y_train)\n",
    "    print(grid_search_cv.best_params_, grid_search_cv.best_score_)\n",
    "    return grid_search_cv"
   ]
  },
  {
   "cell_type": "code",
   "execution_count": 24,
   "metadata": {},
   "outputs": [
    {
     "name": "stdout",
     "output_type": "stream",
     "text": [
      "{'C': 1} 0.7520229551402433\n"
     ]
    }
   ],
   "source": [
    "rl_clf = LogisticRegression(penalty='l2', solver='newton-cg', n_jobs=5)\n",
    "gs = grid_search(rl_clf, {\"C\": [0.01,0.1,1,5,10,15]})"
   ]
  },
  {
   "cell_type": "markdown",
   "metadata": {},
   "source": [
    "## RL Tuned"
   ]
  },
  {
   "cell_type": "code",
   "execution_count": 27,
   "metadata": {},
   "outputs": [
    {
     "name": "stdout",
     "output_type": "stream",
     "text": [
      "acc: 0.6768\n",
      "auc: 0.753525\n"
     ]
    }
   ],
   "source": [
    "gb_clf = LogisticRegression(penalty='l2', solver='newton-cg', n_jobs=5, C=1)\n",
    "\n",
    "gb_clf.fit(X_train, y_train)\n",
    "y_pred = gb_clf.predict(X_train)\n",
    "y_predprob = gb_clf.predict_proba(X_train)[:, 1]\n",
    "print(\"acc: %.4g\" % metrics.accuracy_score(y_train, y_pred))\n",
    "print(\"auc: %f\" % roc_auc_score(y_train, y_predprob))"
   ]
  },
  {
   "cell_type": "code",
   "execution_count": 41,
   "metadata": {},
   "outputs": [
    {
     "name": "stderr",
     "output_type": "stream",
     "text": [
      "/Users/kunfu/miniconda2/envs/tf/lib/python3.5/site-packages/sklearn/linear_model/stochastic_gradient.py:603: ConvergenceWarning: Maximum number of iteration reached before convergence. Consider increasing max_iter to improve the fit.\n",
      "  ConvergenceWarning)\n",
      "/Users/kunfu/miniconda2/envs/tf/lib/python3.5/site-packages/sklearn/linear_model/stochastic_gradient.py:603: ConvergenceWarning: Maximum number of iteration reached before convergence. Consider increasing max_iter to improve the fit.\n",
      "  ConvergenceWarning)\n",
      "/Users/kunfu/miniconda2/envs/tf/lib/python3.5/site-packages/sklearn/linear_model/stochastic_gradient.py:603: ConvergenceWarning: Maximum number of iteration reached before convergence. Consider increasing max_iter to improve the fit.\n",
      "  ConvergenceWarning)\n",
      "/Users/kunfu/miniconda2/envs/tf/lib/python3.5/site-packages/sklearn/linear_model/stochastic_gradient.py:603: ConvergenceWarning: Maximum number of iteration reached before convergence. Consider increasing max_iter to improve the fit.\n",
      "  ConvergenceWarning)\n",
      "/Users/kunfu/miniconda2/envs/tf/lib/python3.5/site-packages/sklearn/linear_model/stochastic_gradient.py:603: ConvergenceWarning: Maximum number of iteration reached before convergence. Consider increasing max_iter to improve the fit.\n",
      "  ConvergenceWarning)\n",
      "/Users/kunfu/miniconda2/envs/tf/lib/python3.5/site-packages/sklearn/linear_model/stochastic_gradient.py:603: ConvergenceWarning: Maximum number of iteration reached before convergence. Consider increasing max_iter to improve the fit.\n",
      "  ConvergenceWarning)\n",
      "/Users/kunfu/miniconda2/envs/tf/lib/python3.5/site-packages/sklearn/linear_model/stochastic_gradient.py:603: ConvergenceWarning: Maximum number of iteration reached before convergence. Consider increasing max_iter to improve the fit.\n",
      "  ConvergenceWarning)\n",
      "/Users/kunfu/miniconda2/envs/tf/lib/python3.5/site-packages/sklearn/linear_model/stochastic_gradient.py:603: ConvergenceWarning: Maximum number of iteration reached before convergence. Consider increasing max_iter to improve the fit.\n",
      "  ConvergenceWarning)\n",
      "/Users/kunfu/miniconda2/envs/tf/lib/python3.5/site-packages/sklearn/linear_model/stochastic_gradient.py:603: ConvergenceWarning: Maximum number of iteration reached before convergence. Consider increasing max_iter to improve the fit.\n",
      "  ConvergenceWarning)\n",
      "/Users/kunfu/miniconda2/envs/tf/lib/python3.5/site-packages/sklearn/linear_model/stochastic_gradient.py:603: ConvergenceWarning: Maximum number of iteration reached before convergence. Consider increasing max_iter to improve the fit.\n",
      "  ConvergenceWarning)\n",
      "/Users/kunfu/miniconda2/envs/tf/lib/python3.5/site-packages/sklearn/linear_model/stochastic_gradient.py:603: ConvergenceWarning: Maximum number of iteration reached before convergence. Consider increasing max_iter to improve the fit.\n",
      "  ConvergenceWarning)\n",
      "/Users/kunfu/miniconda2/envs/tf/lib/python3.5/site-packages/sklearn/linear_model/stochastic_gradient.py:603: ConvergenceWarning: Maximum number of iteration reached before convergence. Consider increasing max_iter to improve the fit.\n",
      "  ConvergenceWarning)\n",
      "/Users/kunfu/miniconda2/envs/tf/lib/python3.5/site-packages/sklearn/linear_model/stochastic_gradient.py:603: ConvergenceWarning: Maximum number of iteration reached before convergence. Consider increasing max_iter to improve the fit.\n",
      "  ConvergenceWarning)\n",
      "/Users/kunfu/miniconda2/envs/tf/lib/python3.5/site-packages/sklearn/linear_model/stochastic_gradient.py:603: ConvergenceWarning: Maximum number of iteration reached before convergence. Consider increasing max_iter to improve the fit.\n",
      "  ConvergenceWarning)\n",
      "/Users/kunfu/miniconda2/envs/tf/lib/python3.5/site-packages/sklearn/linear_model/stochastic_gradient.py:603: ConvergenceWarning: Maximum number of iteration reached before convergence. Consider increasing max_iter to improve the fit.\n",
      "  ConvergenceWarning)\n",
      "/Users/kunfu/miniconda2/envs/tf/lib/python3.5/site-packages/sklearn/linear_model/stochastic_gradient.py:603: ConvergenceWarning: Maximum number of iteration reached before convergence. Consider increasing max_iter to improve the fit.\n",
      "  ConvergenceWarning)\n",
      "/Users/kunfu/miniconda2/envs/tf/lib/python3.5/site-packages/sklearn/linear_model/stochastic_gradient.py:603: ConvergenceWarning: Maximum number of iteration reached before convergence. Consider increasing max_iter to improve the fit.\n",
      "  ConvergenceWarning)\n",
      "/Users/kunfu/miniconda2/envs/tf/lib/python3.5/site-packages/sklearn/linear_model/stochastic_gradient.py:603: ConvergenceWarning: Maximum number of iteration reached before convergence. Consider increasing max_iter to improve the fit.\n",
      "  ConvergenceWarning)\n",
      "/Users/kunfu/miniconda2/envs/tf/lib/python3.5/site-packages/sklearn/linear_model/stochastic_gradient.py:603: ConvergenceWarning: Maximum number of iteration reached before convergence. Consider increasing max_iter to improve the fit.\n",
      "  ConvergenceWarning)\n",
      "/Users/kunfu/miniconda2/envs/tf/lib/python3.5/site-packages/sklearn/linear_model/stochastic_gradient.py:603: ConvergenceWarning: Maximum number of iteration reached before convergence. Consider increasing max_iter to improve the fit.\n",
      "  ConvergenceWarning)\n",
      "/Users/kunfu/miniconda2/envs/tf/lib/python3.5/site-packages/sklearn/linear_model/stochastic_gradient.py:603: ConvergenceWarning: Maximum number of iteration reached before convergence. Consider increasing max_iter to improve the fit.\n",
      "  ConvergenceWarning)\n",
      "/Users/kunfu/miniconda2/envs/tf/lib/python3.5/site-packages/sklearn/linear_model/stochastic_gradient.py:603: ConvergenceWarning: Maximum number of iteration reached before convergence. Consider increasing max_iter to improve the fit.\n",
      "  ConvergenceWarning)\n",
      "/Users/kunfu/miniconda2/envs/tf/lib/python3.5/site-packages/sklearn/linear_model/stochastic_gradient.py:603: ConvergenceWarning: Maximum number of iteration reached before convergence. Consider increasing max_iter to improve the fit.\n",
      "  ConvergenceWarning)\n",
      "/Users/kunfu/miniconda2/envs/tf/lib/python3.5/site-packages/sklearn/linear_model/stochastic_gradient.py:603: ConvergenceWarning: Maximum number of iteration reached before convergence. Consider increasing max_iter to improve the fit.\n",
      "  ConvergenceWarning)\n",
      "/Users/kunfu/miniconda2/envs/tf/lib/python3.5/site-packages/sklearn/linear_model/stochastic_gradient.py:603: ConvergenceWarning: Maximum number of iteration reached before convergence. Consider increasing max_iter to improve the fit.\n",
      "  ConvergenceWarning)\n",
      "/Users/kunfu/miniconda2/envs/tf/lib/python3.5/site-packages/sklearn/linear_model/stochastic_gradient.py:603: ConvergenceWarning: Maximum number of iteration reached before convergence. Consider increasing max_iter to improve the fit.\n",
      "  ConvergenceWarning)\n",
      "/Users/kunfu/miniconda2/envs/tf/lib/python3.5/site-packages/sklearn/linear_model/stochastic_gradient.py:603: ConvergenceWarning: Maximum number of iteration reached before convergence. Consider increasing max_iter to improve the fit.\n",
      "  ConvergenceWarning)\n",
      "/Users/kunfu/miniconda2/envs/tf/lib/python3.5/site-packages/sklearn/linear_model/stochastic_gradient.py:603: ConvergenceWarning: Maximum number of iteration reached before convergence. Consider increasing max_iter to improve the fit.\n",
      "  ConvergenceWarning)\n",
      "/Users/kunfu/miniconda2/envs/tf/lib/python3.5/site-packages/sklearn/linear_model/stochastic_gradient.py:603: ConvergenceWarning: Maximum number of iteration reached before convergence. Consider increasing max_iter to improve the fit.\n",
      "  ConvergenceWarning)\n",
      "/Users/kunfu/miniconda2/envs/tf/lib/python3.5/site-packages/sklearn/linear_model/stochastic_gradient.py:603: ConvergenceWarning: Maximum number of iteration reached before convergence. Consider increasing max_iter to improve the fit.\n",
      "  ConvergenceWarning)\n",
      "/Users/kunfu/miniconda2/envs/tf/lib/python3.5/site-packages/sklearn/linear_model/stochastic_gradient.py:603: ConvergenceWarning: Maximum number of iteration reached before convergence. Consider increasing max_iter to improve the fit.\n",
      "  ConvergenceWarning)\n",
      "/Users/kunfu/miniconda2/envs/tf/lib/python3.5/site-packages/sklearn/linear_model/stochastic_gradient.py:603: ConvergenceWarning: Maximum number of iteration reached before convergence. Consider increasing max_iter to improve the fit.\n",
      "  ConvergenceWarning)\n",
      "/Users/kunfu/miniconda2/envs/tf/lib/python3.5/site-packages/sklearn/linear_model/stochastic_gradient.py:603: ConvergenceWarning: Maximum number of iteration reached before convergence. Consider increasing max_iter to improve the fit.\n",
      "  ConvergenceWarning)\n"
     ]
    },
    {
     "name": "stderr",
     "output_type": "stream",
     "text": [
      "/Users/kunfu/miniconda2/envs/tf/lib/python3.5/site-packages/sklearn/linear_model/stochastic_gradient.py:603: ConvergenceWarning: Maximum number of iteration reached before convergence. Consider increasing max_iter to improve the fit.\n",
      "  ConvergenceWarning)\n",
      "/Users/kunfu/miniconda2/envs/tf/lib/python3.5/site-packages/sklearn/linear_model/stochastic_gradient.py:603: ConvergenceWarning: Maximum number of iteration reached before convergence. Consider increasing max_iter to improve the fit.\n",
      "  ConvergenceWarning)\n",
      "/Users/kunfu/miniconda2/envs/tf/lib/python3.5/site-packages/sklearn/linear_model/stochastic_gradient.py:603: ConvergenceWarning: Maximum number of iteration reached before convergence. Consider increasing max_iter to improve the fit.\n",
      "  ConvergenceWarning)\n",
      "/Users/kunfu/miniconda2/envs/tf/lib/python3.5/site-packages/sklearn/linear_model/stochastic_gradient.py:603: ConvergenceWarning: Maximum number of iteration reached before convergence. Consider increasing max_iter to improve the fit.\n",
      "  ConvergenceWarning)\n",
      "/Users/kunfu/miniconda2/envs/tf/lib/python3.5/site-packages/sklearn/linear_model/stochastic_gradient.py:603: ConvergenceWarning: Maximum number of iteration reached before convergence. Consider increasing max_iter to improve the fit.\n",
      "  ConvergenceWarning)\n",
      "/Users/kunfu/miniconda2/envs/tf/lib/python3.5/site-packages/sklearn/linear_model/stochastic_gradient.py:603: ConvergenceWarning: Maximum number of iteration reached before convergence. Consider increasing max_iter to improve the fit.\n",
      "  ConvergenceWarning)\n",
      "/Users/kunfu/miniconda2/envs/tf/lib/python3.5/site-packages/sklearn/linear_model/stochastic_gradient.py:603: ConvergenceWarning: Maximum number of iteration reached before convergence. Consider increasing max_iter to improve the fit.\n",
      "  ConvergenceWarning)\n",
      "/Users/kunfu/miniconda2/envs/tf/lib/python3.5/site-packages/sklearn/linear_model/stochastic_gradient.py:603: ConvergenceWarning: Maximum number of iteration reached before convergence. Consider increasing max_iter to improve the fit.\n",
      "  ConvergenceWarning)\n",
      "/Users/kunfu/miniconda2/envs/tf/lib/python3.5/site-packages/sklearn/linear_model/stochastic_gradient.py:603: ConvergenceWarning: Maximum number of iteration reached before convergence. Consider increasing max_iter to improve the fit.\n",
      "  ConvergenceWarning)\n",
      "/Users/kunfu/miniconda2/envs/tf/lib/python3.5/site-packages/sklearn/linear_model/stochastic_gradient.py:603: ConvergenceWarning: Maximum number of iteration reached before convergence. Consider increasing max_iter to improve the fit.\n",
      "  ConvergenceWarning)\n",
      "/Users/kunfu/miniconda2/envs/tf/lib/python3.5/site-packages/sklearn/linear_model/stochastic_gradient.py:603: ConvergenceWarning: Maximum number of iteration reached before convergence. Consider increasing max_iter to improve the fit.\n",
      "  ConvergenceWarning)\n",
      "/Users/kunfu/miniconda2/envs/tf/lib/python3.5/site-packages/sklearn/linear_model/stochastic_gradient.py:603: ConvergenceWarning: Maximum number of iteration reached before convergence. Consider increasing max_iter to improve the fit.\n",
      "  ConvergenceWarning)\n"
     ]
    },
    {
     "name": "stdout",
     "output_type": "stream",
     "text": [
      "{'loss': 'modified_huber'} 0.7234262421741824\n"
     ]
    },
    {
     "name": "stderr",
     "output_type": "stream",
     "text": [
      "/Users/kunfu/miniconda2/envs/tf/lib/python3.5/site-packages/sklearn/linear_model/stochastic_gradient.py:603: ConvergenceWarning: Maximum number of iteration reached before convergence. Consider increasing max_iter to improve the fit.\n",
      "  ConvergenceWarning)\n"
     ]
    }
   ],
   "source": [
    "from sklearn.linear_model import SGDClassifier\n",
    "sgd_clf = SGDClassifier(max_iter=100, tol=0.01, n_jobs=5, random_state=rand_number)\n",
    "gs = grid_search(sgd_clf, {\"loss\": [\"hinge\", \"log\", \"modified_huber\", \"squared_hinge\", \"perceptron\", 'squared_loss'\n",
    "                                    , 'huber', 'epsilon_insensitive', 'squared_epsilon_insensitive']})"
   ]
  },
  {
   "cell_type": "code",
   "execution_count": 42,
   "metadata": {},
   "outputs": [
    {
     "name": "stderr",
     "output_type": "stream",
     "text": [
      "/Users/kunfu/miniconda2/envs/tf/lib/python3.5/site-packages/sklearn/linear_model/stochastic_gradient.py:603: ConvergenceWarning: Maximum number of iteration reached before convergence. Consider increasing max_iter to improve the fit.\n",
      "  ConvergenceWarning)\n",
      "/Users/kunfu/miniconda2/envs/tf/lib/python3.5/site-packages/sklearn/linear_model/stochastic_gradient.py:603: ConvergenceWarning: Maximum number of iteration reached before convergence. Consider increasing max_iter to improve the fit.\n",
      "  ConvergenceWarning)\n",
      "/Users/kunfu/miniconda2/envs/tf/lib/python3.5/site-packages/sklearn/linear_model/stochastic_gradient.py:603: ConvergenceWarning: Maximum number of iteration reached before convergence. Consider increasing max_iter to improve the fit.\n",
      "  ConvergenceWarning)\n",
      "/Users/kunfu/miniconda2/envs/tf/lib/python3.5/site-packages/sklearn/linear_model/stochastic_gradient.py:603: ConvergenceWarning: Maximum number of iteration reached before convergence. Consider increasing max_iter to improve the fit.\n",
      "  ConvergenceWarning)\n",
      "/Users/kunfu/miniconda2/envs/tf/lib/python3.5/site-packages/sklearn/linear_model/stochastic_gradient.py:603: ConvergenceWarning: Maximum number of iteration reached before convergence. Consider increasing max_iter to improve the fit.\n",
      "  ConvergenceWarning)\n",
      "/Users/kunfu/miniconda2/envs/tf/lib/python3.5/site-packages/sklearn/linear_model/stochastic_gradient.py:603: ConvergenceWarning: Maximum number of iteration reached before convergence. Consider increasing max_iter to improve the fit.\n",
      "  ConvergenceWarning)\n",
      "/Users/kunfu/miniconda2/envs/tf/lib/python3.5/site-packages/sklearn/linear_model/stochastic_gradient.py:603: ConvergenceWarning: Maximum number of iteration reached before convergence. Consider increasing max_iter to improve the fit.\n",
      "  ConvergenceWarning)\n",
      "/Users/kunfu/miniconda2/envs/tf/lib/python3.5/site-packages/sklearn/linear_model/stochastic_gradient.py:603: ConvergenceWarning: Maximum number of iteration reached before convergence. Consider increasing max_iter to improve the fit.\n",
      "  ConvergenceWarning)\n",
      "/Users/kunfu/miniconda2/envs/tf/lib/python3.5/site-packages/sklearn/linear_model/stochastic_gradient.py:603: ConvergenceWarning: Maximum number of iteration reached before convergence. Consider increasing max_iter to improve the fit.\n",
      "  ConvergenceWarning)\n",
      "/Users/kunfu/miniconda2/envs/tf/lib/python3.5/site-packages/sklearn/linear_model/stochastic_gradient.py:603: ConvergenceWarning: Maximum number of iteration reached before convergence. Consider increasing max_iter to improve the fit.\n",
      "  ConvergenceWarning)\n"
     ]
    },
    {
     "name": "stdout",
     "output_type": "stream",
     "text": [
      "{'penalty': 'l1'} 0.7444832363524034\n"
     ]
    },
    {
     "name": "stderr",
     "output_type": "stream",
     "text": [
      "/Users/kunfu/miniconda2/envs/tf/lib/python3.5/site-packages/sklearn/linear_model/stochastic_gradient.py:603: ConvergenceWarning: Maximum number of iteration reached before convergence. Consider increasing max_iter to improve the fit.\n",
      "  ConvergenceWarning)\n"
     ]
    }
   ],
   "source": [
    "sgd_clf = SGDClassifier(loss=\"modified_huber\", max_iter=100, tol=0.01, n_jobs=5, random_state=rand_number)\n",
    "gs = grid_search(sgd_clf, {\"penalty\": ['l2', 'l1', 'elasticnet']})"
   ]
  },
  {
   "cell_type": "code",
   "execution_count": 45,
   "metadata": {},
   "outputs": [
    {
     "name": "stderr",
     "output_type": "stream",
     "text": [
      "/Users/kunfu/miniconda2/envs/tf/lib/python3.5/site-packages/sklearn/linear_model/stochastic_gradient.py:603: ConvergenceWarning: Maximum number of iteration reached before convergence. Consider increasing max_iter to improve the fit.\n",
      "  ConvergenceWarning)\n",
      "/Users/kunfu/miniconda2/envs/tf/lib/python3.5/site-packages/sklearn/linear_model/stochastic_gradient.py:603: ConvergenceWarning: Maximum number of iteration reached before convergence. Consider increasing max_iter to improve the fit.\n",
      "  ConvergenceWarning)\n",
      "/Users/kunfu/miniconda2/envs/tf/lib/python3.5/site-packages/sklearn/linear_model/stochastic_gradient.py:603: ConvergenceWarning: Maximum number of iteration reached before convergence. Consider increasing max_iter to improve the fit.\n",
      "  ConvergenceWarning)\n",
      "/Users/kunfu/miniconda2/envs/tf/lib/python3.5/site-packages/sklearn/linear_model/stochastic_gradient.py:603: ConvergenceWarning: Maximum number of iteration reached before convergence. Consider increasing max_iter to improve the fit.\n",
      "  ConvergenceWarning)\n",
      "/Users/kunfu/miniconda2/envs/tf/lib/python3.5/site-packages/sklearn/linear_model/stochastic_gradient.py:603: ConvergenceWarning: Maximum number of iteration reached before convergence. Consider increasing max_iter to improve the fit.\n",
      "  ConvergenceWarning)\n",
      "/Users/kunfu/miniconda2/envs/tf/lib/python3.5/site-packages/sklearn/linear_model/stochastic_gradient.py:603: ConvergenceWarning: Maximum number of iteration reached before convergence. Consider increasing max_iter to improve the fit.\n",
      "  ConvergenceWarning)\n",
      "/Users/kunfu/miniconda2/envs/tf/lib/python3.5/site-packages/sklearn/linear_model/stochastic_gradient.py:603: ConvergenceWarning: Maximum number of iteration reached before convergence. Consider increasing max_iter to improve the fit.\n",
      "  ConvergenceWarning)\n",
      "/Users/kunfu/miniconda2/envs/tf/lib/python3.5/site-packages/sklearn/linear_model/stochastic_gradient.py:603: ConvergenceWarning: Maximum number of iteration reached before convergence. Consider increasing max_iter to improve the fit.\n",
      "  ConvergenceWarning)\n",
      "/Users/kunfu/miniconda2/envs/tf/lib/python3.5/site-packages/sklearn/linear_model/stochastic_gradient.py:603: ConvergenceWarning: Maximum number of iteration reached before convergence. Consider increasing max_iter to improve the fit.\n",
      "  ConvergenceWarning)\n",
      "/Users/kunfu/miniconda2/envs/tf/lib/python3.5/site-packages/sklearn/linear_model/stochastic_gradient.py:603: ConvergenceWarning: Maximum number of iteration reached before convergence. Consider increasing max_iter to improve the fit.\n",
      "  ConvergenceWarning)\n",
      "/Users/kunfu/miniconda2/envs/tf/lib/python3.5/site-packages/sklearn/linear_model/stochastic_gradient.py:603: ConvergenceWarning: Maximum number of iteration reached before convergence. Consider increasing max_iter to improve the fit.\n",
      "  ConvergenceWarning)\n",
      "/Users/kunfu/miniconda2/envs/tf/lib/python3.5/site-packages/sklearn/linear_model/stochastic_gradient.py:603: ConvergenceWarning: Maximum number of iteration reached before convergence. Consider increasing max_iter to improve the fit.\n",
      "  ConvergenceWarning)\n",
      "/Users/kunfu/miniconda2/envs/tf/lib/python3.5/site-packages/sklearn/linear_model/stochastic_gradient.py:603: ConvergenceWarning: Maximum number of iteration reached before convergence. Consider increasing max_iter to improve the fit.\n",
      "  ConvergenceWarning)\n",
      "/Users/kunfu/miniconda2/envs/tf/lib/python3.5/site-packages/sklearn/linear_model/stochastic_gradient.py:603: ConvergenceWarning: Maximum number of iteration reached before convergence. Consider increasing max_iter to improve the fit.\n",
      "  ConvergenceWarning)\n",
      "/Users/kunfu/miniconda2/envs/tf/lib/python3.5/site-packages/sklearn/linear_model/stochastic_gradient.py:603: ConvergenceWarning: Maximum number of iteration reached before convergence. Consider increasing max_iter to improve the fit.\n",
      "  ConvergenceWarning)\n",
      "/Users/kunfu/miniconda2/envs/tf/lib/python3.5/site-packages/sklearn/linear_model/stochastic_gradient.py:603: ConvergenceWarning: Maximum number of iteration reached before convergence. Consider increasing max_iter to improve the fit.\n",
      "  ConvergenceWarning)\n",
      "/Users/kunfu/miniconda2/envs/tf/lib/python3.5/site-packages/sklearn/linear_model/stochastic_gradient.py:603: ConvergenceWarning: Maximum number of iteration reached before convergence. Consider increasing max_iter to improve the fit.\n",
      "  ConvergenceWarning)\n",
      "/Users/kunfu/miniconda2/envs/tf/lib/python3.5/site-packages/sklearn/linear_model/stochastic_gradient.py:603: ConvergenceWarning: Maximum number of iteration reached before convergence. Consider increasing max_iter to improve the fit.\n",
      "  ConvergenceWarning)\n",
      "/Users/kunfu/miniconda2/envs/tf/lib/python3.5/site-packages/sklearn/linear_model/stochastic_gradient.py:603: ConvergenceWarning: Maximum number of iteration reached before convergence. Consider increasing max_iter to improve the fit.\n",
      "  ConvergenceWarning)\n",
      "/Users/kunfu/miniconda2/envs/tf/lib/python3.5/site-packages/sklearn/linear_model/stochastic_gradient.py:603: ConvergenceWarning: Maximum number of iteration reached before convergence. Consider increasing max_iter to improve the fit.\n",
      "  ConvergenceWarning)\n",
      "/Users/kunfu/miniconda2/envs/tf/lib/python3.5/site-packages/sklearn/linear_model/stochastic_gradient.py:603: ConvergenceWarning: Maximum number of iteration reached before convergence. Consider increasing max_iter to improve the fit.\n",
      "  ConvergenceWarning)\n",
      "/Users/kunfu/miniconda2/envs/tf/lib/python3.5/site-packages/sklearn/linear_model/stochastic_gradient.py:603: ConvergenceWarning: Maximum number of iteration reached before convergence. Consider increasing max_iter to improve the fit.\n",
      "  ConvergenceWarning)\n",
      "/Users/kunfu/miniconda2/envs/tf/lib/python3.5/site-packages/sklearn/linear_model/stochastic_gradient.py:603: ConvergenceWarning: Maximum number of iteration reached before convergence. Consider increasing max_iter to improve the fit.\n",
      "  ConvergenceWarning)\n",
      "/Users/kunfu/miniconda2/envs/tf/lib/python3.5/site-packages/sklearn/linear_model/stochastic_gradient.py:603: ConvergenceWarning: Maximum number of iteration reached before convergence. Consider increasing max_iter to improve the fit.\n",
      "  ConvergenceWarning)\n",
      "/Users/kunfu/miniconda2/envs/tf/lib/python3.5/site-packages/sklearn/linear_model/stochastic_gradient.py:603: ConvergenceWarning: Maximum number of iteration reached before convergence. Consider increasing max_iter to improve the fit.\n",
      "  ConvergenceWarning)\n"
     ]
    },
    {
     "name": "stdout",
     "output_type": "stream",
     "text": [
      "{'tol': 0.0001, 'max_iter': 100} 0.7444832363524034\n"
     ]
    },
    {
     "name": "stderr",
     "output_type": "stream",
     "text": [
      "/Users/kunfu/miniconda2/envs/tf/lib/python3.5/site-packages/sklearn/linear_model/stochastic_gradient.py:603: ConvergenceWarning: Maximum number of iteration reached before convergence. Consider increasing max_iter to improve the fit.\n",
      "  ConvergenceWarning)\n"
     ]
    }
   ],
   "source": [
    "sgd_clf = SGDClassifier(penalty='l1', loss=\"modified_huber\", n_jobs=5, random_state=rand_number)\n",
    "gs = grid_search(sgd_clf, {\"max_iter\": [50, 100, 200, 300, 400, 500], \"tol\": [0.0001, 0.001, 0.01, 0.1, 0.00001]})"
   ]
  },
  {
   "cell_type": "markdown",
   "metadata": {},
   "source": [
    "## SGD Tuned"
   ]
  },
  {
   "cell_type": "code",
   "execution_count": 46,
   "metadata": {},
   "outputs": [
    {
     "name": "stdout",
     "output_type": "stream",
     "text": [
      "acc: 0.6433\n",
      "auc: 0.538745\n"
     ]
    },
    {
     "name": "stderr",
     "output_type": "stream",
     "text": [
      "/Users/kunfu/miniconda2/envs/tf/lib/python3.5/site-packages/sklearn/linear_model/stochastic_gradient.py:603: ConvergenceWarning: Maximum number of iteration reached before convergence. Consider increasing max_iter to improve the fit.\n",
      "  ConvergenceWarning)\n"
     ]
    }
   ],
   "source": [
    "gb_clf = SGDClassifier(max_iter=100, tol=0.0001, penalty='l1', loss=\"modified_huber\"\n",
    "                       , n_jobs=5, random_state=rand_number)\n",
    "\n",
    "gb_clf.fit(X_train, y_train)\n",
    "y_pred = gb_clf.predict(X_train)\n",
    "y_predprob = gb_clf.predict_proba(X_train)[:, 1]\n",
    "print(\"acc: %.4g\" % metrics.accuracy_score(y_train, y_pred))\n",
    "print(\"auc: %f\" % roc_auc_score(y_train, y_predprob))"
   ]
  },
  {
   "cell_type": "markdown",
   "metadata": {},
   "source": [
    "## Visualize and Select Model"
   ]
  },
  {
   "cell_type": "code",
   "execution_count": 24,
   "metadata": {},
   "outputs": [],
   "source": [
    "%matplotlib inline\n",
    "\n",
    "import matplotlib.pyplot as pl\n",
    "import matplotlib.patches as mpatches\n",
    "import numpy as np\n",
    "\n",
    "from IPython import get_ipython\n",
    "\n",
    "\n",
    "def show_tables(results):\n",
    "    m_num = len(results.keys())\n",
    "    data_set = [\"train\", \"test\"]\n",
    "    metric_set = ['accuracy', 'f1-score']\n",
    "    \n",
    "    # Create figure\n",
    "    fig, ax = pl.subplots(1, m_num, figsize=(15, 5))\n",
    "\n",
    "    # Constants\n",
    "    bar_width = 0.4\n",
    "    colors = ['#A00000', '#ff0000', '#00A0A0', '#00ffff']\n",
    "\n",
    "    # Super loop to plot four panels of data\n",
    "    for k, learner in enumerate(results.keys()):\n",
    "        for m_num, metric in enumerate(metric_set):\n",
    "            for i, set_name in enumerate(data_set):\n",
    "                # Creative plot code\n",
    "                ax[k].bar(m_num*1.4 + i*bar_width + 0.6,\n",
    "                          results[learner][set_name][metric],\n",
    "                          width=bar_width, color=colors[m_num*2 + i])\n",
    "        ax[k].set_xticks([0.8, 2.2])\n",
    "        ax[k].set_xticklabels(metric_set)\n",
    "        ax[k].set_xlabel(\"{l} on {t}\".format(l=learner, t=set_name))\n",
    "        ax[k].set_xlim((0, 3))\n",
    "        ax[k].set_ylim((0, 1))\n",
    "\n",
    "    # Create patches for the legend\n",
    "    patches = []\n",
    "    for m_num, metric_s in enumerate(metric_set):\n",
    "        for i, data_s in enumerate(data_set):\n",
    "            patches.append(mpatches.Patch(color=colors[m_num*2 + i], label=\"%s of %s\" % (metric_s, data_s)))\n",
    "    pl.legend(handles=patches, bbox_to_anchor=(0, 1.2),\n",
    "              loc='upper center', borderaxespad=0., ncol=2, fontsize='x-large')\n",
    "\n",
    "    # Aesthetics\n",
    "    pl.suptitle(\"Performance Metrics for Three Supervised Learning Models\", fontsize=16, y=1.10)\n",
    "    pl.subplots_adjust(top=0.85, bottom=0., left=0.10, right=0.95, hspace=0.3, wspace=0.35)\n",
    "    pl.show()"
   ]
  },
  {
   "cell_type": "code",
   "execution_count": 25,
   "metadata": {},
   "outputs": [],
   "source": [
    "# show_tables({ \"m_a\":{\"train\":{\"f1-score\": 0.2, \"accuracy\": 0.3}\n",
    "#                     ,\"test\": {\"f1-score\": 0.19, \"accuracy\": 0.29}}\n",
    "#              ,\"m_b\":{\"train\":{\"f1-score\": 0.2, \"accuracy\": 0.3}\n",
    "#                     ,\"test\": {\"f1-score\": 0.18, \"accuracy\": 0.27}}\n",
    "#              ,\"m_c\":{\"train\":{\"f1-score\": 0.2, \"accuracy\": 0.3}\n",
    "#                     ,\"test\": {\"f1-score\": 0.18, \"accuracy\": 0.27}}\n",
    "#             })"
   ]
  },
  {
   "cell_type": "code",
   "execution_count": 26,
   "metadata": {},
   "outputs": [],
   "source": [
    "import features as ft\n",
    "import numpy as np\n",
    "\n",
    "def prepare_train_data(n=0):\n",
    "    t_data = ft.gen_processed_feature()\n",
    "    features = ['len_q1', 'len_q2', 'diff_len', 'len_char_q1', 'len_char_q2', 'len_word_q1', 'len_word_q2',\n",
    "       'common_words', 'fuzz_qratio', 'fuzz_WRatio', 'fuzz_partial_ratio',\n",
    "       'fuzz_partial_token_set_ratio', 'fuzz_partial_token_sort_ratio',\n",
    "       'fuzz_token_set_ratio', 'fuzz_token_sort_ratio', 'wmd', 'norm_wmd',\n",
    "       'cosine_distance', 'cityblock_distance', 'jaccard_distance',\n",
    "       'canberra_distance', 'euclidean_distance', 'minkowski_distance',\n",
    "       'braycurtis_distance', 'skew_q1vec', 'skew_q2vec', 'kur_q1vec',\n",
    "       'kur_q2vec', 'len_q_ratio_ln', 'len_char_q_ratio_ln',\n",
    "       'len_word_q_ratio_ln']\n",
    "    feature_data = t_data\n",
    "    if(n>0):\n",
    "        feature_data = t_data[:n]\n",
    "    feature_data = feature_data.dropna()\n",
    "    input_data = feature_data[features]\n",
    "    input_data = input_data.replace([np.inf, -np.inf], 100).fillna(0).astype(np.float64)\n",
    "    result = feature_data[['is_duplicate']]\n",
    "    result = result.values.ravel()\n",
    "    return input_data, result"
   ]
  },
  {
   "cell_type": "code",
   "execution_count": 27,
   "metadata": {},
   "outputs": [
    {
     "name": "stdout",
     "output_type": "stream",
     "text": [
      "read the data for processed_features_train\n",
      "data for processed_features_train read\n"
     ]
    }
   ],
   "source": [
    "from sklearn.model_selection import train_test_split\n",
    "input_data, result = prepare_train_data()\n",
    "X_train, X_test, y_train, y_test = train_test_split(input_data, result, test_size = 0.2, random_state = 0,\n",
    "                                                    stratify = result)\n",
    "X_train, X_val, y_train, y_val = train_test_split(X_train, y_train, test_size=0.2, random_state=0,\n",
    "                                                    stratify = y_train)"
   ]
  },
  {
   "cell_type": "code",
   "execution_count": 28,
   "metadata": {},
   "outputs": [],
   "source": [
    "from sklearn.metrics import accuracy_score, fbeta_score, make_scorer\n",
    "from sklearn.ensemble import RandomForestClassifier\n",
    "from sklearn.ensemble import GradientBoostingClassifier\n",
    "from sklearn.linear_model import SGDClassifier\n",
    "from sklearn.linear_model import LogisticRegression\n",
    "rand_number = 42"
   ]
  },
  {
   "cell_type": "code",
   "execution_count": 29,
   "metadata": {},
   "outputs": [],
   "source": [
    "rf_clf = RandomForestClassifier(n_estimators=90, max_depth=20, min_samples_split=30, max_features=\"auto\",\n",
    "                             min_samples_leaf=10, random_state=rand_number)\n",
    "gbdt_clf = GradientBoostingClassifier(learning_rate=0.1, n_estimators=140, max_depth=14, min_samples_split=550,\n",
    "                                    max_features='sqrt', subsample=0.85, random_state=rand_number)\n",
    "lr_clf = LogisticRegression(penalty='l2', solver='newton-cg', n_jobs=5, C=1)\n",
    "sgd_clf = SGDClassifier(max_iter=100, tol=0.0001, penalty='l1', loss=\"modified_huber\"\n",
    "                       , n_jobs=5, random_state=rand_number)"
   ]
  },
  {
   "cell_type": "code",
   "execution_count": 30,
   "metadata": {},
   "outputs": [
    {
     "name": "stdout",
     "output_type": "stream",
     "text": [
      "start train RandomForest\n",
      "start test RandomForest\n",
      "start train GBDT\n",
      "start test GBDT\n",
      "start train LogsitcRegression\n",
      "start test LogsitcRegression\n",
      "start train SGD\n",
      "start test SGD\n",
      "train_test done\n"
     ]
    },
    {
     "name": "stderr",
     "output_type": "stream",
     "text": [
      "/Users/kunfu/miniconda2/envs/tf/lib/python3.5/site-packages/sklearn/linear_model/stochastic_gradient.py:603: ConvergenceWarning: Maximum number of iteration reached before convergence. Consider increasing max_iter to improve the fit.\n",
      "  ConvergenceWarning)\n"
     ]
    }
   ],
   "source": [
    "models=[(rf_clf, \"RandomForest\"), (gbdt_clf, \"GBDT\"), (lr_clf, \"LogsitcRegression\"), (sgd_clf, \"SGD\")]\n",
    "def train_test_models(l):\n",
    "    result = {}\n",
    "    for clf, name in l:\n",
    "        print(\"start train %s\" % name)\n",
    "        train_dict = {}\n",
    "        clf.fit(X_train, y_train)\n",
    "        y_train_pred = clf.predict(X_train)\n",
    "        train_dict[\"accuracy\"] = accuracy_score(y_train, y_train_pred)\n",
    "        train_dict[\"f1-score\"] = fbeta_score(y_train, y_train_pred, beta=1)\n",
    "        print(\"start test %s\" % name)\n",
    "        test_dict = {}\n",
    "        y_test_pred = clf.predict(X_test)\n",
    "        test_dict[\"accuracy\"] = accuracy_score(y_test, y_test_pred)\n",
    "        test_dict[\"f1-score\"] = fbeta_score(y_test, y_test_pred, beta=1)\n",
    "        result[name] = {\"train\": train_dict, \"test\": test_dict}\n",
    "    print(\"train_test done\")\n",
    "    return result\n",
    "performance_result = train_test_models(models)"
   ]
  },
  {
   "cell_type": "code",
   "execution_count": 31,
   "metadata": {},
   "outputs": [
    {
     "data": {
      "image/png": "[encoded data removed]",
      "text/plain": [
       "<Figure size 1080x360 with 4 Axes>"
      ]
     },
     "metadata": {
      "needs_background": "light"
     },
     "output_type": "display_data"
    }
   ],
   "source": [
    "show_tables(performance_result)"
   ]
  },
  {
   "cell_type": "code",
   "execution_count": 32,
   "metadata": {},
   "outputs": [
    {
     "name": "stdout",
     "output_type": "stream",
     "text": [
      "{'SGD': {'train': {'accuracy': 0.5997430194055285, 'f1-score': 0.6405736376280627}, 'test': {'accuracy': 0.6009217047811882, 'f1-score': 0.6412916047921574}}, 'LogsitcRegression': {'train': {'accuracy': 0.6773263148905115, 'f1-score': 0.5625680831469544}, 'test': {'accuracy': 0.6761114492627603, 'f1-score': 0.562648864436915}}, 'GBDT': {'train': {'accuracy': 0.8388980113118044, 'f1-score': 0.791973894605988}, 'test': {'accuracy': 0.7689775536315416, 'f1-score': 0.7022605020491803}}, 'RandomForest': {'train': {'accuracy': 0.8341854064524644, 'f1-score': 0.7904350257816678}, 'test': {'accuracy': 0.7567668285653951, 'f1-score': 0.6915455018036892}}}\n"
     ]
    }
   ],
   "source": [
    "print(performance_result)"
   ]
  },
  {
   "cell_type": "code",
   "execution_count": 121,
   "metadata": {},
   "outputs": [
    {
     "name": "stdout",
     "output_type": "stream",
     "text": [
      "{'GBDT': {'train': {'accuracy': 0.8405457110282324, 'f1-score': 0.7935303714231381}, 'test': {'accuracy': 0.7680130599322269, 'f1-score': 0.7003322896031695}}, 'RandomForest': {'train': {'accuracy': 0.8342615316237995, 'f1-score': 0.7900950553592231}, 'test': {'accuracy': 0.7574637017982142, 'f1-score': 0.692737955346651}}, 'LogsitcRegression': {'train': {'accuracy': 0.6796421186882838, 'f1-score': 0.5643300518761071}, 'test': {'accuracy': 0.6788938633159366, 'f1-score': 0.5626894832581014}}, 'SGD': {'train': {'accuracy': 0.5425109663954859, 'f1-score': 0.6129362408975126}, 'test': {'accuracy': 0.544015434465359, 'f1-score': 0.6138943576425251}}}\n"
     ]
    }
   ],
   "source": [
    "print(performance_result)"
   ]
  },
  {
   "cell_type": "code",
   "execution_count": 6,
   "metadata": {},
   "outputs": [
    {
     "data": {
      "text/plain": [
       "GradientBoostingClassifier(criterion='friedman_mse', init=None,\n",
       "              learning_rate=0.1, loss='deviance', max_depth=14,\n",
       "              max_features='sqrt', max_leaf_nodes=None,\n",
       "              min_impurity_decrease=0.0, min_impurity_split=None,\n",
       "              min_samples_leaf=1, min_samples_split=550,\n",
       "              min_weight_fraction_leaf=0.0, n_estimators=140,\n",
       "              n_iter_no_change=None, presort='auto', random_state=42,\n",
       "              subsample=0.85, tol=0.0001, validation_fraction=0.1,\n",
       "              verbose=0, warm_start=False)"
      ]
     },
     "execution_count": 6,
     "metadata": {},
     "output_type": "execute_result"
    }
   ],
   "source": [
    "import _pickle as pk\n",
    "\n",
    "gbdt_clf = GradientBoostingClassifier(learning_rate=0.1, n_estimators=140, max_depth=14, min_samples_split=550,\n",
    "                                    max_features='sqrt', subsample=0.85, random_state=rand_number)\n",
    "gbdt_clf.fit(input_data, result)"
   ]
  },
  {
   "cell_type": "code",
   "execution_count": 8,
   "metadata": {},
   "outputs": [],
   "source": [
    "pk.dump(gbdt_clf, open(\"gbdt.pickle\", \"wb\"))"
   ]
  },
  {
   "cell_type": "code",
   "execution_count": 11,
   "metadata": {},
   "outputs": [
    {
     "data": {
      "text/html": [
       "<div>\n",
       "<style scoped>\n",
       "    .dataframe tbody tr th:only-of-type {\n",
       "        vertical-align: middle;\n",
       "    }\n",
       "\n",
       "    .dataframe tbody tr th {\n",
       "        vertical-align: top;\n",
       "    }\n",
       "\n",
       "    .dataframe thead th {\n",
       "        text-align: right;\n",
       "    }\n",
       "</style>\n",
       "<table border=\"1\" class=\"dataframe\">\n",
       "  <thead>\n",
       "    <tr style=\"text-align: right;\">\n",
       "      <th></th>\n",
       "      <th>0</th>\n",
       "      <th>1</th>\n",
       "      <th>2</th>\n",
       "      <th>3</th>\n",
       "    </tr>\n",
       "  </thead>\n",
       "  <tbody>\n",
       "    <tr>\n",
       "      <th>0</th>\n",
       "      <td>6</td>\n",
       "      <td>5</td>\n",
       "      <td>4</td>\n",
       "      <td>3</td>\n",
       "    </tr>\n",
       "    <tr>\n",
       "      <th>1</th>\n",
       "      <td>5</td>\n",
       "      <td>6</td>\n",
       "      <td>7</td>\n",
       "      <td>8</td>\n",
       "    </tr>\n",
       "    <tr>\n",
       "      <th>2</th>\n",
       "      <td>1</td>\n",
       "      <td>2</td>\n",
       "      <td>3</td>\n",
       "      <td>4</td>\n",
       "    </tr>\n",
       "    <tr>\n",
       "      <th>3</th>\n",
       "      <td>5</td>\n",
       "      <td>6</td>\n",
       "      <td>7</td>\n",
       "      <td>8</td>\n",
       "    </tr>\n",
       "  </tbody>\n",
       "</table>\n",
       "</div>"
      ],
      "text/plain": [
       "   0  1  2  3\n",
       "0  6  5  4  3\n",
       "1  5  6  7  8\n",
       "2  1  2  3  4\n",
       "3  5  6  7  8"
      ]
     },
     "execution_count": 11,
     "metadata": {},
     "output_type": "execute_result"
    }
   ],
   "source": [
    "df = pd.DataFrame(np.array([\n",
    "    [1,2,3,4],\n",
    "    [5,6,7,8]\n",
    "]))\n",
    "df1 = pd.DataFrame(np.array([\n",
    "    [6,5,4,3],\n",
    "    [5,6,7,8]\n",
    "]))\n",
    "pd.concat([df1,df]).reset_index(drop=True)"
   ]
  },
  {
   "cell_type": "code",
   "execution_count": 7,
   "metadata": {},
   "outputs": [
    {
     "data": {
      "text/plain": [
       "1"
      ]
     },
     "execution_count": 7,
     "metadata": {},
     "output_type": "execute_result"
    }
   ],
   "source": [
    "t = (\"a\", 1)\n",
    "t[1]"
   ]
  },
  {
   "cell_type": "code",
   "execution_count": null,
   "metadata": {},
   "outputs": [],
   "source": []
  }
 ],
 "metadata": {
  "kernelspec": {
   "display_name": "Python 3",
   "language": "python",
   "name": "python3"
  },
  "language_info": {
   "codemirror_mode": {
    "name": "ipython",
    "version": 3
   },
   "file_extension": ".py",
   "mimetype": "text/x-python",
   "name": "python",
   "nbconvert_exporter": "python",
   "pygments_lexer": "ipython3",
   "version": "3.7.2"
  }
 },
 "nbformat": 4,
 "nbformat_minor": 2
}
