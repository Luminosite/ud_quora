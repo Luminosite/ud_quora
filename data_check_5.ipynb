{
 "cells": [
  {
   "cell_type": "code",
   "execution_count": 1,
   "metadata": {},
   "outputs": [
    {
     "name": "stdout",
     "output_type": "stream",
     "text": [
      "read the data for common_ratio_features_train\n",
      "data for common_ratio_features_train read\n"
     ]
    }
   ],
   "source": [
    "import features as ft\n",
    "t_data = ft.gen_common_ratio_feature()[:25000]"
   ]
  },
  {
   "cell_type": "code",
   "execution_count": 23,
   "metadata": {},
   "outputs": [],
   "source": [
    "import pandas as pd\n",
    "import numpy as np\n",
    "import sklearn\n",
    "from sklearn.metrics import roc_auc_score\n",
    "\n",
    "from time import time\n",
    "\n",
    "from sklearn.metrics import accuracy_score, fbeta_score, make_scorer, roc_auc_score\n",
    "from sklearn.ensemble import RandomForestClassifier, GradientBoostingClassifier\n",
    "from sklearn.linear_model import SGDClassifier, LogisticRegression\n",
    "from sklearn.model_selection import GridSearchCV\n",
    "from xgboost import XGBClassifier\n",
    "# from lightgbm import LGBMClassifier\n",
    "\n",
    "from scipy.stats import skew, kurtosis\n",
    "from scipy.spatial.distance import cosine, cityblock, jaccard, canberra, euclidean, minkowski, braycurtis\n",
    "from sklearn.feature_extraction import text\n",
    "from sklearn.feature_extraction.text import TfidfVectorizer\n",
    "seed = 42\n",
    "rand_number = seed\n",
    "np.random.seed(seed)\n",
    "\n",
    "from sklearn.decomposition import LatentDirichletAllocation\n",
    "from sklearn.decomposition import TruncatedSVD\n",
    "from sklearn.decomposition import NMF\n",
    "from sklearn.decomposition import PCA\n",
    "\n",
    "from sklearn.preprocessing import OneHotEncoder\n",
    "from sklearn.metrics import log_loss\n",
    "\n",
    "\n",
    "def one_hot(y):\n",
    "    oc = OneHotEncoder(categories='auto')\n",
    "    y_r = y.reshape(-1,1)\n",
    "    oc.fit(y_r)\n",
    "    r = oc.transform(y_r).toarray()\n",
    "    return r\n",
    "\n",
    "\n",
    "def get_log_loss(y_true, y_pred):\n",
    "    y_p = one_hot(y_pred)\n",
    "    return log_loss(y_true, y_p)\n",
    "\n",
    "\n",
    "def time_cnt(f, tag=\"func\"):\n",
    "    print(\"function '%s'starts\" % tag)\n",
    "    t_start = time()\n",
    "    ret = f()\n",
    "    t_end = time()\n",
    "    t_used = t_end - t_start\n",
    "    print(\"function '%s' use: %f s\" % (tag, t_used))\n",
    "    return ret\n",
    "\n",
    "\n",
    "def prepare_train_set(data, features):\n",
    "    t_data = data[data!=np.inf].dropna()\n",
    "    feature_data = t_data.drop_duplicates(features, keep='last')\n",
    "    input_data = feature_data[features]\n",
    "    input_data = input_data.astype(np.float64)\n",
    "    result = feature_data[['is_duplicate']]\n",
    "    from sklearn.model_selection import train_test_split\n",
    "    X_train, X_test, y_train, y_test = train_test_split(input_data, result, test_size = 0.2, random_state = 0,\n",
    "                                                        stratify = result)\n",
    "    return X_train, X_test, y_train, y_test\n",
    "\n",
    "\n",
    "def dist_features_for(data, q1, q2, tag=\"tfidf\"):\n",
    "    q1 = np.nan_to_num(q1)\n",
    "    q2 = np.nan_to_num(q2)\n",
    "\n",
    "    def add_dist_for(func):\n",
    "        col_name = '{d}_distance_{t}'.format(d=func.__name__, t=tag)\n",
    "        data[col_name] = [func(x, y)  for (x, y) in zip(q1, q2)]\n",
    "        return col_name\n",
    "\n",
    "    feats = []\n",
    "    feats .append( add_dist_for(cosine))\n",
    "    feats .append( add_dist_for(cityblock))\n",
    "    feats .append( add_dist_for(jaccard))\n",
    "    feats .append( add_dist_for(canberra))\n",
    "    feats .append( add_dist_for(euclidean))\n",
    "    feats .append( add_dist_for(minkowski))\n",
    "    feats .append( add_dist_for(braycurtis))\n",
    "\n",
    "    data['skew_q1vec_{t}'.format(t=tag)] = [skew(x) for x in q1]\n",
    "    feats .append( 'skew_q1vec_{t}'.format(t=tag))\n",
    "    data['skew_q2vec_{t}'.format(t=tag)] = [skew(x) for x in q2]\n",
    "    feats .append( 'skew_q2vec_{t}'.format(t=tag))\n",
    "    data['kur_q1vec_{t}'.format(t=tag)] = [kurtosis(x) for x in q1]\n",
    "    feats .append( 'kur_q1vec_{t}'.format(t=tag))\n",
    "    data['kur_q2vec_{t}'.format(t=tag)] = [kurtosis(x) for x in q2]\n",
    "    feats .append( 'kur_q2vec_{t}'.format(t=tag))\n",
    "\n",
    "    return data, feats\n",
    "\n",
    "\n",
    "def prepare_vec_dist_train_set(data, vec_gen, tag=\"tag\"):\n",
    "    vec = time_cnt(vec_gen, tag=\"vec gen for %s\" % tag)\n",
    "    single_set_size = int(vec.shape[0]/2)\n",
    "    q1 = vec[:single_set_size]\n",
    "    q2 = vec[single_set_size:]\n",
    "    \n",
    "    print(\"dist features for %s starts to gen\" % tag)\n",
    "    dist_features_data, features = dist_features_for(data, q1, q2, tag=tag)\n",
    "    \n",
    "    print(\"train sets for %s starts to gen\" % tag)\n",
    "    X_train, X_test, y_train, y_test = prepare_train_set(dist_features_data, features)\n",
    "    return X_train, X_test, y_train, y_test\n",
    "\n",
    "\n",
    "def test_perform_for(X_train, X_test, y_train, y_test):\n",
    "    rf_clf = RandomForestClassifier(random_state=rand_number)\n",
    "    gbdt_clf = GradientBoostingClassifier(random_state=rand_number)\n",
    "    lr_clf = LogisticRegression(random_state=rand_number)\n",
    "    sgd_clf = SGDClassifier(random_state=rand_number)\n",
    "    xgb_clf = XGBClassifier(random_state=rand_number)\n",
    "#     lgb_clf = LGBMClassifier(random_state=rand_number)\n",
    "#     models=[(rf_clf, \"RandomForest\"), (gbdt_clf, \"GBDT\"), (lr_clf, \"LogsitcRegression\"), (sgd_clf, \"SGD\"), \n",
    "#             (xgb_clf, \"XGBoost\")] , (lgb_clf, \"lightGBM\")]\n",
    "    models=[(xgb_clf, \"XGBoost\")]\n",
    "\n",
    "    perform = []\n",
    "    for t in models:\n",
    "        model, name = t\n",
    "        t_start = time()\n",
    "        model.fit(X_train, y_train.values.ravel())\n",
    "        t_end = time()\n",
    "        y_predprob = model.predict(X_train)\n",
    "        print(name, \"training time cost:\", (t_end-t_start))\n",
    "        y_t = model.predict(X_test)\n",
    "        res = [get_log_loss(y_train, y_predprob), get_log_loss(y_test, y_t)]\n",
    "        perform.append((name, res))\n",
    "    return perform\n",
    "\n",
    "\n",
    "def tfidf():\n",
    "    ft = ['question1', \"question2\"]\n",
    "    train = t_data.loc[:, ft]\n",
    "    \n",
    "    print('Generate tfidf')\n",
    "    feats= ft\n",
    "    vect_orig = TfidfVectorizer(max_features=None,ngram_range=(1, 1), min_df=3)\n",
    "\n",
    "    corpus = []\n",
    "    for f in feats:\n",
    "        train.loc[:, f] = train.loc[:, f].astype(str)\n",
    "        corpus+=train[f].values.tolist()\n",
    "    vect_orig.fit(corpus)\n",
    "    \n",
    "    train_tfidf = vect_orig.transform(corpus)\n",
    "    return train_tfidf\n",
    "\n",
    "\n",
    "def try_n_for_transfer(transfer, tag=\"svd300\"):\n",
    "    X_train, X_test, y_train, y_test = prepare_vec_dist_train_set(\n",
    "        t_data, lambda: transfer.fit_transform(ti), tag=tag)\n",
    "    performance = test_perform_for(X_train, X_test, y_train, y_test)\n",
    "    return (\"%s performance:\"%tag, performance)\n",
    "    \n",
    "\n",
    "\n",
    "features=[ 'cosine_distance_pca300', 'cityblock_distance_pca300', 'jaccard_distance_pca300',\n",
    "       'canberra_distance_pca300', 'euclidean_distance_pca300', 'minkowski_distance_pca300', 'braycurtis_distance_pca300',\n",
    "       'skew_q1vec_pca300', 'skew_q2vec_pca300', 'kur_q1vec_pca300', 'kur_q2vec_pca300']\n",
    "target_col = \"is_duplicate\""
   ]
  },
  {
   "cell_type": "code",
   "execution_count": 3,
   "metadata": {},
   "outputs": [
    {
     "name": "stdout",
     "output_type": "stream",
     "text": [
      "Generate tfidf\n"
     ]
    }
   ],
   "source": [
    "ti = tfidf()"
   ]
  },
  {
   "cell_type": "code",
   "execution_count": 27,
   "metadata": {},
   "outputs": [
    {
     "name": "stdout",
     "output_type": "stream",
     "text": [
      "function 'vec gen for TruncatedSVD_50'starts\n",
      "function 'vec gen for TruncatedSVD_50' use: 0.780925 s\n",
      "dist features for TruncatedSVD_50 starts to gen\n"
     ]
    },
    {
     "name": "stderr",
     "output_type": "stream",
     "text": [
      "/Users/kunfu/miniconda2/envs/tf/lib/python3.5/site-packages/scipy/spatial/distance.py:702: RuntimeWarning: invalid value encountered in double_scalars\n",
      "  dist = 1.0 - uv / np.sqrt(uu * vv)\n"
     ]
    },
    {
     "name": "stdout",
     "output_type": "stream",
     "text": [
      "train sets for TruncatedSVD_50 starts to gen\n",
      "XGBoost training time cost: 0.9808001518249512\n",
      "function 'vec gen for TruncatedSVD_100'starts\n",
      "function 'vec gen for TruncatedSVD_100' use: 1.593821 s\n",
      "dist features for TruncatedSVD_100 starts to gen\n"
     ]
    },
    {
     "name": "stderr",
     "output_type": "stream",
     "text": [
      "/Users/kunfu/miniconda2/envs/tf/lib/python3.5/site-packages/scipy/spatial/distance.py:702: RuntimeWarning: invalid value encountered in double_scalars\n",
      "  dist = 1.0 - uv / np.sqrt(uu * vv)\n"
     ]
    },
    {
     "name": "stdout",
     "output_type": "stream",
     "text": [
      "train sets for TruncatedSVD_100 starts to gen\n",
      "XGBoost training time cost: 0.997204065322876\n",
      "function 'vec gen for TruncatedSVD_200'starts\n",
      "function 'vec gen for TruncatedSVD_200' use: 3.320833 s\n",
      "dist features for TruncatedSVD_200 starts to gen\n"
     ]
    },
    {
     "name": "stderr",
     "output_type": "stream",
     "text": [
      "/Users/kunfu/miniconda2/envs/tf/lib/python3.5/site-packages/scipy/spatial/distance.py:702: RuntimeWarning: invalid value encountered in double_scalars\n",
      "  dist = 1.0 - uv / np.sqrt(uu * vv)\n"
     ]
    },
    {
     "name": "stdout",
     "output_type": "stream",
     "text": [
      "train sets for TruncatedSVD_200 starts to gen\n",
      "XGBoost training time cost: 0.9678761959075928\n",
      "function 'vec gen for TruncatedSVD_300'starts\n",
      "function 'vec gen for TruncatedSVD_300' use: 5.459460 s\n",
      "dist features for TruncatedSVD_300 starts to gen\n"
     ]
    },
    {
     "name": "stderr",
     "output_type": "stream",
     "text": [
      "/Users/kunfu/miniconda2/envs/tf/lib/python3.5/site-packages/scipy/spatial/distance.py:702: RuntimeWarning: invalid value encountered in double_scalars\n",
      "  dist = 1.0 - uv / np.sqrt(uu * vv)\n"
     ]
    },
    {
     "name": "stdout",
     "output_type": "stream",
     "text": [
      "train sets for TruncatedSVD_300 starts to gen\n",
      "XGBoost training time cost: 0.9741940498352051\n",
      "function 'vec gen for NMF_10'starts\n",
      "function 'vec gen for NMF_10' use: 1.315125 s\n",
      "dist features for NMF_10 starts to gen\n"
     ]
    },
    {
     "name": "stderr",
     "output_type": "stream",
     "text": [
      "/Users/kunfu/miniconda2/envs/tf/lib/python3.5/site-packages/scipy/spatial/distance.py:702: RuntimeWarning: invalid value encountered in double_scalars\n",
      "  dist = 1.0 - uv / np.sqrt(uu * vv)\n"
     ]
    },
    {
     "name": "stdout",
     "output_type": "stream",
     "text": [
      "train sets for NMF_10 starts to gen\n",
      "XGBoost training time cost: 0.9557170867919922\n",
      "function 'vec gen for NMF_20'starts\n",
      "function 'vec gen for NMF_20' use: 8.124760 s\n",
      "dist features for NMF_20 starts to gen\n"
     ]
    },
    {
     "name": "stderr",
     "output_type": "stream",
     "text": [
      "/Users/kunfu/miniconda2/envs/tf/lib/python3.5/site-packages/scipy/spatial/distance.py:702: RuntimeWarning: invalid value encountered in double_scalars\n",
      "  dist = 1.0 - uv / np.sqrt(uu * vv)\n"
     ]
    },
    {
     "name": "stdout",
     "output_type": "stream",
     "text": [
      "train sets for NMF_20 starts to gen\n",
      "XGBoost training time cost: 0.9860780239105225\n",
      "function 'vec gen for NMF_30'starts\n",
      "function 'vec gen for NMF_30' use: 7.182917 s\n",
      "dist features for NMF_30 starts to gen\n"
     ]
    },
    {
     "name": "stderr",
     "output_type": "stream",
     "text": [
      "/Users/kunfu/miniconda2/envs/tf/lib/python3.5/site-packages/scipy/spatial/distance.py:702: RuntimeWarning: invalid value encountered in double_scalars\n",
      "  dist = 1.0 - uv / np.sqrt(uu * vv)\n"
     ]
    },
    {
     "name": "stdout",
     "output_type": "stream",
     "text": [
      "train sets for NMF_30 starts to gen\n",
      "XGBoost training time cost: 0.9736499786376953\n",
      "function 'vec gen for LatentDirichletAllocation_10'starts\n",
      "function 'vec gen for LatentDirichletAllocation_10' use: 67.426340 s\n",
      "dist features for LatentDirichletAllocation_10 starts to gen\n",
      "train sets for LatentDirichletAllocation_10 starts to gen\n",
      "XGBoost training time cost: 0.8143031597137451\n",
      "function 'vec gen for LatentDirichletAllocation_20'starts\n",
      "function 'vec gen for LatentDirichletAllocation_20' use: 63.568054 s\n",
      "dist features for LatentDirichletAllocation_20 starts to gen\n",
      "train sets for LatentDirichletAllocation_20 starts to gen\n",
      "XGBoost training time cost: 0.8660018444061279\n",
      "================= result =================\n",
      "TruncatedSVD_50 performance:\t[('XGBoost', [10.379990387737232, 10.94262575153517])]\n",
      "TruncatedSVD_100 performance:\t[('XGBoost', [10.09786930100949, 10.685990880489394])]\n",
      "TruncatedSVD_200 performance:\t[('XGBoost', [9.924485101040071, 10.633894837227968])]\n",
      "TruncatedSVD_300 performance:\t[('XGBoost', [9.742208778814193, 10.384440199625436])]\n",
      "NMF_10 performance:\t[('XGBoost', [11.187939902510804, 11.883620278703015])]\n",
      "NMF_20 performance:\t[('XGBoost', [10.719176449530027, 11.113715665565687])]\n",
      "NMF_30 performance:\t[('XGBoost', [10.781559418557888, 11.135101904819502])]\n",
      "LatentDirichletAllocation_10 performance:\t[('XGBoost', [11.445792972192395, 11.634114154075178])]\n",
      "LatentDirichletAllocation_20 performance:\t[('XGBoost', [11.00307503115586, 11.539254400545003])]\n"
     ]
    }
   ],
   "source": [
    "ms = [\n",
    "      (TruncatedSVD, [50, 100, 200, 300]),\n",
    "      (NMF, [10, 20, 30]),\n",
    "      (LatentDirichletAllocation, [10, 20])\n",
    "     ]\n",
    "reports = []\n",
    "for model_func, n_list in ms:\n",
    "    for n in n_list:\n",
    "        model = model_func(n_components=n)\n",
    "        tag = \"%s_%d\" % (model_func.__name__, n)\n",
    "        reports.append(try_n_for_transfer(model, tag=tag))\n",
    "\n",
    "print(\"================= result =================\")\n",
    "for report in reports:\n",
    "    tags, performances = report\n",
    "    print(\"%s\\t%s\" % (tags, str(performances)))"
   ]
  },
  {
   "cell_type": "code",
   "execution_count": 28,
   "metadata": {},
   "outputs": [
    {
     "name": "stdout",
     "output_type": "stream",
     "text": [
      "function 'vec gen for NMF_50'starts\n",
      "function 'vec gen for NMF_50' use: 19.773376 s\n",
      "dist features for NMF_50 starts to gen\n"
     ]
    },
    {
     "name": "stderr",
     "output_type": "stream",
     "text": [
      "/Users/kunfu/miniconda2/envs/tf/lib/python3.5/site-packages/scipy/spatial/distance.py:702: RuntimeWarning: invalid value encountered in double_scalars\n",
      "  dist = 1.0 - uv / np.sqrt(uu * vv)\n"
     ]
    },
    {
     "name": "stdout",
     "output_type": "stream",
     "text": [
      "train sets for NMF_50 starts to gen\n",
      "XGBoost training time cost: 0.9852018356323242\n",
      "function 'vec gen for NMF_100'starts\n",
      "function 'vec gen for NMF_100' use: 57.651311 s\n",
      "dist features for NMF_100 starts to gen\n"
     ]
    },
    {
     "name": "stderr",
     "output_type": "stream",
     "text": [
      "/Users/kunfu/miniconda2/envs/tf/lib/python3.5/site-packages/scipy/spatial/distance.py:702: RuntimeWarning: invalid value encountered in double_scalars\n",
      "  dist = 1.0 - uv / np.sqrt(uu * vv)\n"
     ]
    },
    {
     "name": "stdout",
     "output_type": "stream",
     "text": [
      "train sets for NMF_100 starts to gen\n",
      "XGBoost training time cost: 0.9566638469696045\n",
      "function 'vec gen for NMF_150'starts\n",
      "function 'vec gen for NMF_150' use: 165.686871 s\n",
      "dist features for NMF_150 starts to gen\n"
     ]
    },
    {
     "name": "stderr",
     "output_type": "stream",
     "text": [
      "/Users/kunfu/miniconda2/envs/tf/lib/python3.5/site-packages/scipy/spatial/distance.py:702: RuntimeWarning: invalid value encountered in double_scalars\n",
      "  dist = 1.0 - uv / np.sqrt(uu * vv)\n"
     ]
    },
    {
     "name": "stdout",
     "output_type": "stream",
     "text": [
      "train sets for NMF_150 starts to gen\n",
      "XGBoost training time cost: 1.10664701461792\n",
      "================= result =================\n",
      "NMF_50 performance:\t[('XGBoost', [10.483362544757968, 10.721634612579086])]\n",
      "NMF_100 performance:\t[('XGBoost', [10.387119502014524, 10.714505866161147])]\n",
      "NMF_150 performance:\t[('XGBoost', [10.358603044905355, 10.693119626907333])]\n"
     ]
    }
   ],
   "source": [
    "ms = [\n",
    "      (NMF, [50, 100, 150])\n",
    "     ]\n",
    "reports = []\n",
    "for model_func, n_list in ms:\n",
    "    for n in n_list:\n",
    "        model = model_func(n_components=n)\n",
    "        tag = \"%s_%d\" % (model_func.__name__, n)\n",
    "        reports.append(try_n_for_transfer(model, tag=tag))\n",
    "\n",
    "print(\"================= result =================\")\n",
    "for report in reports:\n",
    "    tags, performances = report\n",
    "    print(\"%s\\t%s\" % (tags, str(performances)))"
   ]
  },
  {
   "cell_type": "code",
   "execution_count": 7,
   "metadata": {},
   "outputs": [
    {
     "name": "stdout",
     "output_type": "stream",
     "text": [
      "function 'vec gen for nmf100'starts\n",
      "function 'vec gen for nmf100' use: 89.899767 s\n",
      "dist features for nmf100 starts to gen\n"
     ]
    },
    {
     "name": "stderr",
     "output_type": "stream",
     "text": [
      "/Users/kunfu/miniconda2/envs/tf/lib/python3.5/site-packages/scipy/spatial/distance.py:702: RuntimeWarning: invalid value encountered in double_scalars\n",
      "  dist = 1.0 - uv / np.sqrt(uu * vv)\n"
     ]
    },
    {
     "name": "stdout",
     "output_type": "stream",
     "text": [
      "train sets for nmf100 starts to gen\n"
     ]
    },
    {
     "name": "stderr",
     "output_type": "stream",
     "text": [
      "/Users/kunfu/miniconda2/envs/tf/lib/python3.5/site-packages/sklearn/ensemble/forest.py:246: FutureWarning: The default value of n_estimators will change from 10 in version 0.20 to 100 in 0.22.\n",
      "  \"10 in version 0.20 to 100 in 0.22.\", FutureWarning)\n",
      "/Users/kunfu/miniconda2/envs/tf/lib/python3.5/site-packages/ipykernel_launcher.py:124: DataConversionWarning: A column-vector y was passed when a 1d array was expected. Please change the shape of y to (n_samples,), for example using ravel().\n"
     ]
    },
    {
     "name": "stdout",
     "output_type": "stream",
     "text": [
      "RandomForest training time cost: 0.5205888748168945\n",
      "[0.6379569677730905, 11.432149677556074]\n"
     ]
    },
    {
     "name": "stderr",
     "output_type": "stream",
     "text": [
      "/Users/kunfu/miniconda2/envs/tf/lib/python3.5/site-packages/sklearn/utils/validation.py:761: DataConversionWarning: A column-vector y was passed when a 1d array was expected. Please change the shape of y to (n_samples, ), for example using ravel().\n",
      "  y = column_or_1d(y, warn=True)\n"
     ]
    },
    {
     "name": "stdout",
     "output_type": "stream",
     "text": [
      "GBDT training time cost: 1.982990026473999\n",
      "[10.103955327579383, 10.69804031546862]\n",
      "LogsitcRegression training time cost: 0.08344411849975586\n",
      "[11.88595803085617, 11.93105895276114]\n",
      "SGD training time cost: 0.010377168655395508\n",
      "[12.898135566317384, 13.206841242214095]\n"
     ]
    },
    {
     "name": "stderr",
     "output_type": "stream",
     "text": [
      "/Users/kunfu/miniconda2/envs/tf/lib/python3.5/site-packages/sklearn/linear_model/logistic.py:433: FutureWarning: Default solver will be changed to 'lbfgs' in 0.22. Specify a solver to silence this warning.\n",
      "  FutureWarning)\n",
      "/Users/kunfu/miniconda2/envs/tf/lib/python3.5/site-packages/sklearn/utils/validation.py:761: DataConversionWarning: A column-vector y was passed when a 1d array was expected. Please change the shape of y to (n_samples, ), for example using ravel().\n",
      "  y = column_or_1d(y, warn=True)\n",
      "/Users/kunfu/miniconda2/envs/tf/lib/python3.5/site-packages/sklearn/linear_model/stochastic_gradient.py:166: FutureWarning: max_iter and tol parameters have been added in SGDClassifier in 0.19. If both are left unset, they default to max_iter=5 and tol=None. If tol is not None, max_iter defaults to max_iter=1000. From 0.21, default max_iter will be 1000, and default tol will be 1e-3.\n",
      "  FutureWarning)\n",
      "/Users/kunfu/miniconda2/envs/tf/lib/python3.5/site-packages/sklearn/utils/validation.py:761: DataConversionWarning: A column-vector y was passed when a 1d array was expected. Please change the shape of y to (n_samples, ), for example using ravel().\n",
      "  y = column_or_1d(y, warn=True)\n",
      "/Users/kunfu/miniconda2/envs/tf/lib/python3.5/site-packages/sklearn/preprocessing/label.py:219: DataConversionWarning: A column-vector y was passed when a 1d array was expected. Please change the shape of y to (n_samples, ), for example using ravel().\n",
      "  y = column_or_1d(y, warn=True)\n",
      "/Users/kunfu/miniconda2/envs/tf/lib/python3.5/site-packages/sklearn/preprocessing/label.py:252: DataConversionWarning: A column-vector y was passed when a 1d array was expected. Please change the shape of y to (n_samples, ), for example using ravel().\n",
      "  y = column_or_1d(y, warn=True)\n"
     ]
    },
    {
     "name": "stdout",
     "output_type": "stream",
     "text": [
      "XGBoost training time cost: 1.0862648487091064\n",
      "[10.246515543841523, 10.69804031546862]\n"
     ]
    }
   ],
   "source": [
    "def prepare_vec_dist_train_set(data, vec_gen, tag=\"tag\"):\n",
    "    ms = [\n",
    "          (TruncatedSVD, [50, 100, 200, 300]),\n",
    "          (NMF, [10, 20, 30]),\n",
    "          (LatentDirichletAllocation, [10, 20])\n",
    "         ]\n",
    "    reports = []\n",
    "    for model_func, n_list in ms:\n",
    "        for n in n_list:\n",
    "            model = model_func(n_components=n)\n",
    "            tag = \"%s_%d\" % (model_func.__name__, n)\n",
    "            reports.append(try_n_for_transfer(model, tag=tag))\n",
    "            \n",
    "    vec = time_cnt(vec_gen, tag=\"vec gen for %s\" % tag)\n",
    "    single_set_size = int(vec.shape[0]/2)\n",
    "    q1 = vec[:single_set_size]\n",
    "    q2 = vec[single_set_size:]\n",
    "    \n",
    "    print(\"dist features for %s starts to gen\" % tag)\n",
    "    dist_features_data, features = dist_features_for(data, q1, q2, tag=tag)\n",
    "    \n"
   ]
  },
  {
   "cell_type": "code",
   "execution_count": 8,
   "metadata": {},
   "outputs": [
    {
     "name": "stdout",
     "output_type": "stream",
     "text": [
      "function 'vec gen for nmf50'starts\n",
      "function 'vec gen for nmf50' use: 31.636093 s\n",
      "dist features for nmf50 starts to gen\n"
     ]
    },
    {
     "name": "stderr",
     "output_type": "stream",
     "text": [
      "/Users/kunfu/miniconda2/envs/tf/lib/python3.5/site-packages/scipy/spatial/distance.py:702: RuntimeWarning: invalid value encountered in double_scalars\n",
      "  dist = 1.0 - uv / np.sqrt(uu * vv)\n"
     ]
    },
    {
     "name": "stdout",
     "output_type": "stream",
     "text": [
      "train sets for nmf50 starts to gen\n"
     ]
    },
    {
     "name": "stderr",
     "output_type": "stream",
     "text": [
      "/Users/kunfu/miniconda2/envs/tf/lib/python3.5/site-packages/sklearn/ensemble/forest.py:246: FutureWarning: The default value of n_estimators will change from 10 in version 0.20 to 100 in 0.22.\n",
      "  \"10 in version 0.20 to 100 in 0.22.\", FutureWarning)\n",
      "/Users/kunfu/miniconda2/envs/tf/lib/python3.5/site-packages/ipykernel_launcher.py:124: DataConversionWarning: A column-vector y was passed when a 1d array was expected. Please change the shape of y to (n_samples,), for example using ravel().\n"
     ]
    },
    {
     "name": "stdout",
     "output_type": "stream",
     "text": [
      "RandomForest training time cost: 0.5087840557098389\n",
      "[0.5914418074639141, 11.394162049816831]\n"
     ]
    },
    {
     "name": "stderr",
     "output_type": "stream",
     "text": [
      "/Users/kunfu/miniconda2/envs/tf/lib/python3.5/site-packages/sklearn/utils/validation.py:761: DataConversionWarning: A column-vector y was passed when a 1d array was expected. Please change the shape of y to (n_samples, ), for example using ravel().\n",
      "  y = column_or_1d(y, warn=True)\n"
     ]
    },
    {
     "name": "stdout",
     "output_type": "stream",
     "text": [
      "GBDT training time cost: 1.8231358528137207\n",
      "[10.284317935208344, 10.838349266898936]\n",
      "LogsitcRegression training time cost: 0.08590579032897949\n",
      "[12.103179638282608, 12.33476829783173]\n",
      "SGD training time cost: 0.010394811630249023\n",
      "[13.084759264525426, 13.175613277117776]\n"
     ]
    },
    {
     "name": "stderr",
     "output_type": "stream",
     "text": [
      "/Users/kunfu/miniconda2/envs/tf/lib/python3.5/site-packages/sklearn/linear_model/logistic.py:433: FutureWarning: Default solver will be changed to 'lbfgs' in 0.22. Specify a solver to silence this warning.\n",
      "  FutureWarning)\n",
      "/Users/kunfu/miniconda2/envs/tf/lib/python3.5/site-packages/sklearn/utils/validation.py:761: DataConversionWarning: A column-vector y was passed when a 1d array was expected. Please change the shape of y to (n_samples, ), for example using ravel().\n",
      "  y = column_or_1d(y, warn=True)\n",
      "/Users/kunfu/miniconda2/envs/tf/lib/python3.5/site-packages/sklearn/linear_model/stochastic_gradient.py:166: FutureWarning: max_iter and tol parameters have been added in SGDClassifier in 0.19. If both are left unset, they default to max_iter=5 and tol=None. If tol is not None, max_iter defaults to max_iter=1000. From 0.21, default max_iter will be 1000, and default tol will be 1e-3.\n",
      "  FutureWarning)\n",
      "/Users/kunfu/miniconda2/envs/tf/lib/python3.5/site-packages/sklearn/utils/validation.py:761: DataConversionWarning: A column-vector y was passed when a 1d array was expected. Please change the shape of y to (n_samples, ), for example using ravel().\n",
      "  y = column_or_1d(y, warn=True)\n",
      "/Users/kunfu/miniconda2/envs/tf/lib/python3.5/site-packages/sklearn/preprocessing/label.py:219: DataConversionWarning: A column-vector y was passed when a 1d array was expected. Please change the shape of y to (n_samples, ), for example using ravel().\n",
      "  y = column_or_1d(y, warn=True)\n",
      "/Users/kunfu/miniconda2/envs/tf/lib/python3.5/site-packages/sklearn/preprocessing/label.py:252: DataConversionWarning: A column-vector y was passed when a 1d array was expected. Please change the shape of y to (n_samples, ), for example using ravel().\n",
      "  y = column_or_1d(y, warn=True)\n"
     ]
    },
    {
     "name": "stdout",
     "output_type": "stream",
     "text": [
      "XGBoost training time cost: 1.0082080364227295\n",
      "[10.460681606711137, 10.838349266898938]\n"
     ]
    }
   ],
   "source": [
    "n=50\n",
    "model = NMF(n_components=n, init='random', random_state=seed)\n",
    "X_train, X_test, y_train, y_test = prepare_vec_dist_train_set(t_data, lambda: model.fit_transform(ti), tag=\"nmf%d\"%n)\n",
    "test_perform_for(X_train, X_test, y_train, y_test)"
   ]
  },
  {
   "cell_type": "code",
   "execution_count": 47,
   "metadata": {},
   "outputs": [],
   "source": [
    "n=20\n",
    "model = NMF(n_components=n, init='random', random_state=seed)\n",
    "X_train, X_test, y_train, y_test = prepare_vec_dist_train_set(t_data, lambda: model.fit_transform(ti), tag=\"nmf%d\"%n)\n",
    "test_perform_for(X_train, X_test, y_train, y_test)"
   ]
  },
  {
   "cell_type": "code",
   "execution_count": 48,
   "metadata": {},
   "outputs": [
    {
     "name": "stderr",
     "output_type": "stream",
     "text": [
      "S:\\anaconda\\envs\\tf\\lib\\site-packages\\sklearn\\ensemble\\forest.py:246: FutureWarning: The default value of n_estimators will change from 10 in version 0.20 to 100 in 0.22.\n",
      "  \"10 in version 0.20 to 100 in 0.22.\", FutureWarning)\n",
      "S:\\anaconda\\envs\\tf\\lib\\site-packages\\ipykernel_launcher.py:13: DataConversionWarning: A column-vector y was passed when a 1d array was expected. Please change the shape of y to (n_samples,), for example using ravel().\n",
      "  del sys.path[0]\n"
     ]
    },
    {
     "name": "stdout",
     "output_type": "stream",
     "text": [
      "RandomForest training time cost: 13.27211308479309\n",
      "[0.5555409806166707, 10.368125418735417]\n"
     ]
    },
    {
     "name": "stderr",
     "output_type": "stream",
     "text": [
      "S:\\anaconda\\envs\\tf\\lib\\site-packages\\sklearn\\utils\\validation.py:761: DataConversionWarning: A column-vector y was passed when a 1d array was expected. Please change the shape of y to (n_samples, ), for example using ravel().\n",
      "  y = column_or_1d(y, warn=True)\n"
     ]
    },
    {
     "name": "stdout",
     "output_type": "stream",
     "text": [
      "GBDT training time cost: 70.59147572517395\n",
      "[9.954190191819691, 9.963558735729595]\n"
     ]
    },
    {
     "name": "stderr",
     "output_type": "stream",
     "text": [
      "S:\\anaconda\\envs\\tf\\lib\\site-packages\\sklearn\\linear_model\\logistic.py:433: FutureWarning: Default solver will be changed to 'lbfgs' in 0.22. Specify a solver to silence this warning.\n",
      "  FutureWarning)\n",
      "S:\\anaconda\\envs\\tf\\lib\\site-packages\\sklearn\\utils\\validation.py:761: DataConversionWarning: A column-vector y was passed when a 1d array was expected. Please change the shape of y to (n_samples, ), for example using ravel().\n",
      "  y = column_or_1d(y, warn=True)\n"
     ]
    },
    {
     "name": "stdout",
     "output_type": "stream",
     "text": [
      "LogsitcRegression training time cost: 4.357003927230835\n",
      "[10.37515913365344, 10.286858748786647]\n"
     ]
    },
    {
     "name": "stderr",
     "output_type": "stream",
     "text": [
      "S:\\anaconda\\envs\\tf\\lib\\site-packages\\sklearn\\linear_model\\stochastic_gradient.py:166: FutureWarning: max_iter and tol parameters have been added in SGDClassifier in 0.19. If both are left unset, they default to max_iter=5 and tol=None. If tol is not None, max_iter defaults to max_iter=1000. From 0.21, default max_iter will be 1000, and default tol will be 1e-3.\n",
      "  FutureWarning)\n",
      "S:\\anaconda\\envs\\tf\\lib\\site-packages\\sklearn\\utils\\validation.py:761: DataConversionWarning: A column-vector y was passed when a 1d array was expected. Please change the shape of y to (n_samples, ), for example using ravel().\n",
      "  y = column_or_1d(y, warn=True)\n"
     ]
    },
    {
     "name": "stdout",
     "output_type": "stream",
     "text": [
      "SGD training time cost: 0.3970022201538086\n",
      "[11.271201878041868, 11.18918378522867]\n"
     ]
    },
    {
     "name": "stderr",
     "output_type": "stream",
     "text": [
      "S:\\anaconda\\envs\\tf\\lib\\site-packages\\sklearn\\preprocessing\\label.py:219: DataConversionWarning: A column-vector y was passed when a 1d array was expected. Please change the shape of y to (n_samples, ), for example using ravel().\n",
      "  y = column_or_1d(y, warn=True)\n",
      "S:\\anaconda\\envs\\tf\\lib\\site-packages\\sklearn\\preprocessing\\label.py:252: DataConversionWarning: A column-vector y was passed when a 1d array was expected. Please change the shape of y to (n_samples, ), for example using ravel().\n",
      "  y = column_or_1d(y, warn=True)\n"
     ]
    },
    {
     "name": "stdout",
     "output_type": "stream",
     "text": [
      "XGBoost training time cost: 33.20322251319885\n",
      "[9.997253244230228, 9.976367069580215]\n"
     ]
    },
    {
     "name": "stderr",
     "output_type": "stream",
     "text": [
      "S:\\anaconda\\envs\\tf\\lib\\site-packages\\sklearn\\preprocessing\\label.py:219: DataConversionWarning: A column-vector y was passed when a 1d array was expected. Please change the shape of y to (n_samples, ), for example using ravel().\n",
      "  y = column_or_1d(y, warn=True)\n",
      "S:\\anaconda\\envs\\tf\\lib\\site-packages\\sklearn\\preprocessing\\label.py:252: DataConversionWarning: A column-vector y was passed when a 1d array was expected. Please change the shape of y to (n_samples, ), for example using ravel().\n",
      "  y = column_or_1d(y, warn=True)\n"
     ]
    },
    {
     "name": "stdout",
     "output_type": "stream",
     "text": [
      "lightGBM training time cost: 3.113046884536743\n",
      "[9.608719614308256, 9.73963372668598]\n"
     ]
    }
   ],
   "source": []
  },
  {
   "cell_type": "code",
   "execution_count": null,
   "metadata": {},
   "outputs": [],
   "source": []
  }
 ],
 "metadata": {
  "kernelspec": {
   "display_name": "Python 3",
   "language": "python",
   "name": "python3"
  },
  "language_info": {
   "codemirror_mode": {
    "name": "ipython",
    "version": 3
   },
   "file_extension": ".py",
   "mimetype": "text/x-python",
   "name": "python",
   "nbconvert_exporter": "python",
   "pygments_lexer": "ipython3",
   "version": "3.5.6"
  }
 },
 "nbformat": 4,
 "nbformat_minor": 2
}
